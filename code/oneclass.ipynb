{
 "cells": [
  {
   "cell_type": "code",
   "execution_count": 1,
   "metadata": {
    "pycharm": {
     "name": "#%%\n"
    }
   },
   "outputs": [],
   "source": [
    "# Load packages\n",
    "from sklearn.feature_extraction.text import TfidfVectorizer\n",
    "from sklearn.base import TransformerMixin\n",
    "from sklearn.pipeline import Pipeline\n",
    "from sklearn.svm import OneClassSVM\n",
    "from sklearn.metrics import accuracy_score\n",
    "from sklearn.metrics import confusion_matrix\n",
    "from sklearn.metrics import classification_report\n",
    "import pandas as pd\n",
    "from nltk.stem.porter import PorterStemmer\n",
    "import string\n",
    "import spacy\n",
    "from spacy.lang.pt import Portuguese\n",
    "from nltk.corpus import stopwords\n",
    "\n",
    "nlp = spacy.load('pt_core_news_lg')\n",
    "parser = Portuguese()"
   ]
  },
  {
   "cell_type": "markdown",
   "source": [
    "### Preparação dos dados"
   ],
   "metadata": {
    "collapsed": false,
    "pycharm": {
     "name": "#%% md\n"
    }
   }
  },
  {
   "cell_type": "code",
   "execution_count": 17,
   "outputs": [
    {
     "data": {
      "text/plain": "                                                 input  category\n654  qual a finalidade do do programa Selo Turismo ...        -1\n193                        pode me dizer o que é covid        -1\n495  caso surjam novas orientações de higiene preci...        -1\n140  Valorização do destino e das pessoas que vivem...        -1\n389  quero me desligar do programa selo turismo res...        -1\n492  Sairam novas o orientações de higiene divulgad...        -1\n890  SOLICITAR O SELO MESMO ESTANDO COM A ATIVIDADE...        -1\n810  Para o turista vindo do exterior o que represe...        -1\n181                               covid vem do morcego        -1\n659                 o que é o selo turismo responsavel        -1\n141  À princípio, pode parecer que o turismo respon...        -1\n136  A atitude ajuda a reduzir a emissão de poluent...        -1\n305  Preciso higienizar sacolas plásticas do superm...        -1\n323                      Qual a finalidade do Cadastur        -1\n936            quero pedir o selo mas não sei se posso        -1\n809  Para o turista oriundo do exterior o que repre...        -1\n453                                             hoteis        -1\n313  Toalha de rosto compartilhada pode passar covi...        -1",
      "text/html": "<div>\n<style scoped>\n    .dataframe tbody tr th:only-of-type {\n        vertical-align: middle;\n    }\n\n    .dataframe tbody tr th {\n        vertical-align: top;\n    }\n\n    .dataframe thead th {\n        text-align: right;\n    }\n</style>\n<table border=\"1\" class=\"dataframe\">\n  <thead>\n    <tr style=\"text-align: right;\">\n      <th></th>\n      <th>input</th>\n      <th>category</th>\n    </tr>\n  </thead>\n  <tbody>\n    <tr>\n      <th>654</th>\n      <td>qual a finalidade do do programa Selo Turismo ...</td>\n      <td>-1</td>\n    </tr>\n    <tr>\n      <th>193</th>\n      <td>pode me dizer o que é covid</td>\n      <td>-1</td>\n    </tr>\n    <tr>\n      <th>495</th>\n      <td>caso surjam novas orientações de higiene preci...</td>\n      <td>-1</td>\n    </tr>\n    <tr>\n      <th>140</th>\n      <td>Valorização do destino e das pessoas que vivem...</td>\n      <td>-1</td>\n    </tr>\n    <tr>\n      <th>389</th>\n      <td>quero me desligar do programa selo turismo res...</td>\n      <td>-1</td>\n    </tr>\n    <tr>\n      <th>492</th>\n      <td>Sairam novas o orientações de higiene divulgad...</td>\n      <td>-1</td>\n    </tr>\n    <tr>\n      <th>890</th>\n      <td>SOLICITAR O SELO MESMO ESTANDO COM A ATIVIDADE...</td>\n      <td>-1</td>\n    </tr>\n    <tr>\n      <th>810</th>\n      <td>Para o turista vindo do exterior o que represe...</td>\n      <td>-1</td>\n    </tr>\n    <tr>\n      <th>181</th>\n      <td>covid vem do morcego</td>\n      <td>-1</td>\n    </tr>\n    <tr>\n      <th>659</th>\n      <td>o que é o selo turismo responsavel</td>\n      <td>-1</td>\n    </tr>\n    <tr>\n      <th>141</th>\n      <td>À princípio, pode parecer que o turismo respon...</td>\n      <td>-1</td>\n    </tr>\n    <tr>\n      <th>136</th>\n      <td>A atitude ajuda a reduzir a emissão de poluent...</td>\n      <td>-1</td>\n    </tr>\n    <tr>\n      <th>305</th>\n      <td>Preciso higienizar sacolas plásticas do superm...</td>\n      <td>-1</td>\n    </tr>\n    <tr>\n      <th>323</th>\n      <td>Qual a finalidade do Cadastur</td>\n      <td>-1</td>\n    </tr>\n    <tr>\n      <th>936</th>\n      <td>quero pedir o selo mas não sei se posso</td>\n      <td>-1</td>\n    </tr>\n    <tr>\n      <th>809</th>\n      <td>Para o turista oriundo do exterior o que repre...</td>\n      <td>-1</td>\n    </tr>\n    <tr>\n      <th>453</th>\n      <td>hoteis</td>\n      <td>-1</td>\n    </tr>\n    <tr>\n      <th>313</th>\n      <td>Toalha de rosto compartilhada pode passar covi...</td>\n      <td>-1</td>\n    </tr>\n  </tbody>\n</table>\n</div>"
     },
     "execution_count": 17,
     "metadata": {},
     "output_type": "execute_result"
    }
   ],
   "source": [
    "# Import data\n",
    "df_traindata = pd.read_csv('../data/traindata.csv', delimiter=';')\n",
    "df_testdata = pd.read_csv('../data/testdata.csv', delimiter=';')\n",
    "\n",
    "# Data preparation\n",
    "df_traindata['category'] = df_traindata.reset_index().category.map({'covid':-1, 'seloturismo':-1, 'tuberculose':1})\n",
    "df_testdata['category'] = df_testdata.reset_index().category.map({'covid':-1, 'seloturismo':-1, 'tuberculose':1})\n",
    "\n",
    "# create a new dataset with only covid category data\n",
    "dados_classe_alvo = df_traindata[df_traindata['category'] == 1]\n",
    "\n",
    "dados_outliers = df_traindata[df_traindata['category'] == -1].sample(frac=0.02)\n",
    "dados_outliers"
   ],
   "metadata": {
    "collapsed": false,
    "pycharm": {
     "name": "#%%\n"
    }
   }
  },
  {
   "cell_type": "code",
   "execution_count": 77,
   "outputs": [],
   "source": [
    "# create train and test data\n",
    "train_text = dados_classe_alvo['input'].tolist()\n",
    "train_labels = dados_classe_alvo['category'].tolist()\n",
    "\n",
    "outliers_text = dados_outliers['input'].tolist()\n",
    "outliers_labels = dados_outliers['category'].tolist()\n",
    "\n",
    "test_text = df_testdata['input'].tolist()\n",
    "test_labels = df_testdata['category'].tolist()"
   ],
   "metadata": {
    "collapsed": false,
    "pycharm": {
     "name": "#%%\n"
    }
   }
  },
  {
   "cell_type": "markdown",
   "source": [
    "### Limpeza e tokenização dos dados"
   ],
   "metadata": {
    "collapsed": false,
    "pycharm": {
     "name": "#%% md\n"
    }
   }
  },
  {
   "cell_type": "code",
   "execution_count": 19,
   "outputs": [
    {
     "name": "stdout",
     "output_type": "stream",
     "text": [
      "{'tínhamos', 'no', 'com', 'fomos', 'minha', 'numa', 'às', 'foi', 'estivéssemos', 'teus', 'ao', 'estávamos', 'nos', 'será', 'tivermos', 'estão', 'houveremos', 'estive', 'formos', 'hajamos', 'terão', 'houveríamos', 'já', 'tiver', 'terei', 'nossa', 'suas', 'seriam', 'sejam', 'houver', 'não', 'num', 'teríamos', 'aquilo', 'isso', 'que', 'sou', 'seu', 'tivera', 'as', 'houvesse', 'estava', 'meu', 'estivemos', 'por', 'o', 'quem', 'esta', 'eram', 'ser', 'sem', 'seria', 'deles', 'como', 'dela', 'nosso', 'teremos', 'estiveram', 'dele', 'estivessem', 'temos', 'tivemos', 'ou', 'serão', 'essas', 'hajam', 'for', 'nas', 'são', 'tive', 'uma', 'na', 'houveria', 'vocês', 'éramos', 'esteja', 'aquelas', 'aqueles', 'tivéramos', 'só', 'houveram', 'tivéssemos', 'tua', 'aquela', 'para', 'em', 'os', 'teu', 'tinham', 'a', 'eles', 'até', 'houvera', 'isto', 'me', 'tivesse', 'houvéssemos', 'haver', 'fosse', 'houvéramos', 'aquele', 'dos', 'esse', 'muito', 'somos', 'tém', 'tiverem', 'nossas', 'fossem', 'tenho', 'estes', 'lhes', 'tu', 'à', 'houverei', 'vos', 'tem', 'pela', 'tenhamos', 'ele', 'sua', 'teria', 'tuas', 'estar', 'estejamos', 'esses', 'era', 'lhe', 'sejamos', 'houverá', 'também', 'meus', 'estou', 'havemos', 'tivessem', 'ela', 'seríamos', 'está', 'pelo', 'há', 'aos', 'de', 'te', 'essa', 'forem', 'serei', 'nem', 'mesmo', 'haja', 'estejam', 'elas', 'houverem', 'da', 'eu', 'estivera', 'estavam', 'nossos', 'hei', 'pelos', 'estiver', 'pelas', 'minhas', 'houveriam', 'tenham', 'e', 'houverão', 'teve', 'terá', 'teriam', 'do', 'esteve', 'você', 'qual', 'é', 'das', 'estivesse', 'seja', 'nós', 'um', 'mas', 'seremos', 'estas', 'delas', 'estamos', 'estivéramos', 'houve', 'foram', 'este', 'depois', 'houvessem', 'tinha', 'fôssemos', 'houvemos', 'estivermos', 'fôramos', 'fora', 'se', 'entre', 'estiverem', 'houvermos', 'quando', 'hão', 'fui', 'mais', 'seus', 'tenha', 'tiveram'}\n"
     ]
    }
   ],
   "source": [
    "# stop words list\n",
    "STOPLIST = set(stopwords.words('portuguese'))\n",
    "print(STOPLIST)\n",
    "# special characters\n",
    "SYMBOLS = \" \".join(string.punctuation).split(\" \") + [\"-\", \"...\", \"”\", \"”\",\"''\"]"
   ],
   "metadata": {
    "collapsed": false,
    "pycharm": {
     "name": "#%%\n"
    }
   }
  },
  {
   "cell_type": "code",
   "execution_count": 20,
   "outputs": [],
   "source": [
    "# class for cleaning the text\n",
    "class CleanTextTransformer(TransformerMixin):\n",
    "    def transform(self, X, **transform_params):\n",
    "        return [cleanText(text) for text in X]\n",
    "    def fit(self, X, y=None, **fit_params):\n",
    "        return self\n",
    "    def get_params(self, deep=True):\n",
    "            return {}\n",
    "\n",
    "def cleanText(text):\n",
    "    text = text.strip().replace(\"\\n\", \" \").replace(\"\\r\", \" \")\n",
    "    text = text.lower()\n",
    "    return text"
   ],
   "metadata": {
    "collapsed": false,
    "pycharm": {
     "name": "#%%\n"
    }
   }
  },
  {
   "cell_type": "code",
   "execution_count": 21,
   "outputs": [],
   "source": [
    "# tokenizing the raw text\n",
    "def tokenizeText(sample):\n",
    "    tokens = parser(sample)\n",
    "\n",
    "    # lemmatization\n",
    "    lemmas = []\n",
    "    for tok in tokens:\n",
    "        lemmas.append(tok.lemma_.lower().strip() if tok.lemma_ != \"-PRON-\" else tok.lower_)\n",
    "    tokens = lemmas\n",
    "\n",
    "    # remove stop words and special characters\n",
    "    tokens = [tok for tok in tokens if tok.lower() not in STOPLIST]\n",
    "    tokens = [tok for tok in tokens if tok not in SYMBOLS]\n",
    "\n",
    "    # only take words with length greater than or equal to 3\n",
    "    tokens = [tok for tok in tokens if len(tok) >= 3]\n",
    "\n",
    "    # remove remaining tokens that are not alphabetic\n",
    "    tokens = [tok for tok in tokens if tok.isalpha()]\n",
    "\n",
    "    # stemming of words\n",
    "    porter = PorterStemmer()\n",
    "    tokens = [porter.stem(word) for word in tokens]\n",
    "\n",
    "    return list(set(tokens))"
   ],
   "metadata": {
    "collapsed": false,
    "pycharm": {
     "name": "#%%\n"
    }
   }
  },
  {
   "cell_type": "code",
   "execution_count": 22,
   "outputs": [
    {
     "data": {
      "text/plain": "['média',\n 'pessoa',\n 'infectar',\n 'poder',\n 'ativo',\n 'tratamento',\n 'tuberculos',\n 'laríngea',\n 'pulmonar']"
     },
     "execution_count": 22,
     "metadata": {},
     "output_type": "execute_result"
    }
   ],
   "source": [
    "# lets see tokenized random text\n",
    "tokenizeText(nlp(train_text[9]))"
   ],
   "metadata": {
    "collapsed": false,
    "pycharm": {
     "name": "#%%\n"
    }
   }
  },
  {
   "cell_type": "markdown",
   "source": [
    "### Representação dos dados em TF-IDF"
   ],
   "metadata": {
    "collapsed": false,
    "pycharm": {
     "name": "#%% md\n"
    }
   }
  },
  {
   "cell_type": "code",
   "execution_count": 23,
   "outputs": [],
   "source": [
    "tv = TfidfVectorizer(strip_accents='unicode', token_pattern=\"[A-Za-z]+\")\n",
    "train_tf_idf = tv.fit_transform(train_text)\n",
    "outliers_tf_idf = tv.transform(outliers_text)\n",
    "test_tf_idf = tv.transform(test_text)\n",
    "\n",
    "traindata_vect = pd.DataFrame(train_tf_idf.toarray(), columns=tv.get_feature_names_out())\n",
    "outliers_vect = pd.DataFrame(outliers_tf_idf.toarray(), columns=tv.get_feature_names_out())\n",
    "testdata_vect = pd.DataFrame(test_tf_idf.toarray(), columns=tv.get_feature_names_out())"
   ],
   "metadata": {
    "collapsed": false,
    "pycharm": {
     "name": "#%%\n"
    }
   }
  },
  {
   "cell_type": "markdown",
   "source": [
    "### One-class SVM\n",
    "One-class SVM is an unsupervised algorithm that learns a decision function for novelty detection: classifying new data as similar or different to the training set."
   ],
   "metadata": {
    "collapsed": false,
    "pycharm": {
     "name": "#%% md\n"
    }
   }
  },
  {
   "cell_type": "code",
   "execution_count": 55,
   "outputs": [],
   "source": [
    "# OneClassSVM algorithm\n",
    "clf = OneClassSVM(nu=0.0002, kernel=\"rbf\", gamma='scale')\n",
    "pipe_clf = Pipeline([('cleanText', CleanTextTransformer()), ('vectorizer', tv), ('clf', clf)])"
   ],
   "metadata": {
    "collapsed": false,
    "pycharm": {
     "name": "#%%\n"
    }
   }
  },
  {
   "cell_type": "code",
   "execution_count": 56,
   "outputs": [
    {
     "data": {
      "text/plain": "Pipeline(steps=[('cleanText',\n                 <__main__.CleanTextTransformer object at 0x000002A393D6B190>),\n                ('vectorizer',\n                 TfidfVectorizer(strip_accents='unicode',\n                                 token_pattern='[A-Za-z]+')),\n                ('clf', OneClassSVM(nu=0.0002))])",
      "text/html": "<style>#sk-container-id-5 {color: black;background-color: white;}#sk-container-id-5 pre{padding: 0;}#sk-container-id-5 div.sk-toggleable {background-color: white;}#sk-container-id-5 label.sk-toggleable__label {cursor: pointer;display: block;width: 100%;margin-bottom: 0;padding: 0.3em;box-sizing: border-box;text-align: center;}#sk-container-id-5 label.sk-toggleable__label-arrow:before {content: \"▸\";float: left;margin-right: 0.25em;color: #696969;}#sk-container-id-5 label.sk-toggleable__label-arrow:hover:before {color: black;}#sk-container-id-5 div.sk-estimator:hover label.sk-toggleable__label-arrow:before {color: black;}#sk-container-id-5 div.sk-toggleable__content {max-height: 0;max-width: 0;overflow: hidden;text-align: left;background-color: #f0f8ff;}#sk-container-id-5 div.sk-toggleable__content pre {margin: 0.2em;color: black;border-radius: 0.25em;background-color: #f0f8ff;}#sk-container-id-5 input.sk-toggleable__control:checked~div.sk-toggleable__content {max-height: 200px;max-width: 100%;overflow: auto;}#sk-container-id-5 input.sk-toggleable__control:checked~label.sk-toggleable__label-arrow:before {content: \"▾\";}#sk-container-id-5 div.sk-estimator input.sk-toggleable__control:checked~label.sk-toggleable__label {background-color: #d4ebff;}#sk-container-id-5 div.sk-label input.sk-toggleable__control:checked~label.sk-toggleable__label {background-color: #d4ebff;}#sk-container-id-5 input.sk-hidden--visually {border: 0;clip: rect(1px 1px 1px 1px);clip: rect(1px, 1px, 1px, 1px);height: 1px;margin: -1px;overflow: hidden;padding: 0;position: absolute;width: 1px;}#sk-container-id-5 div.sk-estimator {font-family: monospace;background-color: #f0f8ff;border: 1px dotted black;border-radius: 0.25em;box-sizing: border-box;margin-bottom: 0.5em;}#sk-container-id-5 div.sk-estimator:hover {background-color: #d4ebff;}#sk-container-id-5 div.sk-parallel-item::after {content: \"\";width: 100%;border-bottom: 1px solid gray;flex-grow: 1;}#sk-container-id-5 div.sk-label:hover label.sk-toggleable__label {background-color: #d4ebff;}#sk-container-id-5 div.sk-serial::before {content: \"\";position: absolute;border-left: 1px solid gray;box-sizing: border-box;top: 0;bottom: 0;left: 50%;z-index: 0;}#sk-container-id-5 div.sk-serial {display: flex;flex-direction: column;align-items: center;background-color: white;padding-right: 0.2em;padding-left: 0.2em;position: relative;}#sk-container-id-5 div.sk-item {position: relative;z-index: 1;}#sk-container-id-5 div.sk-parallel {display: flex;align-items: stretch;justify-content: center;background-color: white;position: relative;}#sk-container-id-5 div.sk-item::before, #sk-container-id-5 div.sk-parallel-item::before {content: \"\";position: absolute;border-left: 1px solid gray;box-sizing: border-box;top: 0;bottom: 0;left: 50%;z-index: -1;}#sk-container-id-5 div.sk-parallel-item {display: flex;flex-direction: column;z-index: 1;position: relative;background-color: white;}#sk-container-id-5 div.sk-parallel-item:first-child::after {align-self: flex-end;width: 50%;}#sk-container-id-5 div.sk-parallel-item:last-child::after {align-self: flex-start;width: 50%;}#sk-container-id-5 div.sk-parallel-item:only-child::after {width: 0;}#sk-container-id-5 div.sk-dashed-wrapped {border: 1px dashed gray;margin: 0 0.4em 0.5em 0.4em;box-sizing: border-box;padding-bottom: 0.4em;background-color: white;}#sk-container-id-5 div.sk-label label {font-family: monospace;font-weight: bold;display: inline-block;line-height: 1.2em;}#sk-container-id-5 div.sk-label-container {text-align: center;}#sk-container-id-5 div.sk-container {/* jupyter's `normalize.less` sets `[hidden] { display: none; }` but bootstrap.min.css set `[hidden] { display: none !important; }` so we also need the `!important` here to be able to override the default hidden behavior on the sphinx rendered scikit-learn.org. See: https://github.com/scikit-learn/scikit-learn/issues/21755 */display: inline-block !important;position: relative;}#sk-container-id-5 div.sk-text-repr-fallback {display: none;}</style><div id=\"sk-container-id-5\" class=\"sk-top-container\"><div class=\"sk-text-repr-fallback\"><pre>Pipeline(steps=[(&#x27;cleanText&#x27;,\n                 &lt;__main__.CleanTextTransformer object at 0x000002A393D6B190&gt;),\n                (&#x27;vectorizer&#x27;,\n                 TfidfVectorizer(strip_accents=&#x27;unicode&#x27;,\n                                 token_pattern=&#x27;[A-Za-z]+&#x27;)),\n                (&#x27;clf&#x27;, OneClassSVM(nu=0.0002))])</pre><b>In a Jupyter environment, please rerun this cell to show the HTML representation or trust the notebook. <br />On GitHub, the HTML representation is unable to render, please try loading this page with nbviewer.org.</b></div><div class=\"sk-container\" hidden><div class=\"sk-item sk-dashed-wrapped\"><div class=\"sk-label-container\"><div class=\"sk-label sk-toggleable\"><input class=\"sk-toggleable__control sk-hidden--visually\" id=\"sk-estimator-id-17\" type=\"checkbox\" ><label for=\"sk-estimator-id-17\" class=\"sk-toggleable__label sk-toggleable__label-arrow\">Pipeline</label><div class=\"sk-toggleable__content\"><pre>Pipeline(steps=[(&#x27;cleanText&#x27;,\n                 &lt;__main__.CleanTextTransformer object at 0x000002A393D6B190&gt;),\n                (&#x27;vectorizer&#x27;,\n                 TfidfVectorizer(strip_accents=&#x27;unicode&#x27;,\n                                 token_pattern=&#x27;[A-Za-z]+&#x27;)),\n                (&#x27;clf&#x27;, OneClassSVM(nu=0.0002))])</pre></div></div></div><div class=\"sk-serial\"><div class=\"sk-item\"><div class=\"sk-estimator sk-toggleable\"><input class=\"sk-toggleable__control sk-hidden--visually\" id=\"sk-estimator-id-18\" type=\"checkbox\" ><label for=\"sk-estimator-id-18\" class=\"sk-toggleable__label sk-toggleable__label-arrow\">CleanTextTransformer</label><div class=\"sk-toggleable__content\"><pre>&lt;__main__.CleanTextTransformer object at 0x000002A393D6B190&gt;</pre></div></div></div><div class=\"sk-item\"><div class=\"sk-estimator sk-toggleable\"><input class=\"sk-toggleable__control sk-hidden--visually\" id=\"sk-estimator-id-19\" type=\"checkbox\" ><label for=\"sk-estimator-id-19\" class=\"sk-toggleable__label sk-toggleable__label-arrow\">TfidfVectorizer</label><div class=\"sk-toggleable__content\"><pre>TfidfVectorizer(strip_accents=&#x27;unicode&#x27;, token_pattern=&#x27;[A-Za-z]+&#x27;)</pre></div></div></div><div class=\"sk-item\"><div class=\"sk-estimator sk-toggleable\"><input class=\"sk-toggleable__control sk-hidden--visually\" id=\"sk-estimator-id-20\" type=\"checkbox\" ><label for=\"sk-estimator-id-20\" class=\"sk-toggleable__label sk-toggleable__label-arrow\">OneClassSVM</label><div class=\"sk-toggleable__content\"><pre>OneClassSVM(nu=0.0002)</pre></div></div></div></div></div></div></div>"
     },
     "execution_count": 56,
     "metadata": {},
     "output_type": "execute_result"
    }
   ],
   "source": [
    "# fit OneClassSVM model\n",
    "pipe_clf.fit(train_text, train_labels)"
   ],
   "metadata": {
    "collapsed": false,
    "pycharm": {
     "name": "#%%\n"
    }
   }
  },
  {
   "cell_type": "code",
   "execution_count": 57,
   "outputs": [
    {
     "name": "stdout",
     "output_type": "stream",
     "text": [
      "accuracy: 0.11387900355871886\n"
     ]
    }
   ],
   "source": [
    "# validate OneClassSVM model with train set\n",
    "preds_train = pipe_clf.predict(train_text)\n",
    "print(\"accuracy:\", accuracy_score(train_labels, preds_train))"
   ],
   "metadata": {
    "collapsed": false,
    "pycharm": {
     "name": "#%%\n"
    }
   }
  },
  {
   "cell_type": "code",
   "execution_count": 58,
   "outputs": [
    {
     "name": "stdout",
     "output_type": "stream",
     "text": [
      "accuracy: 0.9444444444444444\n"
     ]
    }
   ],
   "source": [
    "# validate OneClassSVM model with outliers set\n",
    "preds_outliers = pipe_clf.predict(outliers_text)\n",
    "print(\"accuracy:\", accuracy_score(outliers_labels, preds_outliers))"
   ],
   "metadata": {
    "collapsed": false,
    "pycharm": {
     "name": "#%%\n"
    }
   }
  },
  {
   "cell_type": "code",
   "execution_count": 59,
   "outputs": [
    {
     "data": {
      "text/plain": "array([-1, -1, -1, -1, -1, -1, -1, -1, -1, -1, -1, -1, -1, -1, -1, -1, -1,\n       -1, -1, -1, -1, -1, -1, -1, -1, -1, -1, -1, -1, -1, -1, -1, -1, -1,\n       -1, -1, -1, -1, -1, -1, -1, -1, -1, -1, -1, -1, -1, -1, -1, -1, -1,\n       -1, -1, -1, -1, -1, -1, -1, -1, -1, -1, -1, -1, -1, -1, -1, -1, -1,\n       -1, -1, -1, -1, -1, -1, -1, -1, -1, -1, -1, -1, -1, -1, -1, -1, -1,\n       -1, -1, -1, -1, -1, -1, -1, -1, -1, -1, -1, -1, -1, -1, -1, -1,  1,\n       -1, -1, -1, -1, -1, -1, -1, -1, -1, -1, -1, -1, -1, -1, -1, -1, -1,\n       -1, -1, -1, -1, -1, -1, -1, -1, -1, -1, -1, -1, -1, -1, -1, -1, -1,\n       -1, -1, -1, -1, -1, -1, -1, -1, -1, -1, -1, -1, -1, -1, -1, -1, -1,\n       -1, -1, -1, -1, -1, -1, -1, -1, -1, -1, -1, -1, -1, -1, -1, -1, -1,\n       -1, -1, -1, -1, -1, -1, -1, -1,  1, -1, -1, -1, -1, -1, -1, -1, -1,\n       -1, -1, -1, -1, -1, -1, -1, -1, -1, -1, -1, -1, -1, -1, -1, -1, -1,\n       -1, -1, -1, -1, -1, -1, -1, -1,  1, -1, -1, -1, -1,  1, -1, -1, -1,\n       -1, -1, -1, -1, -1, -1, -1, -1, -1, -1, -1, -1, -1, -1, -1, -1, -1,\n       -1, -1, -1, -1, -1, -1, -1, -1, -1, -1, -1, -1, -1, -1, -1, -1, -1,\n       -1, -1, -1, -1, -1, -1, -1, -1, -1, -1, -1, -1, -1, -1, -1, -1, -1,\n       -1, -1, -1, -1, -1, -1, -1, -1, -1, -1, -1, -1, -1, -1, -1, -1, -1,\n       -1, -1,  1, -1,  1, -1, -1, -1, -1, -1, -1, -1, -1, -1, -1, -1, -1,\n       -1, -1, -1, -1, -1, -1, -1, -1,  1, -1, -1, -1, -1, -1, -1, -1, -1,\n       -1, -1, -1, -1, -1, -1, -1, -1, -1, -1, -1, -1, -1, -1, -1, -1, -1,\n       -1, -1, -1, -1, -1, -1, -1, -1, -1, -1, -1, -1, -1, -1, -1, -1, -1,\n       -1, -1, -1, -1, -1, -1, -1, -1, -1, -1, -1, -1, -1, -1, -1, -1, -1,\n       -1, -1, -1, -1, -1, -1, -1, -1, -1, -1, -1, -1, -1, -1, -1, -1, -1,\n       -1, -1, -1, -1, -1, -1, -1, -1, -1, -1, -1, -1, -1, -1, -1, -1, -1,\n       -1, -1, -1, -1, -1, -1, -1, -1, -1, -1, -1, -1,  1, -1, -1, -1, -1,\n       -1, -1, -1, -1, -1, -1, -1, -1, -1, -1, -1, -1, -1, -1, -1, -1, -1,\n       -1, -1, -1, -1, -1, -1, -1, -1, -1, -1, -1, -1, -1, -1, -1, -1, -1,\n       -1, -1, -1, -1, -1, -1, -1, -1, -1, -1, -1, -1, -1, -1, -1, -1, -1,\n       -1], dtype=int64)"
     },
     "execution_count": 59,
     "metadata": {},
     "output_type": "execute_result"
    }
   ],
   "source": [
    "# validate OneClassSVM model with test set\n",
    "preds_test = pipe_clf.predict(test_text)\n",
    "preds_test"
   ],
   "metadata": {
    "collapsed": false,
    "pycharm": {
     "name": "#%%\n"
    }
   }
  },
  {
   "cell_type": "code",
   "execution_count": 60,
   "outputs": [
    {
     "name": "stdout",
     "output_type": "stream",
     "text": [
      "Train erros:  249\n",
      "Test erros:  469\n",
      "Outliers erros:  1\n"
     ]
    }
   ],
   "source": [
    "# calculate prediction errors\n",
    "n_error_train = preds_train[preds_train == -1].size\n",
    "n_error_test = preds_test[preds_test == -1].size\n",
    "n_error_outliers = preds_outliers[preds_outliers == 1].size\n",
    "\n",
    "print('Train erros: ', n_error_train)\n",
    "print('Test erros: ', n_error_test)\n",
    "print('Outliers erros: ', n_error_outliers)"
   ],
   "metadata": {
    "collapsed": false,
    "pycharm": {
     "name": "#%%\n"
    }
   }
  },
  {
   "cell_type": "code",
   "execution_count": 61,
   "outputs": [
    {
     "data": {
      "text/plain": "'Qual o protocolo de acompanhamento dos acometidos por tuberculose?'"
     },
     "execution_count": 61,
     "metadata": {},
     "output_type": "execute_result"
    }
   ],
   "source": [
    "# let's take random text from dataset\n",
    "test_text[289]"
   ],
   "metadata": {
    "collapsed": false,
    "pycharm": {
     "name": "#%%\n"
    }
   }
  },
  {
   "cell_type": "code",
   "execution_count": 62,
   "outputs": [
    {
     "name": "stdout",
     "output_type": "stream",
     "text": [
      "Confusion Matrix :\n",
      "[[316   2]\n",
      " [153   6]]\n",
      "Accuracy Score : 0.6750524109014675\n",
      "Report : \n",
      "              precision    recall  f1-score   support\n",
      "\n",
      "          -1       0.67      0.99      0.80       318\n",
      "           1       0.75      0.04      0.07       159\n",
      "\n",
      "    accuracy                           0.68       477\n",
      "   macro avg       0.71      0.52      0.44       477\n",
      "weighted avg       0.70      0.68      0.56       477\n",
      "\n"
     ]
    }
   ],
   "source": [
    "# results\n",
    "results = confusion_matrix(test_labels, preds_test)\n",
    "print('Confusion Matrix :')\n",
    "print(results)\n",
    "print('Accuracy Score :', accuracy_score(test_labels, preds_test))\n",
    "print('Report : ')\n",
    "print(classification_report(test_labels, preds_test))"
   ],
   "metadata": {
    "collapsed": false,
    "pycharm": {
     "name": "#%%\n"
    }
   }
  },
  {
   "cell_type": "code",
   "execution_count": 32,
   "outputs": [
    {
     "data": {
      "text/plain": "1"
     },
     "execution_count": 32,
     "metadata": {},
     "output_type": "execute_result"
    }
   ],
   "source": [
    "# check actual category\n",
    "test_labels[289]"
   ],
   "metadata": {
    "collapsed": false,
    "pycharm": {
     "name": "#%%\n"
    }
   }
  },
  {
   "cell_type": "code",
   "execution_count": 33,
   "outputs": [
    {
     "data": {
      "text/plain": "array([-1], dtype=int64)"
     },
     "execution_count": 33,
     "metadata": {},
     "output_type": "execute_result"
    }
   ],
   "source": [
    "# let's predict the category of above random text\n",
    "pipe_clf.predict([test_text[289]])"
   ],
   "metadata": {
    "collapsed": false,
    "pycharm": {
     "name": "#%%\n"
    }
   }
  },
  {
   "cell_type": "code",
   "execution_count": 81,
   "outputs": [
    {
     "name": "stdout",
     "output_type": "stream",
     "text": [
      "Accuracy: 0.11\n"
     ]
    }
   ],
   "source": [
    "import numpy as np\n",
    "from sklearn.datasets import fetch_20newsgroups\n",
    "from sklearn.feature_extraction.text import TfidfVectorizer\n",
    "from sklearn.svm import OneClassSVM\n",
    "from sklearn.model_selection import train_test_split\n",
    "\n",
    "# Seleciona as categorias desejadas\n",
    "categories = ['sci.med', 'comp.graphics', 'rec.sport.baseball']\n",
    "newsgroups = fetch_20newsgroups(subset='all', categories=categories)\n",
    "\n",
    "# Converte os textos em vetores de características com TF-IDF\n",
    "vectorizer = TfidfVectorizer()\n",
    "X = vectorizer.fit_transform(newsgroups.data)\n",
    "\n",
    "# Cria o modelo One-class SVM\n",
    "clf = OneClassSVM(kernel='rbf', gamma='auto')\n",
    "\n",
    "# Separa os dados em conjunto de treinamento e teste\n",
    "X_train, X_test, y_train, y_test = train_test_split(X, newsgroups.target, test_size=0.2, random_state=42)\n",
    "\n",
    "# Treina o modelo com os dados de treinamento\n",
    "clf.fit(X_train, y_train)\n",
    "\n",
    "# Realiza as predições com os dados de teste\n",
    "y_pred = clf.predict(X_test)\n",
    "\n",
    "# Calcula a precisão do modelo\n",
    "accuracy = np.mean(y_pred == y_test)\n",
    "print(\"Accuracy: {:.2f}\".format(accuracy))\n"
   ],
   "metadata": {
    "collapsed": false,
    "pycharm": {
     "name": "#%%\n"
    }
   }
  },
  {
   "cell_type": "code",
   "execution_count": null,
   "outputs": [],
   "source": [],
   "metadata": {
    "collapsed": false,
    "pycharm": {
     "name": "#%%\n"
    }
   }
  }
 ],
 "metadata": {
  "kernelspec": {
   "display_name": "Python 3.8.13 ('chatbot_env')",
   "language": "python",
   "name": "python3"
  },
  "language_info": {
   "codemirror_mode": {
    "name": "ipython",
    "version": 3
   },
   "file_extension": ".py",
   "mimetype": "text/x-python",
   "name": "python",
   "nbconvert_exporter": "python",
   "pygments_lexer": "ipython3",
   "version": "3.8.13"
  },
  "orig_nbformat": 4,
  "vscode": {
   "interpreter": {
    "hash": "b31d2b12a8e3fd9c881a5a24e7147d0c74845586ee91bf16f1bd9f2a67f59324"
   }
  }
 },
 "nbformat": 4,
 "nbformat_minor": 2
}