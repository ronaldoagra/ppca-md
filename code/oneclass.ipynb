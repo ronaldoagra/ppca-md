{
 "cells": [
  {
   "cell_type": "code",
   "execution_count": 1,
   "metadata": {
    "pycharm": {
     "name": "#%%\n"
    }
   },
   "outputs": [],
   "source": [
    "# Load packages\n",
    "from sklearn.feature_extraction.text import TfidfVectorizer\n",
    "from sklearn.base import TransformerMixin\n",
    "from sklearn.pipeline import Pipeline\n",
    "from sklearn.svm import OneClassSVM\n",
    "from sklearn.metrics import accuracy_score\n",
    "from sklearn.metrics import confusion_matrix\n",
    "from sklearn.metrics import classification_report\n",
    "import pandas as pd\n",
    "from nltk.stem.porter import PorterStemmer\n",
    "import string\n",
    "import spacy\n",
    "from spacy.lang.pt import Portuguese\n",
    "from nltk.corpus import stopwords\n",
    "\n",
    "nlp = spacy.load('pt_core_news_lg')\n",
    "parser = Portuguese()"
   ]
  },
  {
   "cell_type": "markdown",
   "metadata": {
    "collapsed": false,
    "pycharm": {
     "name": "#%% md\n"
    }
   },
   "source": [
    "### Preparação dos dados"
   ]
  },
  {
   "cell_type": "code",
   "execution_count": 2,
   "metadata": {
    "collapsed": false,
    "pycharm": {
     "name": "#%%\n"
    }
   },
   "outputs": [
    {
     "data": {
      "text/html": [
       "<div>\n",
       "<style scoped>\n",
       "    .dataframe tbody tr th:only-of-type {\n",
       "        vertical-align: middle;\n",
       "    }\n",
       "\n",
       "    .dataframe tbody tr th {\n",
       "        vertical-align: top;\n",
       "    }\n",
       "\n",
       "    .dataframe thead th {\n",
       "        text-align: right;\n",
       "    }\n",
       "</style>\n",
       "<table border=\"1\" class=\"dataframe\">\n",
       "  <thead>\n",
       "    <tr style=\"text-align: right;\">\n",
       "      <th></th>\n",
       "      <th>input</th>\n",
       "      <th>category</th>\n",
       "    </tr>\n",
       "  </thead>\n",
       "  <tbody>\n",
       "    <tr>\n",
       "      <th>429</th>\n",
       "      <td>quais são os protocolos e medidas de proteção ...</td>\n",
       "      <td>-1</td>\n",
       "    </tr>\n",
       "    <tr>\n",
       "      <th>772</th>\n",
       "      <td>as empresas serão fiscalizadas</td>\n",
       "      <td>-1</td>\n",
       "    </tr>\n",
       "    <tr>\n",
       "      <th>371</th>\n",
       "      <td>atendimento ao cidadao</td>\n",
       "      <td>-1</td>\n",
       "    </tr>\n",
       "    <tr>\n",
       "      <th>43</th>\n",
       "      <td>Existe risco se uma pessoa tomar vacinas difer...</td>\n",
       "      <td>-1</td>\n",
       "    </tr>\n",
       "    <tr>\n",
       "      <th>508</th>\n",
       "      <td>A adoção dos protocolos do selo levou em consi...</td>\n",
       "      <td>-1</td>\n",
       "    </tr>\n",
       "    <tr>\n",
       "      <th>258</th>\n",
       "      <td>posso contrair covid na troca de curativos</td>\n",
       "      <td>-1</td>\n",
       "    </tr>\n",
       "    <tr>\n",
       "      <th>259</th>\n",
       "      <td>protejo sempre a boca com máscara posso pegar ...</td>\n",
       "      <td>-1</td>\n",
       "    </tr>\n",
       "    <tr>\n",
       "      <th>597</th>\n",
       "      <td>quanto custa tres selos</td>\n",
       "      <td>-1</td>\n",
       "    </tr>\n",
       "    <tr>\n",
       "      <th>292</th>\n",
       "      <td>minhas encomendas de área infectadas via corre...</td>\n",
       "      <td>-1</td>\n",
       "    </tr>\n",
       "    <tr>\n",
       "      <th>655</th>\n",
       "      <td>o que o governo brasileiro espera com o selo</td>\n",
       "      <td>-1</td>\n",
       "    </tr>\n",
       "    <tr>\n",
       "      <th>840</th>\n",
       "      <td>como turista posso confiar na aplicabilidade d...</td>\n",
       "      <td>-1</td>\n",
       "    </tr>\n",
       "    <tr>\n",
       "      <th>829</th>\n",
       "      <td>O Selo Turismo Responsavel criará um novo conc...</td>\n",
       "      <td>-1</td>\n",
       "    </tr>\n",
       "    <tr>\n",
       "      <th>726</th>\n",
       "      <td>Como Fazer a Adesão ao programa de Selo Turism...</td>\n",
       "      <td>-1</td>\n",
       "    </tr>\n",
       "    <tr>\n",
       "      <th>363</th>\n",
       "      <td>ouvidoria</td>\n",
       "      <td>-1</td>\n",
       "    </tr>\n",
       "    <tr>\n",
       "      <th>956</th>\n",
       "      <td>QUAIS SÃO OS EMPREENDIMENTOS QUE PODEM UTILIZA...</td>\n",
       "      <td>-1</td>\n",
       "    </tr>\n",
       "    <tr>\n",
       "      <th>572</th>\n",
       "      <td>qual A TAXA cobrada pelo selo TURISTA RESPONSAVEL</td>\n",
       "      <td>-1</td>\n",
       "    </tr>\n",
       "    <tr>\n",
       "      <th>118</th>\n",
       "      <td>padronizações nos protocolos higiênicos em cad...</td>\n",
       "      <td>-1</td>\n",
       "    </tr>\n",
       "    <tr>\n",
       "      <th>465</th>\n",
       "      <td>E o setor hoteleiro qual protocolo deve seguir</td>\n",
       "      <td>-1</td>\n",
       "    </tr>\n",
       "    <tr>\n",
       "      <th>61</th>\n",
       "      <td>Por que é preciso esperar entre uma dose e outra?</td>\n",
       "      <td>-1</td>\n",
       "    </tr>\n",
       "    <tr>\n",
       "      <th>356</th>\n",
       "      <td>FAZER O CADASTRAMENTO</td>\n",
       "      <td>-1</td>\n",
       "    </tr>\n",
       "    <tr>\n",
       "      <th>64</th>\n",
       "      <td>É normal ter alguma reação após tomar a vacina?</td>\n",
       "      <td>-1</td>\n",
       "    </tr>\n",
       "    <tr>\n",
       "      <th>63</th>\n",
       "      <td>Quem não pode tomar a vacina?</td>\n",
       "      <td>-1</td>\n",
       "    </tr>\n",
       "    <tr>\n",
       "      <th>773</th>\n",
       "      <td>QUEM FARA A FISCALIZAÇÃO NOS ESTABELECIMENTOS</td>\n",
       "      <td>-1</td>\n",
       "    </tr>\n",
       "    <tr>\n",
       "      <th>895</th>\n",
       "      <td>O REGISTRO NO CADASTRO CADASTUR É CONDIÇÃO EXI...</td>\n",
       "      <td>-1</td>\n",
       "    </tr>\n",
       "    <tr>\n",
       "      <th>30</th>\n",
       "      <td>Tomei a vacina no exterior, devo me vacinar no...</td>\n",
       "      <td>-1</td>\n",
       "    </tr>\n",
       "    <tr>\n",
       "      <th>16</th>\n",
       "      <td>Quem serão os primeiros a receber a vacina?</td>\n",
       "      <td>-1</td>\n",
       "    </tr>\n",
       "    <tr>\n",
       "      <th>355</th>\n",
       "      <td>PREENCHER O CADASTRAMENTO</td>\n",
       "      <td>-1</td>\n",
       "    </tr>\n",
       "    <tr>\n",
       "      <th>223</th>\n",
       "      <td>A OPAS ou a OMS divulgaram uma receita de gel ...</td>\n",
       "      <td>-1</td>\n",
       "    </tr>\n",
       "    <tr>\n",
       "      <th>3</th>\n",
       "      <td>Qual a diferença entre COVID-19 e o novo coron...</td>\n",
       "      <td>-1</td>\n",
       "    </tr>\n",
       "    <tr>\n",
       "      <th>362</th>\n",
       "      <td>falar com a ouvidoria e acesso a informação</td>\n",
       "      <td>-1</td>\n",
       "    </tr>\n",
       "    <tr>\n",
       "      <th>955</th>\n",
       "      <td>SAO TODOS OS ESTABELECIMENTOS TURISTICOS QUE P...</td>\n",
       "      <td>-1</td>\n",
       "    </tr>\n",
       "    <tr>\n",
       "      <th>675</th>\n",
       "      <td>onde consulto os estabelecimentos que ja aderi...</td>\n",
       "      <td>-1</td>\n",
       "    </tr>\n",
       "    <tr>\n",
       "      <th>544</th>\n",
       "      <td>OS PREÇOS TERÃO ACRESCIMOS DEVIDO A IMPLEMENTA...</td>\n",
       "      <td>-1</td>\n",
       "    </tr>\n",
       "    <tr>\n",
       "      <th>529</th>\n",
       "      <td>como farei com as despesas extraordinarias dep...</td>\n",
       "      <td>-1</td>\n",
       "    </tr>\n",
       "    <tr>\n",
       "      <th>876</th>\n",
       "      <td>POSSO COMPRAR UM PACOTE DE VIAGEM O SELO GARAN...</td>\n",
       "      <td>-1</td>\n",
       "    </tr>\n",
       "    <tr>\n",
       "      <th>645</th>\n",
       "      <td>esse selo é o que mesmo?</td>\n",
       "      <td>-1</td>\n",
       "    </tr>\n",
       "    <tr>\n",
       "      <th>450</th>\n",
       "      <td>pousadas</td>\n",
       "      <td>-1</td>\n",
       "    </tr>\n",
       "    <tr>\n",
       "      <th>760</th>\n",
       "      <td>como me cadastrar para receber o selo</td>\n",
       "      <td>-1</td>\n",
       "    </tr>\n",
       "    <tr>\n",
       "      <th>647</th>\n",
       "      <td>qual papel deste selo turismo responsavel</td>\n",
       "      <td>-1</td>\n",
       "    </tr>\n",
       "    <tr>\n",
       "      <th>926</th>\n",
       "      <td>para quais estabelecimentos</td>\n",
       "      <td>-1</td>\n",
       "    </tr>\n",
       "    <tr>\n",
       "      <th>691</th>\n",
       "      <td>COMO PESQUISO QUAIS EMPRESAS ADERIRAM AO PROGR...</td>\n",
       "      <td>-1</td>\n",
       "    </tr>\n",
       "    <tr>\n",
       "      <th>845</th>\n",
       "      <td>terei beneficios</td>\n",
       "      <td>-1</td>\n",
       "    </tr>\n",
       "    <tr>\n",
       "      <th>270</th>\n",
       "      <td>minha parente tem covid-19 mas não tem sintoma</td>\n",
       "      <td>-1</td>\n",
       "    </tr>\n",
       "    <tr>\n",
       "      <th>265</th>\n",
       "      <td>Se eu abraçar meu filho ele pode pegar</td>\n",
       "      <td>-1</td>\n",
       "    </tr>\n",
       "    <tr>\n",
       "      <th>803</th>\n",
       "      <td>O QUE O SELO TURISMO RESPONSÁVEL REPRESENTA PA...</td>\n",
       "      <td>-1</td>\n",
       "    </tr>\n",
       "    <tr>\n",
       "      <th>481</th>\n",
       "      <td>o protocolo muda</td>\n",
       "      <td>-1</td>\n",
       "    </tr>\n",
       "  </tbody>\n",
       "</table>\n",
       "</div>"
      ],
      "text/plain": [
       "                                                 input  category\n",
       "429  quais são os protocolos e medidas de proteção ...        -1\n",
       "772                     as empresas serão fiscalizadas        -1\n",
       "371                             atendimento ao cidadao        -1\n",
       "43   Existe risco se uma pessoa tomar vacinas difer...        -1\n",
       "508  A adoção dos protocolos do selo levou em consi...        -1\n",
       "258         posso contrair covid na troca de curativos        -1\n",
       "259  protejo sempre a boca com máscara posso pegar ...        -1\n",
       "597                            quanto custa tres selos        -1\n",
       "292  minhas encomendas de área infectadas via corre...        -1\n",
       "655       o que o governo brasileiro espera com o selo        -1\n",
       "840  como turista posso confiar na aplicabilidade d...        -1\n",
       "829  O Selo Turismo Responsavel criará um novo conc...        -1\n",
       "726  Como Fazer a Adesão ao programa de Selo Turism...        -1\n",
       "363                                          ouvidoria        -1\n",
       "956  QUAIS SÃO OS EMPREENDIMENTOS QUE PODEM UTILIZA...        -1\n",
       "572  qual A TAXA cobrada pelo selo TURISTA RESPONSAVEL        -1\n",
       "118  padronizações nos protocolos higiênicos em cad...        -1\n",
       "465     E o setor hoteleiro qual protocolo deve seguir        -1\n",
       "61   Por que é preciso esperar entre uma dose e outra?        -1\n",
       "356                              FAZER O CADASTRAMENTO        -1\n",
       "64     É normal ter alguma reação após tomar a vacina?        -1\n",
       "63                       Quem não pode tomar a vacina?        -1\n",
       "773      QUEM FARA A FISCALIZAÇÃO NOS ESTABELECIMENTOS        -1\n",
       "895  O REGISTRO NO CADASTRO CADASTUR É CONDIÇÃO EXI...        -1\n",
       "30   Tomei a vacina no exterior, devo me vacinar no...        -1\n",
       "16         Quem serão os primeiros a receber a vacina?        -1\n",
       "355                          PREENCHER O CADASTRAMENTO        -1\n",
       "223  A OPAS ou a OMS divulgaram uma receita de gel ...        -1\n",
       "3    Qual a diferença entre COVID-19 e o novo coron...        -1\n",
       "362        falar com a ouvidoria e acesso a informação        -1\n",
       "955  SAO TODOS OS ESTABELECIMENTOS TURISTICOS QUE P...        -1\n",
       "675  onde consulto os estabelecimentos que ja aderi...        -1\n",
       "544  OS PREÇOS TERÃO ACRESCIMOS DEVIDO A IMPLEMENTA...        -1\n",
       "529  como farei com as despesas extraordinarias dep...        -1\n",
       "876  POSSO COMPRAR UM PACOTE DE VIAGEM O SELO GARAN...        -1\n",
       "645                           esse selo é o que mesmo?        -1\n",
       "450                                           pousadas        -1\n",
       "760              como me cadastrar para receber o selo        -1\n",
       "647          qual papel deste selo turismo responsavel        -1\n",
       "926                        para quais estabelecimentos        -1\n",
       "691  COMO PESQUISO QUAIS EMPRESAS ADERIRAM AO PROGR...        -1\n",
       "845                                   terei beneficios        -1\n",
       "270     minha parente tem covid-19 mas não tem sintoma        -1\n",
       "265             Se eu abraçar meu filho ele pode pegar        -1\n",
       "803  O QUE O SELO TURISMO RESPONSÁVEL REPRESENTA PA...        -1\n",
       "481                                   o protocolo muda        -1"
      ]
     },
     "execution_count": 2,
     "metadata": {},
     "output_type": "execute_result"
    }
   ],
   "source": [
    "# Import data\n",
    "df_traindata = pd.read_csv('../data/traindata.csv', delimiter=';')\n",
    "df_testdata = pd.read_csv('../data/testdata.csv', delimiter=';')\n",
    "\n",
    "# Data preparation\n",
    "df_traindata['category'] = df_traindata.reset_index().category.map({'covid':-1, 'seloturismo':-1, 'tuberculose':1})\n",
    "df_testdata['category'] = df_testdata.reset_index().category.map({'covid':-1, 'seloturismo':-1, 'tuberculose':1})\n",
    "\n",
    "# create a new dataset with only covid category data\n",
    "dados_classe_alvo = df_traindata[df_traindata['category'] == 1]\n",
    "\n",
    "dados_outliers = df_traindata[df_traindata['category'] == -1].sample(frac=0.05)\n",
    "dados_outliers"
   ]
  },
  {
   "cell_type": "code",
   "execution_count": 3,
   "metadata": {
    "collapsed": false,
    "pycharm": {
     "name": "#%%\n"
    }
   },
   "outputs": [],
   "source": [
    "# create train and test data\n",
    "train_text = dados_classe_alvo['input'].tolist()\n",
    "train_labels = dados_classe_alvo['category'].tolist()\n",
    "\n",
    "outliers_text = dados_outliers['input'].tolist()\n",
    "outliers_labels = dados_outliers['category'].tolist()\n",
    "\n",
    "test_text = df_testdata['input'].tolist()\n",
    "test_labels = df_testdata['category'].tolist()"
   ]
  },
  {
   "cell_type": "markdown",
   "metadata": {
    "collapsed": false,
    "pycharm": {
     "name": "#%% md\n"
    }
   },
   "source": [
    "### Limpeza e tokenização dos dados"
   ]
  },
  {
   "cell_type": "code",
   "execution_count": 4,
   "metadata": {
    "collapsed": false,
    "pycharm": {
     "name": "#%%\n"
    }
   },
   "outputs": [
    {
     "name": "stdout",
     "output_type": "stream",
     "text": [
      "{'tiver', 'até', 'dos', 'estivéramos', 'estejamos', 'houvéramos', 'tinham', 'elas', 'essas', 'eu', 'esteve', 'hei', 'houverá', 'havemos', 'pelo', 'tivéssemos', 'seus', 'fomos', 'estão', 'eles', 'seu', 'tu', 'no', 'num', 'mas', 'tivera', 'teríamos', 'foram', 'foi', 'às', 'como', 'hajam', 'tenhamos', 'estive', 'éramos', 'o', 'sou', 'há', 'suas', 'tivesse', 'seria', 'ou', 'pela', 'fosse', 'fora', 'à', 'estiveram', 'ser', 'você', 'hão', 'lhes', 'nossos', 'estar', 'estes', 'ela', 'por', 'tuas', 'aqueles', 'aquele', 'teria', 'haja', 'seja', 'para', 'tínhamos', 'pelas', 'que', 'estamos', 'são', 'já', 'minhas', 'não', 'tenho', 'quem', 'com', 'estiverem', 'nem', 'estivessem', 'fôramos', 'qual', 'sejam', 'só', 'está', 'esta', 'estejam', 'entre', 'houverei', 'sejamos', 'tivemos', 'a', 'estiver', 'do', 'esse', 'hajamos', 'meus', 'houvera', 'houvéssemos', 'seríamos', 'teremos', 'tenham', 'isto', 'depois', 'de', 'houveríamos', 'nossa', 'forem', 'se', 'esteja', 'te', 'isso', 'ele', 'os', 'delas', 'tivermos', 'houvermos', 'temos', 'das', 'seriam', 'as', 'quando', 'terei', 'teve', 'meu', 'muito', 'tivessem', 'formos', 'houvemos', 'é', 'teu', 'deles', 'mais', 'um', 'aquelas', 'pelos', 'também', 'haver', 'nossas', 'houvessem', 'houveremos', 'eram', 'fôssemos', 'estivera', 'tem', 'houverão', 'somos', 'estavam', 'tiveram', 'essa', 'mesmo', 'estas', 'da', 'dela', 'em', 'este', 'estivéssemos', 'houver', 'nós', 'era', 'estivesse', 'teriam', 'aquela', 'houveria', 'será', 'uma', 'serão', 'nas', 'tua', 'aquilo', 'teus', 'minha', 'fui', 'houverem', 'aos', 'terão', 'houve', 'e', 'for', 'nosso', 'tém', 'tive', 'estivermos', 'na', 'tiverem', 'estivemos', 'ao', 'dele', 'estou', 'fossem', 'estávamos', 'houveram', 'serei', 'esses', 'terá', 'houveriam', 'tivéramos', 'seremos', 'estava', 'vos', 'lhe', 'numa', 'vocês', 'tenha', 'nos', 'me', 'sem', 'tinha', 'sua', 'houvesse'}\n"
     ]
    }
   ],
   "source": [
    "# stop words list\n",
    "STOPLIST = set(stopwords.words('portuguese'))\n",
    "print(STOPLIST)\n",
    "# special characters\n",
    "SYMBOLS = \" \".join(string.punctuation).split(\" \") + [\"-\", \"...\", \"”\", \"”\",\"''\"]"
   ]
  },
  {
   "cell_type": "code",
   "execution_count": 5,
   "metadata": {
    "collapsed": false,
    "pycharm": {
     "name": "#%%\n"
    }
   },
   "outputs": [],
   "source": [
    "# class for cleaning the text\n",
    "class CleanTextTransformer(TransformerMixin):\n",
    "    def transform(self, X, **transform_params):\n",
    "        return [cleanText(text) for text in X]\n",
    "    def fit(self, X, y=None, **fit_params):\n",
    "        return self\n",
    "    def get_params(self, deep=True):\n",
    "            return {}\n",
    "\n",
    "def cleanText(text):\n",
    "    text = text.strip().replace(\"\\n\", \" \").replace(\"\\r\", \" \")\n",
    "    text = text.lower()\n",
    "    return text"
   ]
  },
  {
   "cell_type": "code",
   "execution_count": 6,
   "metadata": {
    "collapsed": false,
    "pycharm": {
     "name": "#%%\n"
    }
   },
   "outputs": [],
   "source": [
    "# tokenizing the raw text\n",
    "def tokenizeText(sample):\n",
    "    tokens = parser(sample)\n",
    "\n",
    "    # lemmatization\n",
    "    lemmas = []\n",
    "    for tok in tokens:\n",
    "        lemmas.append(tok.lemma_.lower().strip() if tok.lemma_ != \"-PRON-\" else tok.lower_)\n",
    "    tokens = lemmas\n",
    "\n",
    "    # remove stop words and special characters\n",
    "    tokens = [tok for tok in tokens if tok.lower() not in STOPLIST]\n",
    "    tokens = [tok for tok in tokens if tok not in SYMBOLS]\n",
    "\n",
    "    # only take words with length greater than or equal to 3\n",
    "    tokens = [tok for tok in tokens if len(tok) >= 3]\n",
    "\n",
    "    # remove remaining tokens that are not alphabetic\n",
    "    tokens = [tok for tok in tokens if tok.isalpha()]\n",
    "\n",
    "    # stemming of words\n",
    "    porter = PorterStemmer()\n",
    "    tokens = [porter.stem(word) for word in tokens]\n",
    "\n",
    "    return list(set(tokens))"
   ]
  },
  {
   "cell_type": "code",
   "execution_count": 7,
   "metadata": {
    "collapsed": false,
    "pycharm": {
     "name": "#%%\n"
    }
   },
   "outputs": [
    {
     "data": {
      "text/plain": [
       "['laríngea',\n",
       " 'pulmonar',\n",
       " 'tratamento',\n",
       " 'média',\n",
       " 'pessoa',\n",
       " 'tuberculos',\n",
       " 'poder',\n",
       " 'ativo',\n",
       " 'infectar']"
      ]
     },
     "execution_count": 7,
     "metadata": {},
     "output_type": "execute_result"
    }
   ],
   "source": [
    "# lets see tokenized random text\n",
    "tokenizeText(nlp(train_text[9]))"
   ]
  },
  {
   "cell_type": "markdown",
   "metadata": {
    "collapsed": false,
    "pycharm": {
     "name": "#%% md\n"
    }
   },
   "source": [
    "### Representação dos dados em TF-IDF"
   ]
  },
  {
   "cell_type": "code",
   "execution_count": 8,
   "metadata": {
    "collapsed": false,
    "pycharm": {
     "name": "#%%\n"
    }
   },
   "outputs": [],
   "source": [
    "tv = TfidfVectorizer(strip_accents='unicode', token_pattern=\"[A-Za-z]+\")\n",
    "train_tf_idf = tv.fit_transform(train_text)\n",
    "outliers_tf_idf = tv.transform(outliers_text)\n",
    "test_tf_idf = tv.transform(test_text)\n",
    "\n",
    "traindata_vect = pd.DataFrame(train_tf_idf.toarray(), columns=tv.get_feature_names_out())\n",
    "outliers_vect = pd.DataFrame(outliers_tf_idf.toarray(), columns=tv.get_feature_names_out())\n",
    "testdata_vect = pd.DataFrame(test_tf_idf.toarray(), columns=tv.get_feature_names_out())"
   ]
  },
  {
   "cell_type": "markdown",
   "metadata": {
    "collapsed": false,
    "pycharm": {
     "name": "#%% md\n"
    }
   },
   "source": [
    "### One-class SVM\n",
    "One-class SVM is an unsupervised algorithm that learns a decision function for novelty detection: classifying new data as similar or different to the training set."
   ]
  },
  {
   "cell_type": "code",
   "execution_count": 44,
   "metadata": {
    "collapsed": false,
    "pycharm": {
     "name": "#%%\n"
    }
   },
   "outputs": [],
   "source": [
    "# OneClassSVM algorithm\n",
    "clf = OneClassSVM(nu=0.0002, kernel=\"rbf\", gamma='scale')\n",
    "pipe_clf = Pipeline([('cleanText', CleanTextTransformer()), ('vectorizer', tv), ('clf', clf)])"
   ]
  },
  {
   "cell_type": "code",
   "execution_count": 45,
   "metadata": {
    "collapsed": false,
    "pycharm": {
     "name": "#%%\n"
    }
   },
   "outputs": [
    {
     "data": {
      "text/html": [
       "<style>#sk-container-id-6 {color: black;background-color: white;}#sk-container-id-6 pre{padding: 0;}#sk-container-id-6 div.sk-toggleable {background-color: white;}#sk-container-id-6 label.sk-toggleable__label {cursor: pointer;display: block;width: 100%;margin-bottom: 0;padding: 0.3em;box-sizing: border-box;text-align: center;}#sk-container-id-6 label.sk-toggleable__label-arrow:before {content: \"▸\";float: left;margin-right: 0.25em;color: #696969;}#sk-container-id-6 label.sk-toggleable__label-arrow:hover:before {color: black;}#sk-container-id-6 div.sk-estimator:hover label.sk-toggleable__label-arrow:before {color: black;}#sk-container-id-6 div.sk-toggleable__content {max-height: 0;max-width: 0;overflow: hidden;text-align: left;background-color: #f0f8ff;}#sk-container-id-6 div.sk-toggleable__content pre {margin: 0.2em;color: black;border-radius: 0.25em;background-color: #f0f8ff;}#sk-container-id-6 input.sk-toggleable__control:checked~div.sk-toggleable__content {max-height: 200px;max-width: 100%;overflow: auto;}#sk-container-id-6 input.sk-toggleable__control:checked~label.sk-toggleable__label-arrow:before {content: \"▾\";}#sk-container-id-6 div.sk-estimator input.sk-toggleable__control:checked~label.sk-toggleable__label {background-color: #d4ebff;}#sk-container-id-6 div.sk-label input.sk-toggleable__control:checked~label.sk-toggleable__label {background-color: #d4ebff;}#sk-container-id-6 input.sk-hidden--visually {border: 0;clip: rect(1px 1px 1px 1px);clip: rect(1px, 1px, 1px, 1px);height: 1px;margin: -1px;overflow: hidden;padding: 0;position: absolute;width: 1px;}#sk-container-id-6 div.sk-estimator {font-family: monospace;background-color: #f0f8ff;border: 1px dotted black;border-radius: 0.25em;box-sizing: border-box;margin-bottom: 0.5em;}#sk-container-id-6 div.sk-estimator:hover {background-color: #d4ebff;}#sk-container-id-6 div.sk-parallel-item::after {content: \"\";width: 100%;border-bottom: 1px solid gray;flex-grow: 1;}#sk-container-id-6 div.sk-label:hover label.sk-toggleable__label {background-color: #d4ebff;}#sk-container-id-6 div.sk-serial::before {content: \"\";position: absolute;border-left: 1px solid gray;box-sizing: border-box;top: 0;bottom: 0;left: 50%;z-index: 0;}#sk-container-id-6 div.sk-serial {display: flex;flex-direction: column;align-items: center;background-color: white;padding-right: 0.2em;padding-left: 0.2em;position: relative;}#sk-container-id-6 div.sk-item {position: relative;z-index: 1;}#sk-container-id-6 div.sk-parallel {display: flex;align-items: stretch;justify-content: center;background-color: white;position: relative;}#sk-container-id-6 div.sk-item::before, #sk-container-id-6 div.sk-parallel-item::before {content: \"\";position: absolute;border-left: 1px solid gray;box-sizing: border-box;top: 0;bottom: 0;left: 50%;z-index: -1;}#sk-container-id-6 div.sk-parallel-item {display: flex;flex-direction: column;z-index: 1;position: relative;background-color: white;}#sk-container-id-6 div.sk-parallel-item:first-child::after {align-self: flex-end;width: 50%;}#sk-container-id-6 div.sk-parallel-item:last-child::after {align-self: flex-start;width: 50%;}#sk-container-id-6 div.sk-parallel-item:only-child::after {width: 0;}#sk-container-id-6 div.sk-dashed-wrapped {border: 1px dashed gray;margin: 0 0.4em 0.5em 0.4em;box-sizing: border-box;padding-bottom: 0.4em;background-color: white;}#sk-container-id-6 div.sk-label label {font-family: monospace;font-weight: bold;display: inline-block;line-height: 1.2em;}#sk-container-id-6 div.sk-label-container {text-align: center;}#sk-container-id-6 div.sk-container {/* jupyter's `normalize.less` sets `[hidden] { display: none; }` but bootstrap.min.css set `[hidden] { display: none !important; }` so we also need the `!important` here to be able to override the default hidden behavior on the sphinx rendered scikit-learn.org. See: https://github.com/scikit-learn/scikit-learn/issues/21755 */display: inline-block !important;position: relative;}#sk-container-id-6 div.sk-text-repr-fallback {display: none;}</style><div id=\"sk-container-id-6\" class=\"sk-top-container\"><div class=\"sk-text-repr-fallback\"><pre>Pipeline(steps=[(&#x27;cleanText&#x27;,\n",
       "                 &lt;__main__.CleanTextTransformer object at 0x00000137B2F85C90&gt;),\n",
       "                (&#x27;vectorizer&#x27;,\n",
       "                 TfidfVectorizer(strip_accents=&#x27;unicode&#x27;,\n",
       "                                 token_pattern=&#x27;[A-Za-z]+&#x27;)),\n",
       "                (&#x27;clf&#x27;, OneClassSVM(nu=0.0002))])</pre><b>In a Jupyter environment, please rerun this cell to show the HTML representation or trust the notebook. <br />On GitHub, the HTML representation is unable to render, please try loading this page with nbviewer.org.</b></div><div class=\"sk-container\" hidden><div class=\"sk-item sk-dashed-wrapped\"><div class=\"sk-label-container\"><div class=\"sk-label sk-toggleable\"><input class=\"sk-toggleable__control sk-hidden--visually\" id=\"sk-estimator-id-21\" type=\"checkbox\" ><label for=\"sk-estimator-id-21\" class=\"sk-toggleable__label sk-toggleable__label-arrow\">Pipeline</label><div class=\"sk-toggleable__content\"><pre>Pipeline(steps=[(&#x27;cleanText&#x27;,\n",
       "                 &lt;__main__.CleanTextTransformer object at 0x00000137B2F85C90&gt;),\n",
       "                (&#x27;vectorizer&#x27;,\n",
       "                 TfidfVectorizer(strip_accents=&#x27;unicode&#x27;,\n",
       "                                 token_pattern=&#x27;[A-Za-z]+&#x27;)),\n",
       "                (&#x27;clf&#x27;, OneClassSVM(nu=0.0002))])</pre></div></div></div><div class=\"sk-serial\"><div class=\"sk-item\"><div class=\"sk-estimator sk-toggleable\"><input class=\"sk-toggleable__control sk-hidden--visually\" id=\"sk-estimator-id-22\" type=\"checkbox\" ><label for=\"sk-estimator-id-22\" class=\"sk-toggleable__label sk-toggleable__label-arrow\">CleanTextTransformer</label><div class=\"sk-toggleable__content\"><pre>&lt;__main__.CleanTextTransformer object at 0x00000137B2F85C90&gt;</pre></div></div></div><div class=\"sk-item\"><div class=\"sk-estimator sk-toggleable\"><input class=\"sk-toggleable__control sk-hidden--visually\" id=\"sk-estimator-id-23\" type=\"checkbox\" ><label for=\"sk-estimator-id-23\" class=\"sk-toggleable__label sk-toggleable__label-arrow\">TfidfVectorizer</label><div class=\"sk-toggleable__content\"><pre>TfidfVectorizer(strip_accents=&#x27;unicode&#x27;, token_pattern=&#x27;[A-Za-z]+&#x27;)</pre></div></div></div><div class=\"sk-item\"><div class=\"sk-estimator sk-toggleable\"><input class=\"sk-toggleable__control sk-hidden--visually\" id=\"sk-estimator-id-24\" type=\"checkbox\" ><label for=\"sk-estimator-id-24\" class=\"sk-toggleable__label sk-toggleable__label-arrow\">OneClassSVM</label><div class=\"sk-toggleable__content\"><pre>OneClassSVM(nu=0.0002)</pre></div></div></div></div></div></div></div>"
      ],
      "text/plain": [
       "Pipeline(steps=[('cleanText',\n",
       "                 <__main__.CleanTextTransformer object at 0x00000137B2F85C90>),\n",
       "                ('vectorizer',\n",
       "                 TfidfVectorizer(strip_accents='unicode',\n",
       "                                 token_pattern='[A-Za-z]+')),\n",
       "                ('clf', OneClassSVM(nu=0.0002))])"
      ]
     },
     "execution_count": 45,
     "metadata": {},
     "output_type": "execute_result"
    }
   ],
   "source": [
    "# fit OneClassSVM model\n",
    "pipe_clf.fit(train_text, train_labels)"
   ]
  },
  {
   "cell_type": "code",
   "execution_count": 46,
   "metadata": {
    "collapsed": false,
    "pycharm": {
     "name": "#%%\n"
    }
   },
   "outputs": [
    {
     "name": "stdout",
     "output_type": "stream",
     "text": [
      "accuracy: 0.11387900355871886\n"
     ]
    }
   ],
   "source": [
    "# validate OneClassSVM model with train set\n",
    "preds_train = pipe_clf.predict(train_text)\n",
    "print(\"accuracy:\", accuracy_score(train_labels, preds_train))"
   ]
  },
  {
   "cell_type": "code",
   "execution_count": 47,
   "metadata": {
    "collapsed": false,
    "pycharm": {
     "name": "#%%\n"
    }
   },
   "outputs": [
    {
     "name": "stdout",
     "output_type": "stream",
     "text": [
      "accuracy: 0.9130434782608695\n"
     ]
    }
   ],
   "source": [
    "# validate OneClassSVM model with outliers set\n",
    "preds_outliers = pipe_clf.predict(outliers_text)\n",
    "print(\"accuracy:\", accuracy_score(outliers_labels, preds_outliers))"
   ]
  },
  {
   "cell_type": "code",
   "execution_count": 48,
   "metadata": {
    "collapsed": false,
    "pycharm": {
     "name": "#%%\n"
    }
   },
   "outputs": [
    {
     "data": {
      "text/plain": [
       "array([-1, -1, -1, -1, -1, -1, -1, -1, -1, -1, -1, -1, -1, -1, -1, -1, -1,\n",
       "       -1, -1, -1, -1, -1, -1, -1, -1, -1, -1, -1, -1, -1, -1, -1, -1, -1,\n",
       "       -1, -1, -1, -1, -1, -1, -1, -1, -1, -1, -1, -1, -1, -1, -1, -1, -1,\n",
       "       -1, -1, -1, -1, -1, -1, -1, -1, -1, -1, -1, -1, -1, -1, -1, -1, -1,\n",
       "       -1, -1, -1, -1, -1, -1, -1, -1, -1, -1, -1, -1, -1, -1, -1, -1, -1,\n",
       "       -1, -1, -1, -1, -1, -1, -1, -1, -1, -1, -1, -1, -1, -1, -1, -1,  1,\n",
       "       -1, -1, -1, -1, -1, -1, -1, -1, -1, -1, -1, -1, -1, -1, -1, -1, -1,\n",
       "       -1, -1, -1, -1, -1, -1, -1, -1, -1, -1, -1, -1, -1, -1, -1, -1, -1,\n",
       "       -1, -1, -1, -1, -1, -1, -1, -1, -1, -1, -1, -1, -1, -1, -1, -1, -1,\n",
       "       -1, -1, -1, -1, -1, -1, -1, -1, -1, -1, -1, -1, -1, -1, -1, -1, -1,\n",
       "       -1, -1, -1, -1, -1, -1, -1, -1,  1, -1, -1, -1, -1, -1, -1, -1, -1,\n",
       "       -1, -1, -1, -1, -1, -1, -1, -1, -1, -1, -1, -1, -1, -1, -1, -1, -1,\n",
       "       -1, -1, -1, -1, -1, -1, -1, -1,  1, -1, -1, -1, -1,  1, -1, -1, -1,\n",
       "       -1, -1, -1, -1, -1, -1, -1, -1, -1, -1, -1, -1, -1, -1, -1, -1, -1,\n",
       "       -1, -1, -1, -1, -1, -1, -1, -1, -1, -1, -1, -1, -1, -1, -1, -1, -1,\n",
       "       -1, -1, -1, -1, -1, -1, -1, -1, -1, -1, -1, -1, -1, -1, -1, -1, -1,\n",
       "       -1, -1, -1, -1, -1, -1, -1, -1, -1, -1, -1, -1, -1, -1, -1, -1, -1,\n",
       "       -1, -1,  1, -1,  1, -1, -1, -1, -1, -1, -1, -1, -1, -1, -1, -1, -1,\n",
       "       -1, -1, -1, -1, -1, -1, -1, -1,  1, -1, -1, -1, -1, -1, -1, -1, -1,\n",
       "       -1, -1, -1, -1, -1, -1, -1, -1, -1, -1, -1, -1, -1, -1, -1, -1, -1,\n",
       "       -1, -1, -1, -1, -1, -1, -1, -1, -1, -1, -1, -1, -1, -1, -1, -1, -1,\n",
       "       -1, -1, -1, -1, -1, -1, -1, -1, -1, -1, -1, -1, -1, -1, -1, -1, -1,\n",
       "       -1, -1, -1, -1, -1, -1, -1, -1, -1, -1, -1, -1, -1, -1, -1, -1, -1,\n",
       "       -1, -1, -1, -1, -1, -1, -1, -1, -1, -1, -1, -1, -1, -1, -1, -1, -1,\n",
       "       -1, -1, -1, -1, -1, -1, -1, -1, -1, -1, -1, -1,  1, -1, -1, -1, -1,\n",
       "       -1, -1, -1, -1, -1, -1, -1, -1, -1, -1, -1, -1, -1, -1, -1, -1, -1,\n",
       "       -1, -1, -1, -1, -1, -1, -1, -1, -1, -1, -1, -1, -1, -1, -1, -1, -1,\n",
       "       -1, -1, -1, -1, -1, -1, -1, -1, -1, -1, -1, -1, -1, -1, -1, -1, -1,\n",
       "       -1], dtype=int64)"
      ]
     },
     "execution_count": 48,
     "metadata": {},
     "output_type": "execute_result"
    }
   ],
   "source": [
    "# validate OneClassSVM model with test set\n",
    "preds_test = pipe_clf.predict(test_text)\n",
    "preds_test"
   ]
  },
  {
   "cell_type": "code",
   "execution_count": 49,
   "metadata": {
    "collapsed": false,
    "pycharm": {
     "name": "#%%\n"
    }
   },
   "outputs": [
    {
     "name": "stdout",
     "output_type": "stream",
     "text": [
      "Train erros:  249\n",
      "Test erros:  469\n",
      "Outliers erros:  4\n"
     ]
    }
   ],
   "source": [
    "# calculate prediction errors\n",
    "n_error_train = preds_train[preds_train == -1].size\n",
    "n_error_test = preds_test[preds_test == -1].size\n",
    "n_error_outliers = preds_outliers[preds_outliers == 1].size\n",
    "\n",
    "print('Train erros: ', n_error_train)\n",
    "print('Test erros: ', n_error_test)\n",
    "print('Outliers erros: ', n_error_outliers)"
   ]
  },
  {
   "cell_type": "code",
   "execution_count": 50,
   "metadata": {
    "collapsed": false,
    "pycharm": {
     "name": "#%%\n"
    }
   },
   "outputs": [
    {
     "data": {
      "text/plain": [
       "'Qual o protocolo de acompanhamento dos acometidos por tuberculose?'"
      ]
     },
     "execution_count": 50,
     "metadata": {},
     "output_type": "execute_result"
    }
   ],
   "source": [
    "# let's take random text from dataset\n",
    "test_text[289]"
   ]
  },
  {
   "cell_type": "code",
   "execution_count": 51,
   "metadata": {
    "collapsed": false,
    "pycharm": {
     "name": "#%%\n"
    }
   },
   "outputs": [
    {
     "name": "stdout",
     "output_type": "stream",
     "text": [
      "Confusion Matrix :\n",
      "[[316   2]\n",
      " [153   6]]\n",
      "Accuracy Score : 0.6750524109014675\n",
      "Report : \n",
      "              precision    recall  f1-score   support\n",
      "\n",
      "          -1       0.67      0.99      0.80       318\n",
      "           1       0.75      0.04      0.07       159\n",
      "\n",
      "    accuracy                           0.68       477\n",
      "   macro avg       0.71      0.52      0.44       477\n",
      "weighted avg       0.70      0.68      0.56       477\n",
      "\n"
     ]
    }
   ],
   "source": [
    "# results\n",
    "results = confusion_matrix(test_labels, preds_test)\n",
    "print('Confusion Matrix :')\n",
    "print(results)\n",
    "print('Accuracy Score :', accuracy_score(test_labels, preds_test))\n",
    "print('Report : ')\n",
    "print(classification_report(test_labels, preds_test))"
   ]
  },
  {
   "cell_type": "code",
   "execution_count": null,
   "metadata": {
    "collapsed": false,
    "pycharm": {
     "name": "#%%\n"
    }
   },
   "outputs": [],
   "source": [
    "# check actual category\n",
    "test_labels[289]"
   ]
  },
  {
   "cell_type": "code",
   "execution_count": null,
   "metadata": {
    "collapsed": false,
    "pycharm": {
     "name": "#%%\n"
    }
   },
   "outputs": [],
   "source": [
    "# let's predict the category of above random text\n",
    "pipe_clf.predict([test_text[289]])"
   ]
  },
  {
   "cell_type": "code",
   "execution_count": null,
   "metadata": {
    "collapsed": false,
    "pycharm": {
     "name": "#%%\n"
    }
   },
   "outputs": [],
   "source": []
  }
 ],
 "metadata": {
  "kernelspec": {
   "display_name": "Python 3.8.13 ('chatbot_env')",
   "language": "python",
   "name": "python3"
  },
  "language_info": {
   "codemirror_mode": {
    "name": "ipython",
    "version": 3
   },
   "file_extension": ".py",
   "mimetype": "text/x-python",
   "name": "python",
   "nbconvert_exporter": "python",
   "pygments_lexer": "ipython3",
   "version": "3.8.13 (default, Mar 28 2022, 06:59:08) [MSC v.1916 64 bit (AMD64)]"
  },
  "orig_nbformat": 4,
  "vscode": {
   "interpreter": {
    "hash": "b31d2b12a8e3fd9c881a5a24e7147d0c74845586ee91bf16f1bd9f2a67f59324"
   }
  }
 },
 "nbformat": 4,
 "nbformat_minor": 2
}
