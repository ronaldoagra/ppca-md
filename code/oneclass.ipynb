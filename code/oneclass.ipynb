{
 "cells": [
  {
   "cell_type": "code",
   "execution_count": 119,
   "metadata": {
    "pycharm": {
     "name": "#%%\n"
    }
   },
   "outputs": [],
   "source": [
    "# Load packages\n",
    "from sklearn.feature_extraction.text import TfidfVectorizer\n",
    "from sklearn.feature_extraction.text import HashingVectorizer\n",
    "from sklearn.base import TransformerMixin\n",
    "from sklearn.pipeline import Pipeline\n",
    "from sklearn.svm import OneClassSVM\n",
    "from sklearn.metrics import accuracy_score\n",
    "from sklearn.metrics import confusion_matrix\n",
    "from sklearn.metrics import classification_report\n",
    "import pandas as pd\n",
    "from nltk.stem.porter import PorterStemmer\n",
    "import string\n",
    "import spacy\n",
    "from spacy.lang.pt import Portuguese\n",
    "from nltk.corpus import stopwords\n",
    "\n",
    "nlp = spacy.load('pt_core_news_lg')\n",
    "parser = Portuguese()"
   ]
  },
  {
   "cell_type": "markdown",
   "source": [
    "### Preparação dos dados"
   ],
   "metadata": {
    "collapsed": false,
    "pycharm": {
     "name": "#%% md\n"
    }
   }
  },
  {
   "cell_type": "code",
   "execution_count": 120,
   "outputs": [],
   "source": [
    "# Import data\n",
    "df_traindata = pd.read_csv('../data/traindata.csv', delimiter=';')\n",
    "df_testdata = pd.read_csv('../data/testdata.csv', delimiter=';')\n",
    "\n",
    "# Data preparation\n",
    "df_traindata['category'] = df_traindata.reset_index().category.map({'covid':1, 'seloturismo':-1, 'tuberculose':-1})\n",
    "df_testdata['category'] = df_testdata.reset_index().category.map({'covid':1, 'seloturismo':-1, 'tuberculose':-1})\n",
    "\n",
    "# create a new dataset with only covid category data\n",
    "covid_df = df_traindata[df_traindata['category'] == 1]"
   ],
   "metadata": {
    "collapsed": false,
    "pycharm": {
     "name": "#%%\n"
    }
   }
  },
  {
   "cell_type": "code",
   "execution_count": 121,
   "outputs": [
    {
     "data": {
      "text/plain": "(231, 2)"
     },
     "execution_count": 121,
     "metadata": {},
     "output_type": "execute_result"
    }
   ],
   "source": [
    "covid_df.shape"
   ],
   "metadata": {
    "collapsed": false,
    "pycharm": {
     "name": "#%%\n"
    }
   }
  },
  {
   "cell_type": "code",
   "execution_count": 122,
   "outputs": [],
   "source": [
    "# create train and test data\n",
    "train_text = covid_df['input'].tolist()\n",
    "train_labels = covid_df['category'].tolist()\n",
    "\n",
    "test_text = df_testdata['input'].tolist()\n",
    "test_labels = df_testdata['category'].tolist()"
   ],
   "metadata": {
    "collapsed": false,
    "pycharm": {
     "name": "#%%\n"
    }
   }
  },
  {
   "cell_type": "markdown",
   "source": [
    "### Limpeza e tokenização dos dados"
   ],
   "metadata": {
    "collapsed": false,
    "pycharm": {
     "name": "#%% md\n"
    }
   }
  },
  {
   "cell_type": "code",
   "execution_count": 123,
   "outputs": [
    {
     "name": "stdout",
     "output_type": "stream",
     "text": [
      "{'houvera', 'houverem', 'tua', 'elas', 'terá', 'os', 'dele', 'sou', 'minhas', 'nossos', 'fomos', 'houveríamos', 'na', 'somos', 'houve', 'ser', 'também', 'tivesse', 'estiverem', 'minha', 'houveram', 'tivera', 'tenham', 'mais', 'pela', 'essas', 'estivéssemos', 'houvesse', 'vos', 'da', 'tuas', 'isto', 'pelos', 'que', 'estas', 'há', 'hei', 'estavam', 'te', 'este', 'numa', 'não', 'esses', 'houver', 'estivesse', 'nosso', 'ele', 'aqueles', 'me', 'houvéssemos', 'são', 'estivermos', 'tiveram', 'hão', 'houvermos', 'fôramos', 'nas', 'vocês', 'isso', 'teve', 'temos', 'eu', 'qual', 'serei', 'estejamos', 'tivessem', 'esta', 'teria', 'delas', 'estou', 'haver', 'meu', 'de', 'fosse', 'tivemos', 'a', 'estamos', 'o', 'estes', 'houveremos', 'será', 'deles', 'eles', 'pelo', 'por', 'sejam', 'tinha', 'meus', 'estivera', 'nossa', 'estejam', 'um', 'às', 'formos', 'serão', 'só', 'havemos', 'depois', 'seremos', 'tínhamos', 'estão', 'fossem', 'terei', 'tenho', 'hajamos', 'dela', 'era', 'estivessem', 'estar', 'tenha', 'fôssemos', 'estiveram', 'seria', 'está', 'esteve', 'tem', 'houverá', 'terão', 'ela', 'com', 'as', 'do', 'dos', 'no', 'aos', 'houvessem', 'ou', 'houverei', 'estiver', 'se', 'seu', 'teu', 'tivermos', 'essa', 'esse', 'haja', 'sem', 'estivemos', 'sejamos', 'quem', 'houverão', 'muito', 'é', 'houvemos', 'tém', 'aquele', 'teríamos', 'esteja', 'das', 'tive', 'teus', 'entre', 'nossas', 'como', 'lhe', 'for', 'lhes', 'teremos', 'seríamos', 'fui', 'para', 'tinham', 'tivéramos', 'eram', 'mas', 'aquilo', 'pelas', 'tenhamos', 'mesmo', 'estive', 'houveria', 'estivéramos', 'seriam', 'tivéssemos', 'houvéramos', 'quando', 'aquela', 'nos', 'foram', 'tiver', 'houveriam', 'você', 'em', 'até', 'à', 'tu', 'forem', 'uma', 'ao', 'seja', 'hajam', 'fora', 'e', 'nós', 'estava', 'seus', 'num', 'já', 'suas', 'estávamos', 'foi', 'teriam', 'tiverem', 'nem', 'sua', 'aquelas', 'éramos'}\n"
     ]
    }
   ],
   "source": [
    "# stop words list\n",
    "STOPLIST = set(stopwords.words('portuguese'))\n",
    "print(STOPLIST)\n",
    "# special characters\n",
    "SYMBOLS = \" \".join(string.punctuation).split(\" \") + [\"-\", \"...\", \"”\", \"”\",\"''\"]"
   ],
   "metadata": {
    "collapsed": false,
    "pycharm": {
     "name": "#%%\n"
    }
   }
  },
  {
   "cell_type": "code",
   "execution_count": 124,
   "outputs": [],
   "source": [
    "# class for cleaning the text\n",
    "class CleanTextTransformer(TransformerMixin):\n",
    "    def transform(self, X, **transform_params):\n",
    "        return [cleanText(text) for text in X]\n",
    "    def fit(self, X, y=None, **fit_params):\n",
    "        return self\n",
    "    def get_params(self, deep=True):\n",
    "            return {}\n",
    "\n",
    "def cleanText(text):\n",
    "    text = text.strip().replace(\"\\n\", \" \").replace(\"\\r\", \" \")\n",
    "    text = text.lower()\n",
    "    return text"
   ],
   "metadata": {
    "collapsed": false,
    "pycharm": {
     "name": "#%%\n"
    }
   }
  },
  {
   "cell_type": "code",
   "execution_count": 125,
   "outputs": [],
   "source": [
    "# tokenizing the raw text\n",
    "def tokenizeText(sample):\n",
    "    tokens = parser(sample)\n",
    "\n",
    "    # lemmatization\n",
    "    lemmas = []\n",
    "    for tok in tokens:\n",
    "        lemmas.append(tok.lemma_.lower().strip() if tok.lemma_ != \"-PRON-\" else tok.lower_)\n",
    "    tokens = lemmas\n",
    "\n",
    "    # remove stop words and special characters\n",
    "    tokens = [tok for tok in tokens if tok.lower() not in STOPLIST]\n",
    "    tokens = [tok for tok in tokens if tok not in SYMBOLS]\n",
    "\n",
    "    # only take words with length greater than or equal to 3\n",
    "    tokens = [tok for tok in tokens if len(tok) >= 3]\n",
    "\n",
    "    # remove remaining tokens that are not alphabetic\n",
    "    tokens = [tok for tok in tokens if tok.isalpha()]\n",
    "\n",
    "    # stemming of words\n",
    "    porter = PorterStemmer()\n",
    "    tokens = [porter.stem(word) for word in tokens]\n",
    "\n",
    "    return list(set(tokens))"
   ],
   "metadata": {
    "collapsed": false,
    "pycharm": {
     "name": "#%%\n"
    }
   }
  },
  {
   "cell_type": "code",
   "execution_count": 126,
   "outputs": [
    {
     "data": {
      "text/plain": "['estarei', 'completament', 'vacinar', 'imun', 'coronavíru']"
     },
     "execution_count": 126,
     "metadata": {},
     "output_type": "execute_result"
    }
   ],
   "source": [
    "# lets see tokenized random text\n",
    "tokenizeText(nlp(train_text[9]))"
   ],
   "metadata": {
    "collapsed": false,
    "pycharm": {
     "name": "#%%\n"
    }
   }
  },
  {
   "cell_type": "markdown",
   "source": [
    "### Extração de características"
   ],
   "metadata": {
    "collapsed": false,
    "pycharm": {
     "name": "#%% md\n"
    }
   }
  },
  {
   "cell_type": "code",
   "execution_count": 127,
   "outputs": [
    {
     "name": "stderr",
     "output_type": "stream",
     "text": [
      "C:\\Users\\ronal\\anaconda3\\envs\\projeto-md2\\lib\\site-packages\\sklearn\\feature_extraction\\text.py:524: UserWarning: The parameter 'token_pattern' will not be used since 'tokenizer' is not None'\n",
      "  warnings.warn(\n"
     ]
    },
    {
     "data": {
      "text/plain": "(231, 20)"
     },
     "execution_count": 127,
     "metadata": {},
     "output_type": "execute_result"
    }
   ],
   "source": [
    "# getting features\n",
    "vectorizer = HashingVectorizer(n_features=20, tokenizer=tokenizeText)\n",
    "\n",
    "features = vectorizer.fit_transform(train_text).toarray()\n",
    "features.shape"
   ],
   "metadata": {
    "collapsed": false,
    "pycharm": {
     "name": "#%%\n"
    }
   }
  },
  {
   "cell_type": "code",
   "execution_count": 128,
   "outputs": [],
   "source": [
    "tv = TfidfVectorizer(strip_accents='unicode', token_pattern=\"[A-Za-z]+\")\n",
    "train_tf_idf = tv.fit_transform(train_text)\n",
    "test_tf_idf = tv.transform(test_text)\n",
    "\n",
    "traindata_vect = pd.DataFrame(train_tf_idf.toarray(), columns=tv.get_feature_names_out())\n",
    "traindata_vect['target_cat'] = covid_df.reset_index().category\n",
    "\n",
    "testdata_vect = pd.DataFrame(test_tf_idf.toarray(), columns=tv.get_feature_names_out())\n",
    "testdata_vect['target_cat'] = df_testdata.reset_index().category"
   ],
   "metadata": {
    "collapsed": false,
    "pycharm": {
     "name": "#%%\n"
    }
   }
  },
  {
   "cell_type": "markdown",
   "source": [
    "### One-class SVM\n",
    "One-class SVM is an unsupervised algorithm that learns a decision function for novelty detection: classifying new data as similar or different to the training set."
   ],
   "metadata": {
    "collapsed": false,
    "pycharm": {
     "name": "#%% md\n"
    }
   }
  },
  {
   "cell_type": "code",
   "execution_count": 129,
   "outputs": [],
   "source": [
    "# OneClassSVM algorithm\n",
    "clf = OneClassSVM(nu=0.1, kernel=\"rbf\", gamma='scale')\n",
    "pipe_clf = Pipeline([('cleanText', CleanTextTransformer()), ('vectorizer', tv), ('clf', clf)])"
   ],
   "metadata": {
    "collapsed": false,
    "pycharm": {
     "name": "#%%\n"
    }
   }
  },
  {
   "cell_type": "code",
   "execution_count": 130,
   "outputs": [
    {
     "data": {
      "text/plain": "Pipeline(steps=[('cleanText',\n                 <__main__.CleanTextTransformer object at 0x000001C3507CAA70>),\n                ('vectorizer',\n                 TfidfVectorizer(strip_accents='unicode',\n                                 token_pattern='[A-Za-z]+')),\n                ('clf', OneClassSVM(nu=0.1))])",
      "text/html": "<style>#sk-container-id-7 {color: black;background-color: white;}#sk-container-id-7 pre{padding: 0;}#sk-container-id-7 div.sk-toggleable {background-color: white;}#sk-container-id-7 label.sk-toggleable__label {cursor: pointer;display: block;width: 100%;margin-bottom: 0;padding: 0.3em;box-sizing: border-box;text-align: center;}#sk-container-id-7 label.sk-toggleable__label-arrow:before {content: \"▸\";float: left;margin-right: 0.25em;color: #696969;}#sk-container-id-7 label.sk-toggleable__label-arrow:hover:before {color: black;}#sk-container-id-7 div.sk-estimator:hover label.sk-toggleable__label-arrow:before {color: black;}#sk-container-id-7 div.sk-toggleable__content {max-height: 0;max-width: 0;overflow: hidden;text-align: left;background-color: #f0f8ff;}#sk-container-id-7 div.sk-toggleable__content pre {margin: 0.2em;color: black;border-radius: 0.25em;background-color: #f0f8ff;}#sk-container-id-7 input.sk-toggleable__control:checked~div.sk-toggleable__content {max-height: 200px;max-width: 100%;overflow: auto;}#sk-container-id-7 input.sk-toggleable__control:checked~label.sk-toggleable__label-arrow:before {content: \"▾\";}#sk-container-id-7 div.sk-estimator input.sk-toggleable__control:checked~label.sk-toggleable__label {background-color: #d4ebff;}#sk-container-id-7 div.sk-label input.sk-toggleable__control:checked~label.sk-toggleable__label {background-color: #d4ebff;}#sk-container-id-7 input.sk-hidden--visually {border: 0;clip: rect(1px 1px 1px 1px);clip: rect(1px, 1px, 1px, 1px);height: 1px;margin: -1px;overflow: hidden;padding: 0;position: absolute;width: 1px;}#sk-container-id-7 div.sk-estimator {font-family: monospace;background-color: #f0f8ff;border: 1px dotted black;border-radius: 0.25em;box-sizing: border-box;margin-bottom: 0.5em;}#sk-container-id-7 div.sk-estimator:hover {background-color: #d4ebff;}#sk-container-id-7 div.sk-parallel-item::after {content: \"\";width: 100%;border-bottom: 1px solid gray;flex-grow: 1;}#sk-container-id-7 div.sk-label:hover label.sk-toggleable__label {background-color: #d4ebff;}#sk-container-id-7 div.sk-serial::before {content: \"\";position: absolute;border-left: 1px solid gray;box-sizing: border-box;top: 0;bottom: 0;left: 50%;z-index: 0;}#sk-container-id-7 div.sk-serial {display: flex;flex-direction: column;align-items: center;background-color: white;padding-right: 0.2em;padding-left: 0.2em;position: relative;}#sk-container-id-7 div.sk-item {position: relative;z-index: 1;}#sk-container-id-7 div.sk-parallel {display: flex;align-items: stretch;justify-content: center;background-color: white;position: relative;}#sk-container-id-7 div.sk-item::before, #sk-container-id-7 div.sk-parallel-item::before {content: \"\";position: absolute;border-left: 1px solid gray;box-sizing: border-box;top: 0;bottom: 0;left: 50%;z-index: -1;}#sk-container-id-7 div.sk-parallel-item {display: flex;flex-direction: column;z-index: 1;position: relative;background-color: white;}#sk-container-id-7 div.sk-parallel-item:first-child::after {align-self: flex-end;width: 50%;}#sk-container-id-7 div.sk-parallel-item:last-child::after {align-self: flex-start;width: 50%;}#sk-container-id-7 div.sk-parallel-item:only-child::after {width: 0;}#sk-container-id-7 div.sk-dashed-wrapped {border: 1px dashed gray;margin: 0 0.4em 0.5em 0.4em;box-sizing: border-box;padding-bottom: 0.4em;background-color: white;}#sk-container-id-7 div.sk-label label {font-family: monospace;font-weight: bold;display: inline-block;line-height: 1.2em;}#sk-container-id-7 div.sk-label-container {text-align: center;}#sk-container-id-7 div.sk-container {/* jupyter's `normalize.less` sets `[hidden] { display: none; }` but bootstrap.min.css set `[hidden] { display: none !important; }` so we also need the `!important` here to be able to override the default hidden behavior on the sphinx rendered scikit-learn.org. See: https://github.com/scikit-learn/scikit-learn/issues/21755 */display: inline-block !important;position: relative;}#sk-container-id-7 div.sk-text-repr-fallback {display: none;}</style><div id=\"sk-container-id-7\" class=\"sk-top-container\"><div class=\"sk-text-repr-fallback\"><pre>Pipeline(steps=[(&#x27;cleanText&#x27;,\n                 &lt;__main__.CleanTextTransformer object at 0x000001C3507CAA70&gt;),\n                (&#x27;vectorizer&#x27;,\n                 TfidfVectorizer(strip_accents=&#x27;unicode&#x27;,\n                                 token_pattern=&#x27;[A-Za-z]+&#x27;)),\n                (&#x27;clf&#x27;, OneClassSVM(nu=0.1))])</pre><b>In a Jupyter environment, please rerun this cell to show the HTML representation or trust the notebook. <br />On GitHub, the HTML representation is unable to render, please try loading this page with nbviewer.org.</b></div><div class=\"sk-container\" hidden><div class=\"sk-item sk-dashed-wrapped\"><div class=\"sk-label-container\"><div class=\"sk-label sk-toggleable\"><input class=\"sk-toggleable__control sk-hidden--visually\" id=\"sk-estimator-id-25\" type=\"checkbox\" ><label for=\"sk-estimator-id-25\" class=\"sk-toggleable__label sk-toggleable__label-arrow\">Pipeline</label><div class=\"sk-toggleable__content\"><pre>Pipeline(steps=[(&#x27;cleanText&#x27;,\n                 &lt;__main__.CleanTextTransformer object at 0x000001C3507CAA70&gt;),\n                (&#x27;vectorizer&#x27;,\n                 TfidfVectorizer(strip_accents=&#x27;unicode&#x27;,\n                                 token_pattern=&#x27;[A-Za-z]+&#x27;)),\n                (&#x27;clf&#x27;, OneClassSVM(nu=0.1))])</pre></div></div></div><div class=\"sk-serial\"><div class=\"sk-item\"><div class=\"sk-estimator sk-toggleable\"><input class=\"sk-toggleable__control sk-hidden--visually\" id=\"sk-estimator-id-26\" type=\"checkbox\" ><label for=\"sk-estimator-id-26\" class=\"sk-toggleable__label sk-toggleable__label-arrow\">CleanTextTransformer</label><div class=\"sk-toggleable__content\"><pre>&lt;__main__.CleanTextTransformer object at 0x000001C3507CAA70&gt;</pre></div></div></div><div class=\"sk-item\"><div class=\"sk-estimator sk-toggleable\"><input class=\"sk-toggleable__control sk-hidden--visually\" id=\"sk-estimator-id-27\" type=\"checkbox\" ><label for=\"sk-estimator-id-27\" class=\"sk-toggleable__label sk-toggleable__label-arrow\">TfidfVectorizer</label><div class=\"sk-toggleable__content\"><pre>TfidfVectorizer(strip_accents=&#x27;unicode&#x27;, token_pattern=&#x27;[A-Za-z]+&#x27;)</pre></div></div></div><div class=\"sk-item\"><div class=\"sk-estimator sk-toggleable\"><input class=\"sk-toggleable__control sk-hidden--visually\" id=\"sk-estimator-id-28\" type=\"checkbox\" ><label for=\"sk-estimator-id-28\" class=\"sk-toggleable__label sk-toggleable__label-arrow\">OneClassSVM</label><div class=\"sk-toggleable__content\"><pre>OneClassSVM(nu=0.1)</pre></div></div></div></div></div></div></div>"
     },
     "execution_count": 130,
     "metadata": {},
     "output_type": "execute_result"
    }
   ],
   "source": [
    "# fit OneClassSVM model\n",
    "pipe_clf.fit(train_text, train_labels)"
   ],
   "metadata": {
    "collapsed": false,
    "pycharm": {
     "name": "#%%\n"
    }
   }
  },
  {
   "cell_type": "code",
   "execution_count": 131,
   "outputs": [
    {
     "name": "stdout",
     "output_type": "stream",
     "text": [
      "accuracy: 0.6363636363636364\n"
     ]
    }
   ],
   "source": [
    "# validate OneClassSVM model with train set\n",
    "preds_train = pipe_clf.predict(train_text)\n",
    "print(\"accuracy:\", accuracy_score(train_labels, preds_train))"
   ],
   "metadata": {
    "collapsed": false,
    "pycharm": {
     "name": "#%%\n"
    }
   }
  },
  {
   "cell_type": "code",
   "execution_count": 132,
   "outputs": [
    {
     "data": {
      "text/plain": "array([ 1,  1,  1,  1, -1, -1,  1, -1, -1, -1, -1,  1,  1,  1,  1,  1, -1,\n       -1,  1,  1, -1, -1, -1,  1,  1,  1,  1, -1,  1,  1, -1,  1, -1,  1,\n       -1, -1,  1,  1,  1, -1,  1, -1, -1,  1,  1, -1,  1,  1,  1, -1,  1,\n        1, -1, -1, -1, -1, -1,  1, -1,  1, -1,  1,  1,  1,  1,  1,  1,  1,\n        1,  1,  1, -1,  1, -1,  1,  1,  1,  1,  1,  1,  1,  1,  1,  1, -1,\n        1, -1, -1,  1,  1,  1, -1, -1,  1,  1,  1,  1, -1, -1, -1,  1,  1,\n        1, -1,  1, -1, -1, -1,  1,  1,  1, -1,  1,  1,  1, -1,  1,  1,  1,\n        1,  1, -1, -1,  1, -1,  1, -1, -1, -1,  1,  1, -1, -1, -1,  1,  1,\n        1, -1, -1,  1,  1,  1,  1,  1,  1,  1,  1,  1,  1, -1, -1, -1, -1,\n       -1,  1, -1,  1,  1,  1,  1,  1, -1, -1, -1,  1, -1,  1, -1, -1, -1,\n       -1, -1, -1, -1, -1, -1,  1,  1, -1, -1,  1,  1,  1, -1,  1, -1, -1,\n       -1,  1,  1,  1, -1, -1,  1,  1,  1,  1,  1, -1,  1, -1, -1, -1, -1,\n       -1, -1,  1, -1, -1, -1, -1,  1,  1, -1, -1,  1,  1,  1,  1, -1, -1,\n       -1, -1, -1, -1, -1,  1, -1, -1,  1, -1, -1, -1, -1, -1,  1,  1,  1,\n       -1, -1,  1, -1, -1, -1, -1, -1, -1,  1,  1, -1,  1, -1, -1, -1,  1,\n       -1, -1, -1,  1,  1, -1, -1, -1, -1, -1, -1, -1, -1, -1, -1, -1,  1,\n        1,  1, -1, -1, -1, -1, -1, -1, -1, -1, -1, -1,  1, -1, -1, -1, -1,\n       -1, -1,  1, -1,  1, -1, -1,  1, -1, -1, -1, -1, -1, -1, -1, -1, -1,\n       -1, -1,  1, -1, -1,  1, -1,  1, -1,  1,  1, -1,  1, -1,  1, -1, -1,\n       -1, -1,  1, -1, -1,  1, -1, -1,  1,  1, -1, -1,  1, -1,  1,  1, -1,\n       -1, -1, -1,  1, -1, -1, -1, -1, -1, -1,  1,  1,  1,  1,  1,  1, -1,\n        1, -1, -1, -1, -1, -1, -1, -1, -1,  1, -1, -1, -1, -1, -1, -1, -1,\n       -1, -1,  1,  1, -1, -1,  1, -1,  1, -1, -1, -1, -1, -1, -1, -1, -1,\n       -1, -1, -1, -1,  1, -1, -1, -1, -1, -1, -1, -1, -1, -1,  1, -1,  1,\n       -1, -1, -1, -1, -1,  1,  1, -1, -1, -1, -1, -1,  1, -1,  1, -1,  1,\n       -1, -1,  1, -1, -1,  1, -1,  1, -1, -1,  1, -1, -1, -1,  1,  1, -1,\n        1, -1,  1, -1, -1, -1, -1, -1, -1, -1, -1, -1, -1, -1, -1, -1,  1,\n       -1, -1, -1, -1, -1, -1, -1, -1,  1,  1, -1, -1, -1,  1, -1, -1,  1,\n       -1], dtype=int64)"
     },
     "execution_count": 132,
     "metadata": {},
     "output_type": "execute_result"
    }
   ],
   "source": [
    "# validate OneClassSVM model with test set\n",
    "preds_test = pipe_clf.predict(test_text)\n",
    "preds_test"
   ],
   "metadata": {
    "collapsed": false,
    "pycharm": {
     "name": "#%%\n"
    }
   }
  },
  {
   "cell_type": "code",
   "execution_count": 133,
   "outputs": [
    {
     "name": "stdout",
     "output_type": "stream",
     "text": [
      "Confusion Matrix :\n",
      "[[225  93]\n",
      " [ 61  98]]\n",
      "Accuracy Score : 0.6771488469601677\n",
      "Report : \n",
      "              precision    recall  f1-score   support\n",
      "\n",
      "          -1       0.79      0.71      0.75       318\n",
      "           1       0.51      0.62      0.56       159\n",
      "\n",
      "    accuracy                           0.68       477\n",
      "   macro avg       0.65      0.66      0.65       477\n",
      "weighted avg       0.70      0.68      0.68       477\n",
      "\n"
     ]
    }
   ],
   "source": [
    "results = confusion_matrix(test_labels, preds_test)\n",
    "print('Confusion Matrix :')\n",
    "print(results)\n",
    "print('Accuracy Score :', accuracy_score(test_labels, preds_test))\n",
    "print('Report : ')\n",
    "print(classification_report(test_labels, preds_test))"
   ],
   "metadata": {
    "collapsed": false,
    "pycharm": {
     "name": "#%%\n"
    }
   }
  },
  {
   "cell_type": "code",
   "execution_count": 134,
   "outputs": [
    {
     "data": {
      "text/plain": "'Qual o protocolo de acompanhamento dos acometidos por tuberculose?'"
     },
     "execution_count": 134,
     "metadata": {},
     "output_type": "execute_result"
    }
   ],
   "source": [
    "# let's take random text from dataset\n",
    "test_text[289]"
   ],
   "metadata": {
    "collapsed": false,
    "pycharm": {
     "name": "#%%\n"
    }
   }
  },
  {
   "cell_type": "code",
   "execution_count": 135,
   "outputs": [
    {
     "data": {
      "text/plain": "-1"
     },
     "execution_count": 135,
     "metadata": {},
     "output_type": "execute_result"
    }
   ],
   "source": [
    "# check actual category\n",
    "test_labels[289]"
   ],
   "metadata": {
    "collapsed": false,
    "pycharm": {
     "name": "#%%\n"
    }
   }
  },
  {
   "cell_type": "code",
   "execution_count": 136,
   "outputs": [
    {
     "data": {
      "text/plain": "array([-1], dtype=int64)"
     },
     "execution_count": 136,
     "metadata": {},
     "output_type": "execute_result"
    }
   ],
   "source": [
    "# let's predict the category of above random text\n",
    "pipe_clf.predict([test_text[289]])"
   ],
   "metadata": {
    "collapsed": false,
    "pycharm": {
     "name": "#%%\n"
    }
   }
  },
  {
   "cell_type": "code",
   "execution_count": null,
   "outputs": [],
   "source": [],
   "metadata": {
    "collapsed": false,
    "pycharm": {
     "name": "#%%\n"
    }
   }
  }
 ],
 "metadata": {
  "kernelspec": {
   "display_name": "Python 3.8.13 ('chatbot_env')",
   "language": "python",
   "name": "python3"
  },
  "language_info": {
   "codemirror_mode": {
    "name": "ipython",
    "version": 3
   },
   "file_extension": ".py",
   "mimetype": "text/x-python",
   "name": "python",
   "nbconvert_exporter": "python",
   "pygments_lexer": "ipython3",
   "version": "3.8.13"
  },
  "orig_nbformat": 4,
  "vscode": {
   "interpreter": {
    "hash": "b31d2b12a8e3fd9c881a5a24e7147d0c74845586ee91bf16f1bd9f2a67f59324"
   }
  }
 },
 "nbformat": 4,
 "nbformat_minor": 2
}