{
 "cells": [
  {
   "cell_type": "code",
   "execution_count": null,
   "outputs": [],
   "source": [
    "# Import packages\n",
    "import numpy as np\n",
    "import pandas as pd\n",
    "import nltk\n",
    "import spacy\n",
    "\n",
    "from nltk.corpus import stopwords\n",
    "from sklearn.feature_extraction.text import TfidfVectorizer\n",
    "from sklearn.svm import OneClassSVM\n",
    "from pycaret.classification import *\n",
    "\n",
    "# download das stopwords para o idioma português\n",
    "nltk.download('stopwords')"
   ],
   "metadata": {
    "collapsed": false,
    "pycharm": {
     "name": "#%%\n"
    }
   }
  },
  {
   "cell_type": "code",
   "execution_count": null,
   "outputs": [],
   "source": [
    "# Import data\n",
    "df_traindata = pd.read_csv('../data/traindata.csv', delimiter=';')\n",
    "df_testdata = pd.read_csv('../data/testdata.csv', delimiter=';')\n",
    "\n",
    "# Data preparation for Binary\n",
    "df_traindata['category'] = df_traindata.reset_index().category.map({'covid':0, 'seloturismo':0, 'tuberculose':1})\n",
    "df_testdata['category'] = df_testdata.reset_index().category.map({'covid':0, 'seloturismo':0, 'tuberculose':1})\n",
    "\n",
    "# Data separation for One-Class\n",
    "#traindata_covid = df_traindata[df_traindata['category']=='covid']\n",
    "#traindata_tuberculose = df_traindata[df_traindata['category']=='tuberculose']\n",
    "#traindata_seloturismo = df_traindata[df_traindata['category']=='seloturismo']"
   ],
   "metadata": {
    "collapsed": false,
    "pycharm": {
     "name": "#%%\n"
    }
   }
  },
  {
   "cell_type": "code",
   "execution_count": null,
   "outputs": [],
   "source": [
    "# Lemmatizing input string\n",
    "nlp = spacy.load(\"pt_core_news_lg\")\n",
    "lem = nlp.get_pipe(\"lemmatizer\")\n",
    "\n",
    "def lemmatize(data):\n",
    "    inputs = []\n",
    "    for doc in data.input:\n",
    "        d = nlp(doc)\n",
    "        s = ' '.join([token.lemma_ for token in d])       \n",
    "        inputs.append(s)\n",
    "    data['input'] = inputs\n",
    "    return data\n",
    "\n",
    "traindata = lemmatize(df_traindata)\n",
    "testdata = lemmatize(df_testdata)"
   ],
   "metadata": {
    "collapsed": false,
    "pycharm": {
     "name": "#%%\n"
    }
   }
  },
  {
   "cell_type": "code",
   "execution_count": null,
   "outputs": [],
   "source": [
    "# Normalizing and TF-IDF preparation\n",
    "stop_words = stopwords.words('portuguese')\n",
    "\n",
    "tv = TfidfVectorizer(lowercase=True, stop_words=stop_words, strip_accents='unicode', token_pattern=\"[A-Za-z]+\")\n",
    "train_tf_idf = tv.fit_transform(traindata['input'])\n",
    "test_tf_idf = tv.transform(testdata['input'])\n",
    "\n",
    "traindata_vect = pd.DataFrame(train_tf_idf.toarray(), columns=tv.get_feature_names())\n",
    "traindata_vect['target_cat'] = traindata.reset_index().category\n",
    "\n",
    "testdata_vect = pd.DataFrame(test_tf_idf.toarray(), columns=tv.get_feature_names())\n",
    "testdata_vect['target_cat'] = testdata.reset_index().category\n",
    "#testdata_vect.head()\n",
    "#traindata_vect.head()"
   ],
   "metadata": {
    "collapsed": false,
    "pycharm": {
     "name": "#%%\n"
    }
   }
  },
  {
   "cell_type": "code",
   "execution_count": null,
   "outputs": [],
   "source": [
    "s = setup(data=traindata_vect, target='target_cat',numeric_features=list(traindata_vect.iloc[:,:-1].columns), session_id=9999, fold=10, test_data=testdata_vect, silent=True, fix_imbalance=True)"
   ],
   "metadata": {
    "collapsed": false,
    "pycharm": {
     "name": "#%%\n"
    }
   }
  },
  {
   "cell_type": "code",
   "execution_count": null,
   "outputs": [],
   "source": [
    "#top5 = compare_models(n_select = 5)\n",
    "model = compare_models()"
   ],
   "metadata": {
    "collapsed": false,
    "pycharm": {
     "name": "#%%\n"
    }
   }
  },
  {
   "cell_type": "code",
   "execution_count": null,
   "outputs": [],
   "source": [
    "# tune models\n",
    "#tuned = [tune_model(i) for i in top5]"
   ],
   "metadata": {
    "collapsed": false,
    "pycharm": {
     "name": "#%%\n"
    }
   }
  },
  {
   "cell_type": "code",
   "execution_count": null,
   "outputs": [],
   "source": [
    "# ensemble models\n",
    "#bagged = [ensemble_model(i) for i in top5]"
   ],
   "metadata": {
    "collapsed": false,
    "pycharm": {
     "name": "#%%\n"
    }
   }
  },
  {
   "cell_type": "code",
   "execution_count": null,
   "outputs": [],
   "source": [
    "# blend models\n",
    "#blended = blend_models(estimator_list = tuned) "
   ],
   "metadata": {
    "collapsed": false,
    "pycharm": {
     "name": "#%%\n"
    }
   }
  },
  {
   "cell_type": "code",
   "execution_count": null,
   "outputs": [],
   "source": [
    "# stack models\n",
    "#stacked = stack_models(estimator_list = tuned) "
   ],
   "metadata": {
    "collapsed": false,
    "pycharm": {
     "name": "#%%\n"
    }
   }
  },
  {
   "cell_type": "code",
   "execution_count": null,
   "outputs": [],
   "source": [
    "# automl \n",
    "#best = automl(optimize = 'F1')"
   ],
   "metadata": {
    "collapsed": false,
    "pycharm": {
     "name": "#%%\n"
    }
   }
  },
  {
   "cell_type": "code",
   "execution_count": null,
   "outputs": [],
   "source": [
    "# calibrate model\n",
    "#model = calibrate_model(best)"
   ],
   "metadata": {
    "collapsed": false,
    "pycharm": {
     "name": "#%%\n"
    }
   }
  },
  {
   "cell_type": "code",
   "execution_count": 13,
   "metadata": {},
   "outputs": [
    {
     "data": {
      "text/html": [
       "<style type=\"text/css\">\n",
       "</style>\n",
       "<table id=\"T_0c386\">\n",
       "  <thead>\n",
       "    <tr>\n",
       "      <th class=\"blank level0\" >&nbsp;</th>\n",
       "      <th id=\"T_0c386_level0_col0\" class=\"col_heading level0 col0\" >Model</th>\n",
       "      <th id=\"T_0c386_level0_col1\" class=\"col_heading level0 col1\" >Accuracy</th>\n",
       "      <th id=\"T_0c386_level0_col2\" class=\"col_heading level0 col2\" >AUC</th>\n",
       "      <th id=\"T_0c386_level0_col3\" class=\"col_heading level0 col3\" >Recall</th>\n",
       "      <th id=\"T_0c386_level0_col4\" class=\"col_heading level0 col4\" >Prec.</th>\n",
       "      <th id=\"T_0c386_level0_col5\" class=\"col_heading level0 col5\" >F1</th>\n",
       "      <th id=\"T_0c386_level0_col6\" class=\"col_heading level0 col6\" >Kappa</th>\n",
       "      <th id=\"T_0c386_level0_col7\" class=\"col_heading level0 col7\" >MCC</th>\n",
       "    </tr>\n",
       "  </thead>\n",
       "  <tbody>\n",
       "    <tr>\n",
       "      <th id=\"T_0c386_level0_row0\" class=\"row_heading level0 row0\" >0</th>\n",
       "      <td id=\"T_0c386_row0_col0\" class=\"data row0 col0\" >CatBoost Classifier</td>\n",
       "      <td id=\"T_0c386_row0_col1\" class=\"data row0 col1\" >0.8637</td>\n",
       "      <td id=\"T_0c386_row0_col2\" class=\"data row0 col2\" >0.9275</td>\n",
       "      <td id=\"T_0c386_row0_col3\" class=\"data row0 col3\" >0.5912</td>\n",
       "      <td id=\"T_0c386_row0_col4\" class=\"data row0 col4\" >1.0000</td>\n",
       "      <td id=\"T_0c386_row0_col5\" class=\"data row0 col5\" >0.7431</td>\n",
       "      <td id=\"T_0c386_row0_col6\" class=\"data row0 col6\" >0.6585</td>\n",
       "      <td id=\"T_0c386_row0_col7\" class=\"data row0 col7\" >0.7006</td>\n",
       "    </tr>\n",
       "  </tbody>\n",
       "</table>\n"
      ],
      "text/plain": [
       "<pandas.io.formats.style.Styler at 0x1fec8ea5340>"
      ]
     },
     "metadata": {},
     "output_type": "display_data"
    },
    {
     "data": {
      "text/html": [
       "<div>\n",
       "<style scoped>\n",
       "    .dataframe tbody tr th:only-of-type {\n",
       "        vertical-align: middle;\n",
       "    }\n",
       "\n",
       "    .dataframe tbody tr th {\n",
       "        vertical-align: top;\n",
       "    }\n",
       "\n",
       "    .dataframe thead th {\n",
       "        text-align: right;\n",
       "    }\n",
       "</style>\n",
       "<table border=\"1\" class=\"dataframe\">\n",
       "  <thead>\n",
       "    <tr style=\"text-align: right;\">\n",
       "      <th></th>\n",
       "      <th>abdomen</th>\n",
       "      <th>abracar</th>\n",
       "      <th>abraco</th>\n",
       "      <th>acessibilidade</th>\n",
       "      <th>acesso</th>\n",
       "      <th>achar</th>\n",
       "      <th>acionar</th>\n",
       "      <th>acometir</th>\n",
       "      <th>acompanhar</th>\n",
       "      <th>acontecer</th>\n",
       "      <th>...</th>\n",
       "      <th>vistoria</th>\n",
       "      <th>vistorias</th>\n",
       "      <th>viver</th>\n",
       "      <th>vivo</th>\n",
       "      <th>voltar</th>\n",
       "      <th>vou</th>\n",
       "      <th>vulneravel</th>\n",
       "      <th>target_cat</th>\n",
       "      <th>Label</th>\n",
       "      <th>Score</th>\n",
       "    </tr>\n",
       "  </thead>\n",
       "  <tbody>\n",
       "    <tr>\n",
       "      <th>0</th>\n",
       "      <td>0.0</td>\n",
       "      <td>0.0</td>\n",
       "      <td>0.0</td>\n",
       "      <td>0.0</td>\n",
       "      <td>0.000000</td>\n",
       "      <td>0.0</td>\n",
       "      <td>0.0</td>\n",
       "      <td>0.0</td>\n",
       "      <td>0.0</td>\n",
       "      <td>0.0</td>\n",
       "      <td>...</td>\n",
       "      <td>0.0</td>\n",
       "      <td>0.0</td>\n",
       "      <td>0.0</td>\n",
       "      <td>0.0</td>\n",
       "      <td>0.0</td>\n",
       "      <td>0.0</td>\n",
       "      <td>0.0</td>\n",
       "      <td>0</td>\n",
       "      <td>0</td>\n",
       "      <td>0.9942</td>\n",
       "    </tr>\n",
       "    <tr>\n",
       "      <th>1</th>\n",
       "      <td>0.0</td>\n",
       "      <td>0.0</td>\n",
       "      <td>0.0</td>\n",
       "      <td>0.0</td>\n",
       "      <td>0.000000</td>\n",
       "      <td>0.0</td>\n",
       "      <td>0.0</td>\n",
       "      <td>0.0</td>\n",
       "      <td>0.0</td>\n",
       "      <td>0.0</td>\n",
       "      <td>...</td>\n",
       "      <td>0.0</td>\n",
       "      <td>0.0</td>\n",
       "      <td>0.0</td>\n",
       "      <td>0.0</td>\n",
       "      <td>0.0</td>\n",
       "      <td>0.0</td>\n",
       "      <td>0.0</td>\n",
       "      <td>0</td>\n",
       "      <td>0</td>\n",
       "      <td>0.9942</td>\n",
       "    </tr>\n",
       "    <tr>\n",
       "      <th>2</th>\n",
       "      <td>0.0</td>\n",
       "      <td>0.0</td>\n",
       "      <td>0.0</td>\n",
       "      <td>0.0</td>\n",
       "      <td>0.000000</td>\n",
       "      <td>0.0</td>\n",
       "      <td>0.0</td>\n",
       "      <td>0.0</td>\n",
       "      <td>0.0</td>\n",
       "      <td>0.0</td>\n",
       "      <td>...</td>\n",
       "      <td>0.0</td>\n",
       "      <td>0.0</td>\n",
       "      <td>0.0</td>\n",
       "      <td>0.0</td>\n",
       "      <td>0.0</td>\n",
       "      <td>0.0</td>\n",
       "      <td>0.0</td>\n",
       "      <td>0</td>\n",
       "      <td>0</td>\n",
       "      <td>0.9939</td>\n",
       "    </tr>\n",
       "    <tr>\n",
       "      <th>3</th>\n",
       "      <td>0.0</td>\n",
       "      <td>0.0</td>\n",
       "      <td>0.0</td>\n",
       "      <td>0.0</td>\n",
       "      <td>0.493011</td>\n",
       "      <td>0.0</td>\n",
       "      <td>0.0</td>\n",
       "      <td>0.0</td>\n",
       "      <td>0.0</td>\n",
       "      <td>0.0</td>\n",
       "      <td>...</td>\n",
       "      <td>0.0</td>\n",
       "      <td>0.0</td>\n",
       "      <td>0.0</td>\n",
       "      <td>0.0</td>\n",
       "      <td>0.0</td>\n",
       "      <td>0.0</td>\n",
       "      <td>0.0</td>\n",
       "      <td>0</td>\n",
       "      <td>0</td>\n",
       "      <td>0.9939</td>\n",
       "    </tr>\n",
       "    <tr>\n",
       "      <th>4</th>\n",
       "      <td>0.0</td>\n",
       "      <td>0.0</td>\n",
       "      <td>0.0</td>\n",
       "      <td>0.0</td>\n",
       "      <td>0.000000</td>\n",
       "      <td>0.0</td>\n",
       "      <td>0.0</td>\n",
       "      <td>0.0</td>\n",
       "      <td>0.0</td>\n",
       "      <td>0.0</td>\n",
       "      <td>...</td>\n",
       "      <td>0.0</td>\n",
       "      <td>0.0</td>\n",
       "      <td>0.0</td>\n",
       "      <td>0.0</td>\n",
       "      <td>0.0</td>\n",
       "      <td>0.0</td>\n",
       "      <td>0.0</td>\n",
       "      <td>0</td>\n",
       "      <td>0</td>\n",
       "      <td>0.9940</td>\n",
       "    </tr>\n",
       "    <tr>\n",
       "      <th>...</th>\n",
       "      <td>...</td>\n",
       "      <td>...</td>\n",
       "      <td>...</td>\n",
       "      <td>...</td>\n",
       "      <td>...</td>\n",
       "      <td>...</td>\n",
       "      <td>...</td>\n",
       "      <td>...</td>\n",
       "      <td>...</td>\n",
       "      <td>...</td>\n",
       "      <td>...</td>\n",
       "      <td>...</td>\n",
       "      <td>...</td>\n",
       "      <td>...</td>\n",
       "      <td>...</td>\n",
       "      <td>...</td>\n",
       "      <td>...</td>\n",
       "      <td>...</td>\n",
       "      <td>...</td>\n",
       "      <td>...</td>\n",
       "      <td>...</td>\n",
       "    </tr>\n",
       "    <tr>\n",
       "      <th>472</th>\n",
       "      <td>0.0</td>\n",
       "      <td>0.0</td>\n",
       "      <td>0.0</td>\n",
       "      <td>0.0</td>\n",
       "      <td>0.000000</td>\n",
       "      <td>0.0</td>\n",
       "      <td>0.0</td>\n",
       "      <td>0.0</td>\n",
       "      <td>0.0</td>\n",
       "      <td>0.0</td>\n",
       "      <td>...</td>\n",
       "      <td>0.0</td>\n",
       "      <td>0.0</td>\n",
       "      <td>0.0</td>\n",
       "      <td>0.0</td>\n",
       "      <td>0.0</td>\n",
       "      <td>0.0</td>\n",
       "      <td>0.0</td>\n",
       "      <td>0</td>\n",
       "      <td>0</td>\n",
       "      <td>0.9962</td>\n",
       "    </tr>\n",
       "    <tr>\n",
       "      <th>473</th>\n",
       "      <td>0.0</td>\n",
       "      <td>0.0</td>\n",
       "      <td>0.0</td>\n",
       "      <td>0.0</td>\n",
       "      <td>0.000000</td>\n",
       "      <td>0.0</td>\n",
       "      <td>0.0</td>\n",
       "      <td>0.0</td>\n",
       "      <td>0.0</td>\n",
       "      <td>0.0</td>\n",
       "      <td>...</td>\n",
       "      <td>0.0</td>\n",
       "      <td>0.0</td>\n",
       "      <td>0.0</td>\n",
       "      <td>0.0</td>\n",
       "      <td>0.0</td>\n",
       "      <td>0.0</td>\n",
       "      <td>0.0</td>\n",
       "      <td>0</td>\n",
       "      <td>0</td>\n",
       "      <td>0.9959</td>\n",
       "    </tr>\n",
       "    <tr>\n",
       "      <th>474</th>\n",
       "      <td>0.0</td>\n",
       "      <td>0.0</td>\n",
       "      <td>0.0</td>\n",
       "      <td>0.0</td>\n",
       "      <td>0.000000</td>\n",
       "      <td>0.0</td>\n",
       "      <td>0.0</td>\n",
       "      <td>0.0</td>\n",
       "      <td>0.0</td>\n",
       "      <td>0.0</td>\n",
       "      <td>...</td>\n",
       "      <td>0.0</td>\n",
       "      <td>0.0</td>\n",
       "      <td>0.0</td>\n",
       "      <td>0.0</td>\n",
       "      <td>0.0</td>\n",
       "      <td>0.0</td>\n",
       "      <td>0.0</td>\n",
       "      <td>0</td>\n",
       "      <td>0</td>\n",
       "      <td>0.9961</td>\n",
       "    </tr>\n",
       "    <tr>\n",
       "      <th>475</th>\n",
       "      <td>0.0</td>\n",
       "      <td>0.0</td>\n",
       "      <td>0.0</td>\n",
       "      <td>0.0</td>\n",
       "      <td>0.000000</td>\n",
       "      <td>0.0</td>\n",
       "      <td>0.0</td>\n",
       "      <td>0.0</td>\n",
       "      <td>0.0</td>\n",
       "      <td>0.0</td>\n",
       "      <td>...</td>\n",
       "      <td>0.0</td>\n",
       "      <td>0.0</td>\n",
       "      <td>0.0</td>\n",
       "      <td>0.0</td>\n",
       "      <td>0.0</td>\n",
       "      <td>0.0</td>\n",
       "      <td>0.0</td>\n",
       "      <td>0</td>\n",
       "      <td>0</td>\n",
       "      <td>0.9957</td>\n",
       "    </tr>\n",
       "    <tr>\n",
       "      <th>476</th>\n",
       "      <td>0.0</td>\n",
       "      <td>0.0</td>\n",
       "      <td>0.0</td>\n",
       "      <td>0.0</td>\n",
       "      <td>0.000000</td>\n",
       "      <td>0.0</td>\n",
       "      <td>0.0</td>\n",
       "      <td>0.0</td>\n",
       "      <td>0.0</td>\n",
       "      <td>0.0</td>\n",
       "      <td>...</td>\n",
       "      <td>0.0</td>\n",
       "      <td>0.0</td>\n",
       "      <td>0.0</td>\n",
       "      <td>0.0</td>\n",
       "      <td>0.0</td>\n",
       "      <td>0.0</td>\n",
       "      <td>0.0</td>\n",
       "      <td>0</td>\n",
       "      <td>0</td>\n",
       "      <td>0.9940</td>\n",
       "    </tr>\n",
       "  </tbody>\n",
       "</table>\n",
       "<p>477 rows × 1007 columns</p>\n",
       "</div>"
      ],
      "text/plain": [
       "     abdomen  abracar  abraco  acessibilidade    acesso  achar  acionar  \\\n",
       "0        0.0      0.0     0.0             0.0  0.000000    0.0      0.0   \n",
       "1        0.0      0.0     0.0             0.0  0.000000    0.0      0.0   \n",
       "2        0.0      0.0     0.0             0.0  0.000000    0.0      0.0   \n",
       "3        0.0      0.0     0.0             0.0  0.493011    0.0      0.0   \n",
       "4        0.0      0.0     0.0             0.0  0.000000    0.0      0.0   \n",
       "..       ...      ...     ...             ...       ...    ...      ...   \n",
       "472      0.0      0.0     0.0             0.0  0.000000    0.0      0.0   \n",
       "473      0.0      0.0     0.0             0.0  0.000000    0.0      0.0   \n",
       "474      0.0      0.0     0.0             0.0  0.000000    0.0      0.0   \n",
       "475      0.0      0.0     0.0             0.0  0.000000    0.0      0.0   \n",
       "476      0.0      0.0     0.0             0.0  0.000000    0.0      0.0   \n",
       "\n",
       "     acometir  acompanhar  acontecer  ...  vistoria  vistorias  viver  vivo  \\\n",
       "0         0.0         0.0        0.0  ...       0.0        0.0    0.0   0.0   \n",
       "1         0.0         0.0        0.0  ...       0.0        0.0    0.0   0.0   \n",
       "2         0.0         0.0        0.0  ...       0.0        0.0    0.0   0.0   \n",
       "3         0.0         0.0        0.0  ...       0.0        0.0    0.0   0.0   \n",
       "4         0.0         0.0        0.0  ...       0.0        0.0    0.0   0.0   \n",
       "..        ...         ...        ...  ...       ...        ...    ...   ...   \n",
       "472       0.0         0.0        0.0  ...       0.0        0.0    0.0   0.0   \n",
       "473       0.0         0.0        0.0  ...       0.0        0.0    0.0   0.0   \n",
       "474       0.0         0.0        0.0  ...       0.0        0.0    0.0   0.0   \n",
       "475       0.0         0.0        0.0  ...       0.0        0.0    0.0   0.0   \n",
       "476       0.0         0.0        0.0  ...       0.0        0.0    0.0   0.0   \n",
       "\n",
       "     voltar  vou  vulneravel  target_cat  Label   Score  \n",
       "0       0.0  0.0         0.0           0      0  0.9942  \n",
       "1       0.0  0.0         0.0           0      0  0.9942  \n",
       "2       0.0  0.0         0.0           0      0  0.9939  \n",
       "3       0.0  0.0         0.0           0      0  0.9939  \n",
       "4       0.0  0.0         0.0           0      0  0.9940  \n",
       "..      ...  ...         ...         ...    ...     ...  \n",
       "472     0.0  0.0         0.0           0      0  0.9962  \n",
       "473     0.0  0.0         0.0           0      0  0.9959  \n",
       "474     0.0  0.0         0.0           0      0  0.9961  \n",
       "475     0.0  0.0         0.0           0      0  0.9957  \n",
       "476     0.0  0.0         0.0           0      0  0.9940  \n",
       "\n",
       "[477 rows x 1007 columns]"
      ]
     },
     "execution_count": 13,
     "metadata": {},
     "output_type": "execute_result"
    }
   ],
   "source": [
    "predict_model(model, probability_threshold=0.75)"
   ]
  },
  {
   "cell_type": "code",
   "execution_count": 14,
   "metadata": {},
   "outputs": [
    {
     "name": "stdout",
     "output_type": "stream",
     "text": [
      "<catboost.core.CatBoostClassifier object at 0x000001FEFA0F9100>\n"
     ]
    }
   ],
   "source": [
    "print(model)"
   ]
  }
 ],
 "metadata": {
  "kernelspec": {
   "display_name": "Python 3.9.12 ('base')",
   "language": "python",
   "name": "python3"
  },
  "language_info": {
   "codemirror_mode": {
    "name": "ipython",
    "version": 3
   },
   "file_extension": ".py",
   "mimetype": "text/x-python",
   "name": "python",
   "nbconvert_exporter": "python",
   "pygments_lexer": "ipython3",
   "version": "3.9.12"
  },
  "orig_nbformat": 4,
  "vscode": {
   "interpreter": {
    "hash": "86ced299d573a58fc1d464bd2f917835a691b9d9cefee14c59fce60008360703"
   }
  }
 },
 "nbformat": 4,
 "nbformat_minor": 2
}