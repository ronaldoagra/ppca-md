{
 "cells": [
  {
   "cell_type": "code",
   "execution_count": 1,
   "metadata": {},
   "outputs": [],
   "source": [
    "#import sys\n",
    "#!{sys.executable} -m pip install BitVector"
   ]
  },
  {
   "cell_type": "code",
   "execution_count": 2,
   "metadata": {
    "collapsed": true,
    "pycharm": {
     "name": "#%%\n"
    }
   },
   "outputs": [],
   "source": [
    "import numpy as np\n",
    "import pandas as pd\n",
    "from sklearn.feature_extraction.text import TfidfVectorizer\n",
    "from sklearn.neighbors import NearestNeighbors\n",
    "from sklearn.model_selection import train_test_split\n",
    "from sklearn.metrics import accuracy_score, classification_report\n",
    "import spacy\n",
    "from spacy.lang.pt import Portuguese\n",
    "from nltk.corpus import stopwords\n",
    "import time\n",
    "from pycaret.classification import *\n",
    "\n",
    "import warnings\n",
    "warnings.filterwarnings('ignore')"
   ]
  },
  {
   "cell_type": "code",
   "execution_count": 3,
   "metadata": {
    "collapsed": false,
    "pycharm": {
     "name": "#%%\n"
    }
   },
   "outputs": [],
   "source": [
    "nlp = spacy.load('pt_core_news_lg')\n",
    "parser = Portuguese()"
   ]
  },
  {
   "cell_type": "markdown",
   "metadata": {
    "collapsed": false,
    "pycharm": {
     "name": "#%% md\n"
    }
   },
   "source": [
    "# Preparação dos dados"
   ]
  },
  {
   "cell_type": "code",
   "execution_count": 4,
   "metadata": {
    "collapsed": false,
    "pycharm": {
     "name": "#%%\n"
    }
   },
   "outputs": [],
   "source": [
    "# Import data\n",
    "df_traindata = pd.read_csv('../data/traindata.csv', delimiter=';')\n",
    "df_testdata = pd.read_csv('../data/testdata.csv', delimiter=';')\n",
    "\n",
    "# Data preparation for Binary\n",
    "df_traindata['category'] = df_traindata.reset_index().category.map({'covid':0, 'seloturismo':1, 'tuberculose':2})\n",
    "df_testdata['category'] = df_testdata.reset_index().category.map({'covid':0, 'seloturismo':1, 'tuberculose':2})"
   ]
  },
  {
   "cell_type": "code",
   "execution_count": 5,
   "metadata": {},
   "outputs": [],
   "source": [
    "# Lemmatizing input string\n",
    "nlp = spacy.load(\"pt_core_news_lg\")\n",
    "lem = nlp.get_pipe(\"lemmatizer\")\n",
    "\n",
    "def lemmatize(data):\n",
    "    inputs = []\n",
    "    for doc in data.input:\n",
    "        d = nlp(doc)\n",
    "        s = ' '.join([token.lemma_ for token in d])       \n",
    "        inputs.append(s)\n",
    "    data['input'] = inputs\n",
    "    return data\n",
    "\n",
    "traindata = lemmatize(df_traindata)\n",
    "testdata = lemmatize(df_testdata)"
   ]
  },
  {
   "cell_type": "code",
   "execution_count": 6,
   "metadata": {},
   "outputs": [],
   "source": [
    "# Normalizing and TF-IDF preparation\n",
    "stop_words = stopwords.words('portuguese')\n",
    "\n",
    "tv = TfidfVectorizer(lowercase=True, stop_words=stop_words, strip_accents='unicode', token_pattern=\"[A-Za-z]+\")\n",
    "train_tf_idf = tv.fit_transform(traindata['input'])\n",
    "test_tf_idf = tv.transform(testdata['input'])\n",
    "\n",
    "traindata_vect = pd.DataFrame(train_tf_idf.toarray(), columns=tv.get_feature_names())\n",
    "traindata_vect['target_cat'] = traindata.reset_index().category\n",
    "\n",
    "testdata_vect = pd.DataFrame(test_tf_idf.toarray(), columns=tv.get_feature_names())\n",
    "testdata_vect['target_cat'] = testdata.reset_index().category"
   ]
  },
  {
   "cell_type": "markdown",
   "metadata": {
    "collapsed": false,
    "pycharm": {
     "name": "#%% md\n"
    }
   },
   "source": [
    "# Treinamento do modelo com os dados originais"
   ]
  },
  {
   "cell_type": "code",
   "execution_count": 7,
   "metadata": {},
   "outputs": [
    {
     "data": {
      "text/html": [
       "<style type=\"text/css\">\n",
       "#T_79633_row10_col0, #T_79633_row10_col1, #T_79633_row10_col2, #T_79633_row10_col3, #T_79633_row10_col4, #T_79633_row10_col5, #T_79633_row10_col6 {\n",
       "  background: yellow;\n",
       "}\n",
       "</style>\n",
       "<table id=\"T_79633\">\n",
       "  <thead>\n",
       "    <tr>\n",
       "      <th class=\"blank level0\" >&nbsp;</th>\n",
       "      <th id=\"T_79633_level0_col0\" class=\"col_heading level0 col0\" >Accuracy</th>\n",
       "      <th id=\"T_79633_level0_col1\" class=\"col_heading level0 col1\" >AUC</th>\n",
       "      <th id=\"T_79633_level0_col2\" class=\"col_heading level0 col2\" >Recall</th>\n",
       "      <th id=\"T_79633_level0_col3\" class=\"col_heading level0 col3\" >Prec.</th>\n",
       "      <th id=\"T_79633_level0_col4\" class=\"col_heading level0 col4\" >F1</th>\n",
       "      <th id=\"T_79633_level0_col5\" class=\"col_heading level0 col5\" >Kappa</th>\n",
       "      <th id=\"T_79633_level0_col6\" class=\"col_heading level0 col6\" >MCC</th>\n",
       "    </tr>\n",
       "    <tr>\n",
       "      <th class=\"index_name level0\" >Fold</th>\n",
       "      <th class=\"blank col0\" >&nbsp;</th>\n",
       "      <th class=\"blank col1\" >&nbsp;</th>\n",
       "      <th class=\"blank col2\" >&nbsp;</th>\n",
       "      <th class=\"blank col3\" >&nbsp;</th>\n",
       "      <th class=\"blank col4\" >&nbsp;</th>\n",
       "      <th class=\"blank col5\" >&nbsp;</th>\n",
       "      <th class=\"blank col6\" >&nbsp;</th>\n",
       "    </tr>\n",
       "  </thead>\n",
       "  <tbody>\n",
       "    <tr>\n",
       "      <th id=\"T_79633_level0_row0\" class=\"row_heading level0 row0\" >0</th>\n",
       "      <td id=\"T_79633_row0_col0\" class=\"data row0 col0\" >0.9500</td>\n",
       "      <td id=\"T_79633_row0_col1\" class=\"data row0 col1\" >0.0000</td>\n",
       "      <td id=\"T_79633_row0_col2\" class=\"data row0 col2\" >0.9426</td>\n",
       "      <td id=\"T_79633_row0_col3\" class=\"data row0 col3\" >0.9531</td>\n",
       "      <td id=\"T_79633_row0_col4\" class=\"data row0 col4\" >0.9496</td>\n",
       "      <td id=\"T_79633_row0_col5\" class=\"data row0 col5\" >0.9142</td>\n",
       "      <td id=\"T_79633_row0_col6\" class=\"data row0 col6\" >0.9156</td>\n",
       "    </tr>\n",
       "    <tr>\n",
       "      <th id=\"T_79633_level0_row1\" class=\"row_heading level0 row1\" >1</th>\n",
       "      <td id=\"T_79633_row1_col0\" class=\"data row1 col0\" >0.9333</td>\n",
       "      <td id=\"T_79633_row1_col1\" class=\"data row1 col1\" >0.0000</td>\n",
       "      <td id=\"T_79633_row1_col2\" class=\"data row1 col2\" >0.8991</td>\n",
       "      <td id=\"T_79633_row1_col3\" class=\"data row1 col3\" >0.9380</td>\n",
       "      <td id=\"T_79633_row1_col4\" class=\"data row1 col4\" >0.9320</td>\n",
       "      <td id=\"T_79633_row1_col5\" class=\"data row1 col5\" >0.8818</td>\n",
       "      <td id=\"T_79633_row1_col6\" class=\"data row1 col6\" >0.8868</td>\n",
       "    </tr>\n",
       "    <tr>\n",
       "      <th id=\"T_79633_level0_row2\" class=\"row_heading level0 row2\" >2</th>\n",
       "      <td id=\"T_79633_row2_col0\" class=\"data row2 col0\" >0.9500</td>\n",
       "      <td id=\"T_79633_row2_col1\" class=\"data row2 col1\" >0.0000</td>\n",
       "      <td id=\"T_79633_row2_col2\" class=\"data row2 col2\" >0.9156</td>\n",
       "      <td id=\"T_79633_row2_col3\" class=\"data row2 col3\" >0.9540</td>\n",
       "      <td id=\"T_79633_row2_col4\" class=\"data row2 col4\" >0.9484</td>\n",
       "      <td id=\"T_79633_row2_col5\" class=\"data row2 col5\" >0.9106</td>\n",
       "      <td id=\"T_79633_row2_col6\" class=\"data row2 col6\" >0.9148</td>\n",
       "    </tr>\n",
       "    <tr>\n",
       "      <th id=\"T_79633_level0_row3\" class=\"row_heading level0 row3\" >3</th>\n",
       "      <td id=\"T_79633_row3_col0\" class=\"data row3 col0\" >1.0000</td>\n",
       "      <td id=\"T_79633_row3_col1\" class=\"data row3 col1\" >0.0000</td>\n",
       "      <td id=\"T_79633_row3_col2\" class=\"data row3 col2\" >1.0000</td>\n",
       "      <td id=\"T_79633_row3_col3\" class=\"data row3 col3\" >1.0000</td>\n",
       "      <td id=\"T_79633_row3_col4\" class=\"data row3 col4\" >1.0000</td>\n",
       "      <td id=\"T_79633_row3_col5\" class=\"data row3 col5\" >1.0000</td>\n",
       "      <td id=\"T_79633_row3_col6\" class=\"data row3 col6\" >1.0000</td>\n",
       "    </tr>\n",
       "    <tr>\n",
       "      <th id=\"T_79633_level0_row4\" class=\"row_heading level0 row4\" >4</th>\n",
       "      <td id=\"T_79633_row4_col0\" class=\"data row4 col0\" >0.9917</td>\n",
       "      <td id=\"T_79633_row4_col1\" class=\"data row4 col1\" >0.0000</td>\n",
       "      <td id=\"T_79633_row4_col2\" class=\"data row4 col2\" >0.9855</td>\n",
       "      <td id=\"T_79633_row4_col3\" class=\"data row4 col3\" >0.9918</td>\n",
       "      <td id=\"T_79633_row4_col4\" class=\"data row4 col4\" >0.9916</td>\n",
       "      <td id=\"T_79633_row4_col5\" class=\"data row4 col5\" >0.9855</td>\n",
       "      <td id=\"T_79633_row4_col6\" class=\"data row4 col6\" >0.9856</td>\n",
       "    </tr>\n",
       "    <tr>\n",
       "      <th id=\"T_79633_level0_row5\" class=\"row_heading level0 row5\" >5</th>\n",
       "      <td id=\"T_79633_row5_col0\" class=\"data row5 col0\" >0.9000</td>\n",
       "      <td id=\"T_79633_row5_col1\" class=\"data row5 col1\" >0.0000</td>\n",
       "      <td id=\"T_79633_row5_col2\" class=\"data row5 col2\" >0.8313</td>\n",
       "      <td id=\"T_79633_row5_col3\" class=\"data row5 col3\" >0.9072</td>\n",
       "      <td id=\"T_79633_row5_col4\" class=\"data row5 col4\" >0.8919</td>\n",
       "      <td id=\"T_79633_row5_col5\" class=\"data row5 col5\" >0.8161</td>\n",
       "      <td id=\"T_79633_row5_col6\" class=\"data row5 col6\" >0.8295</td>\n",
       "    </tr>\n",
       "    <tr>\n",
       "      <th id=\"T_79633_level0_row6\" class=\"row_heading level0 row6\" >6</th>\n",
       "      <td id=\"T_79633_row6_col0\" class=\"data row6 col0\" >0.9667</td>\n",
       "      <td id=\"T_79633_row6_col1\" class=\"data row6 col1\" >0.0000</td>\n",
       "      <td id=\"T_79633_row6_col2\" class=\"data row6 col2\" >0.9543</td>\n",
       "      <td id=\"T_79633_row6_col3\" class=\"data row6 col3\" >0.9670</td>\n",
       "      <td id=\"T_79633_row6_col4\" class=\"data row6 col4\" >0.9666</td>\n",
       "      <td id=\"T_79633_row6_col5\" class=\"data row6 col5\" >0.9417</td>\n",
       "      <td id=\"T_79633_row6_col6\" class=\"data row6 col6\" >0.9421</td>\n",
       "    </tr>\n",
       "    <tr>\n",
       "      <th id=\"T_79633_level0_row7\" class=\"row_heading level0 row7\" >7</th>\n",
       "      <td id=\"T_79633_row7_col0\" class=\"data row7 col0\" >1.0000</td>\n",
       "      <td id=\"T_79633_row7_col1\" class=\"data row7 col1\" >0.0000</td>\n",
       "      <td id=\"T_79633_row7_col2\" class=\"data row7 col2\" >1.0000</td>\n",
       "      <td id=\"T_79633_row7_col3\" class=\"data row7 col3\" >1.0000</td>\n",
       "      <td id=\"T_79633_row7_col4\" class=\"data row7 col4\" >1.0000</td>\n",
       "      <td id=\"T_79633_row7_col5\" class=\"data row7 col5\" >1.0000</td>\n",
       "      <td id=\"T_79633_row7_col6\" class=\"data row7 col6\" >1.0000</td>\n",
       "    </tr>\n",
       "    <tr>\n",
       "      <th id=\"T_79633_level0_row8\" class=\"row_heading level0 row8\" >8</th>\n",
       "      <td id=\"T_79633_row8_col0\" class=\"data row8 col0\" >0.9917</td>\n",
       "      <td id=\"T_79633_row8_col1\" class=\"data row8 col1\" >0.0000</td>\n",
       "      <td id=\"T_79633_row8_col2\" class=\"data row8 col2\" >0.9855</td>\n",
       "      <td id=\"T_79633_row8_col3\" class=\"data row8 col3\" >0.9920</td>\n",
       "      <td id=\"T_79633_row8_col4\" class=\"data row8 col4\" >0.9916</td>\n",
       "      <td id=\"T_79633_row8_col5\" class=\"data row8 col5\" >0.9856</td>\n",
       "      <td id=\"T_79633_row8_col6\" class=\"data row8 col6\" >0.9857</td>\n",
       "    </tr>\n",
       "    <tr>\n",
       "      <th id=\"T_79633_level0_row9\" class=\"row_heading level0 row9\" >9</th>\n",
       "      <td id=\"T_79633_row9_col0\" class=\"data row9 col0\" >0.9496</td>\n",
       "      <td id=\"T_79633_row9_col1\" class=\"data row9 col1\" >0.0000</td>\n",
       "      <td id=\"T_79633_row9_col2\" class=\"data row9 col2\" >0.9156</td>\n",
       "      <td id=\"T_79633_row9_col3\" class=\"data row9 col3\" >0.9520</td>\n",
       "      <td id=\"T_79633_row9_col4\" class=\"data row9 col4\" >0.9477</td>\n",
       "      <td id=\"T_79633_row9_col5\" class=\"data row9 col5\" >0.9112</td>\n",
       "      <td id=\"T_79633_row9_col6\" class=\"data row9 col6\" >0.9139</td>\n",
       "    </tr>\n",
       "    <tr>\n",
       "      <th id=\"T_79633_level0_row10\" class=\"row_heading level0 row10\" >Mean</th>\n",
       "      <td id=\"T_79633_row10_col0\" class=\"data row10 col0\" >0.9633</td>\n",
       "      <td id=\"T_79633_row10_col1\" class=\"data row10 col1\" >0.0000</td>\n",
       "      <td id=\"T_79633_row10_col2\" class=\"data row10 col2\" >0.9429</td>\n",
       "      <td id=\"T_79633_row10_col3\" class=\"data row10 col3\" >0.9655</td>\n",
       "      <td id=\"T_79633_row10_col4\" class=\"data row10 col4\" >0.9620</td>\n",
       "      <td id=\"T_79633_row10_col5\" class=\"data row10 col5\" >0.9347</td>\n",
       "      <td id=\"T_79633_row10_col6\" class=\"data row10 col6\" >0.9374</td>\n",
       "    </tr>\n",
       "    <tr>\n",
       "      <th id=\"T_79633_level0_row11\" class=\"row_heading level0 row11\" >Std</th>\n",
       "      <td id=\"T_79633_row11_col0\" class=\"data row11 col0\" >0.0312</td>\n",
       "      <td id=\"T_79633_row11_col1\" class=\"data row11 col1\" >0.0000</td>\n",
       "      <td id=\"T_79633_row11_col2\" class=\"data row11 col2\" >0.0511</td>\n",
       "      <td id=\"T_79633_row11_col3\" class=\"data row11 col3\" >0.0290</td>\n",
       "      <td id=\"T_79633_row11_col4\" class=\"data row11 col4\" >0.0332</td>\n",
       "      <td id=\"T_79633_row11_col5\" class=\"data row11 col5\" >0.0567</td>\n",
       "      <td id=\"T_79633_row11_col6\" class=\"data row11 col6\" >0.0532</td>\n",
       "    </tr>\n",
       "  </tbody>\n",
       "</table>\n"
      ],
      "text/plain": [
       "<pandas.io.formats.style.Styler at 0x21237ec1790>"
      ]
     },
     "metadata": {},
     "output_type": "display_data"
    }
   ],
   "source": [
    "s = setup(data=traindata_vect, target='target_cat', numeric_features=list(traindata_vect.iloc[:,:-1].columns) ,session_id=9999, fold=10, test_data=testdata_vect, silent=True, fix_imbalance=True)\n",
    "svm = create_model('svm')\n"
   ]
  },
  {
   "cell_type": "code",
   "execution_count": 8,
   "metadata": {},
   "outputs": [
    {
     "data": {
      "text/html": [
       "<style type=\"text/css\">\n",
       "</style>\n",
       "<table id=\"T_38078\">\n",
       "  <thead>\n",
       "    <tr>\n",
       "      <th class=\"blank level0\" >&nbsp;</th>\n",
       "      <th id=\"T_38078_level0_col0\" class=\"col_heading level0 col0\" >Model</th>\n",
       "      <th id=\"T_38078_level0_col1\" class=\"col_heading level0 col1\" >Accuracy</th>\n",
       "      <th id=\"T_38078_level0_col2\" class=\"col_heading level0 col2\" >AUC</th>\n",
       "      <th id=\"T_38078_level0_col3\" class=\"col_heading level0 col3\" >Recall</th>\n",
       "      <th id=\"T_38078_level0_col4\" class=\"col_heading level0 col4\" >Prec.</th>\n",
       "      <th id=\"T_38078_level0_col5\" class=\"col_heading level0 col5\" >F1</th>\n",
       "      <th id=\"T_38078_level0_col6\" class=\"col_heading level0 col6\" >Kappa</th>\n",
       "      <th id=\"T_38078_level0_col7\" class=\"col_heading level0 col7\" >MCC</th>\n",
       "    </tr>\n",
       "  </thead>\n",
       "  <tbody>\n",
       "    <tr>\n",
       "      <th id=\"T_38078_level0_row0\" class=\"row_heading level0 row0\" >0</th>\n",
       "      <td id=\"T_38078_row0_col0\" class=\"data row0 col0\" >SVM - Linear Kernel</td>\n",
       "      <td id=\"T_38078_row0_col1\" class=\"data row0 col1\" >0.8532</td>\n",
       "      <td id=\"T_38078_row0_col2\" class=\"data row0 col2\" >0</td>\n",
       "      <td id=\"T_38078_row0_col3\" class=\"data row0 col3\" >0.8532</td>\n",
       "      <td id=\"T_38078_row0_col4\" class=\"data row0 col4\" >0.8646</td>\n",
       "      <td id=\"T_38078_row0_col5\" class=\"data row0 col5\" >0.8530</td>\n",
       "      <td id=\"T_38078_row0_col6\" class=\"data row0 col6\" >0.7799</td>\n",
       "      <td id=\"T_38078_row0_col7\" class=\"data row0 col7\" >0.7847</td>\n",
       "    </tr>\n",
       "  </tbody>\n",
       "</table>\n"
      ],
      "text/plain": [
       "<pandas.io.formats.style.Styler at 0x2121cdded30>"
      ]
     },
     "metadata": {},
     "output_type": "display_data"
    },
    {
     "name": "stdout",
     "output_type": "stream",
     "text": [
      "#########  477 registros.\n",
      "Tempo médio de inferência: 0.00030 segundos\n"
     ]
    }
   ],
   "source": [
    "\n",
    "tempo_ini = time.time()\n",
    "predict_model(svm)\n",
    "tempo_fim = time.time()\n",
    "print('######### ', testdata_vect.shape[0], 'registros.')\n",
    "print(\"Tempo médio de inferência: {:.5f} segundos\".format((tempo_fim - tempo_ini) / testdata_vect.shape[0]))"
   ]
  },
  {
   "cell_type": "markdown",
   "metadata": {
    "collapsed": false,
    "pycharm": {
     "name": "#%% md\n"
    }
   },
   "source": [
    "# Inferência para 3.721 registros"
   ]
  },
  {
   "cell_type": "code",
   "execution_count": 9,
   "metadata": {},
   "outputs": [],
   "source": [
    "df_novotestdata = pd.read_csv('../data/novodatasetgerado.csv', delimiter=';')\n",
    "df_novotestdata['category'] = df_novotestdata.reset_index().category.map({'covid':0, 'seloturismo':1, 'tuberculose':2})\n",
    "\n",
    "# Lemmatizing input string\n",
    "novo_testdata = lemmatize(df_novotestdata)\n",
    "\n",
    "novo_test_tf_idf = tv.transform(novo_testdata['input'])\n",
    "\n",
    "novo_testdata_vect = pd.DataFrame(novo_test_tf_idf.toarray(), columns=tv.get_feature_names())\n",
    "novo_testdata_vect['target_cat'] = novo_testdata.reset_index().category"
   ]
  },
  {
   "cell_type": "code",
   "execution_count": 10,
   "metadata": {},
   "outputs": [
    {
     "data": {
      "text/html": [
       "<style type=\"text/css\">\n",
       "</style>\n",
       "<table id=\"T_928aa\">\n",
       "  <thead>\n",
       "    <tr>\n",
       "      <th class=\"blank level0\" >&nbsp;</th>\n",
       "      <th id=\"T_928aa_level0_col0\" class=\"col_heading level0 col0\" >Model</th>\n",
       "      <th id=\"T_928aa_level0_col1\" class=\"col_heading level0 col1\" >Accuracy</th>\n",
       "      <th id=\"T_928aa_level0_col2\" class=\"col_heading level0 col2\" >AUC</th>\n",
       "      <th id=\"T_928aa_level0_col3\" class=\"col_heading level0 col3\" >Recall</th>\n",
       "      <th id=\"T_928aa_level0_col4\" class=\"col_heading level0 col4\" >Prec.</th>\n",
       "      <th id=\"T_928aa_level0_col5\" class=\"col_heading level0 col5\" >F1</th>\n",
       "      <th id=\"T_928aa_level0_col6\" class=\"col_heading level0 col6\" >Kappa</th>\n",
       "      <th id=\"T_928aa_level0_col7\" class=\"col_heading level0 col7\" >MCC</th>\n",
       "    </tr>\n",
       "  </thead>\n",
       "  <tbody>\n",
       "    <tr>\n",
       "      <th id=\"T_928aa_level0_row0\" class=\"row_heading level0 row0\" >0</th>\n",
       "      <td id=\"T_928aa_row0_col0\" class=\"data row0 col0\" >SVM - Linear Kernel</td>\n",
       "      <td id=\"T_928aa_row0_col1\" class=\"data row0 col1\" >0.6665</td>\n",
       "      <td id=\"T_928aa_row0_col2\" class=\"data row0 col2\" >0</td>\n",
       "      <td id=\"T_928aa_row0_col3\" class=\"data row0 col3\" >0.6575</td>\n",
       "      <td id=\"T_928aa_row0_col4\" class=\"data row0 col4\" >0.6641</td>\n",
       "      <td id=\"T_928aa_row0_col5\" class=\"data row0 col5\" >0.6392</td>\n",
       "      <td id=\"T_928aa_row0_col6\" class=\"data row0 col6\" >0.4975</td>\n",
       "      <td id=\"T_928aa_row0_col7\" class=\"data row0 col7\" >0.5210</td>\n",
       "    </tr>\n",
       "  </tbody>\n",
       "</table>\n"
      ],
      "text/plain": [
       "<pandas.io.formats.style.Styler at 0x21237a17730>"
      ]
     },
     "metadata": {},
     "output_type": "display_data"
    },
    {
     "name": "stdout",
     "output_type": "stream",
     "text": [
      "#########  3721 registros.\n",
      "Tempo médio de inferência: 0.00235 segundos\n"
     ]
    }
   ],
   "source": [
    "\n",
    "tempo_ini = time.time()\n",
    "predict_model(svm, data=novo_testdata_vect)\n",
    "tempo_fim = time.time()\n",
    "print('######### ', novo_testdata_vect.shape[0], 'registros.')\n",
    "print(\"Tempo médio de inferência: {:.5f} segundos\".format((tempo_fim - tempo_ini) / novo_testdata_vect.shape[0]))"
   ]
  },
  {
   "cell_type": "markdown",
   "metadata": {
    "collapsed": false,
    "pycharm": {
     "name": "#%% md\n"
    }
   },
   "source": [
    "# Inferência para MI registros"
   ]
  },
  {
   "cell_type": "code",
   "execution_count": 11,
   "metadata": {
    "collapsed": false,
    "pycharm": {
     "name": "#%%\n"
    }
   },
   "outputs": [],
   "source": [
    "df_novotestdata = pd.read_csv('../data/novodatasetgerado-frasesduplicadas.csv', delimiter=';')\n",
    "df_novotestdata['category'] = df_novotestdata.reset_index().category.map({'covid':0, 'seloturismo':1, 'tuberculose':2})\n"
   ]
  },
  {
   "cell_type": "code",
   "execution_count": 18,
   "metadata": {},
   "outputs": [],
   "source": [
    "\n",
    "# Lemmatizing input string\n",
    "novo_testdata = lemmatize(df_novotestdata.head(1000))\n",
    "\n",
    "novo_test_tf_idf = tv.transform(novo_testdata['input'])\n",
    "\n",
    "novo_testdata_vect = pd.DataFrame(novo_test_tf_idf.toarray(), columns=tv.get_feature_names())\n",
    "novo_testdata_vect['target_cat'] = novo_testdata.reset_index().category\n",
    "\n"
   ]
  },
  {
   "cell_type": "code",
   "execution_count": 15,
   "metadata": {},
   "outputs": [
    {
     "data": {
      "text/html": [
       "<style type=\"text/css\">\n",
       "</style>\n",
       "<table id=\"T_f8eef\">\n",
       "  <thead>\n",
       "    <tr>\n",
       "      <th class=\"blank level0\" >&nbsp;</th>\n",
       "      <th id=\"T_f8eef_level0_col0\" class=\"col_heading level0 col0\" >Model</th>\n",
       "      <th id=\"T_f8eef_level0_col1\" class=\"col_heading level0 col1\" >Accuracy</th>\n",
       "      <th id=\"T_f8eef_level0_col2\" class=\"col_heading level0 col2\" >AUC</th>\n",
       "      <th id=\"T_f8eef_level0_col3\" class=\"col_heading level0 col3\" >Recall</th>\n",
       "      <th id=\"T_f8eef_level0_col4\" class=\"col_heading level0 col4\" >Prec.</th>\n",
       "      <th id=\"T_f8eef_level0_col5\" class=\"col_heading level0 col5\" >F1</th>\n",
       "      <th id=\"T_f8eef_level0_col6\" class=\"col_heading level0 col6\" >Kappa</th>\n",
       "      <th id=\"T_f8eef_level0_col7\" class=\"col_heading level0 col7\" >MCC</th>\n",
       "    </tr>\n",
       "  </thead>\n",
       "  <tbody>\n",
       "    <tr>\n",
       "      <th id=\"T_f8eef_level0_row0\" class=\"row_heading level0 row0\" >0</th>\n",
       "      <td id=\"T_f8eef_row0_col0\" class=\"data row0 col0\" >SVM - Linear Kernel</td>\n",
       "      <td id=\"T_f8eef_row0_col1\" class=\"data row0 col1\" >0.7530</td>\n",
       "      <td id=\"T_f8eef_row0_col2\" class=\"data row0 col2\" >0</td>\n",
       "      <td id=\"T_f8eef_row0_col3\" class=\"data row0 col3\" >0.7196</td>\n",
       "      <td id=\"T_f8eef_row0_col4\" class=\"data row0 col4\" >0.7718</td>\n",
       "      <td id=\"T_f8eef_row0_col5\" class=\"data row0 col5\" >0.7492</td>\n",
       "      <td id=\"T_f8eef_row0_col6\" class=\"data row0 col6\" >0.6151</td>\n",
       "      <td id=\"T_f8eef_row0_col7\" class=\"data row0 col7\" >0.6279</td>\n",
       "    </tr>\n",
       "  </tbody>\n",
       "</table>\n"
      ],
      "text/plain": [
       "<pandas.io.formats.style.Styler at 0x21237a33d60>"
      ]
     },
     "metadata": {},
     "output_type": "display_data"
    },
    {
     "name": "stdout",
     "output_type": "stream",
     "text": [
      "#########  1000 registros.\n",
      "Tempo médio de inferência: 0.00291 segundos\n"
     ]
    }
   ],
   "source": [
    "tempo_ini = time.time()\n",
    "predict_model(svm, data=novo_testdata_vect)\n",
    "tempo_fim = time.time()\n",
    "print('######### ', novo_testdata_vect.shape[0], 'registros.')\n",
    "print(\"Tempo médio de inferência: {:.5f} segundos\".format((tempo_fim - tempo_ini) / novo_testdata_vect.shape[0]))"
   ]
  }
 ],
 "metadata": {
  "kernelspec": {
   "display_name": "chatbot_env",
   "language": "python",
   "name": "python3"
  },
  "language_info": {
   "codemirror_mode": {
    "name": "ipython",
    "version": 3
   },
   "file_extension": ".py",
   "mimetype": "text/x-python",
   "name": "python",
   "nbconvert_exporter": "python",
   "pygments_lexer": "ipython3",
   "version": "3.8.13"
  },
  "vscode": {
   "interpreter": {
    "hash": "b31d2b12a8e3fd9c881a5a24e7147d0c74845586ee91bf16f1bd9f2a67f59324"
   }
  }
 },
 "nbformat": 4,
 "nbformat_minor": 0
}
