{
 "cells": [
  {
   "cell_type": "code",
   "execution_count": 1,
   "metadata": {
    "collapsed": true,
    "pycharm": {
     "name": "#%%\n"
    }
   },
   "outputs": [],
   "source": [
    "import numpy as np\n",
    "import pandas as pd\n",
    "from sklearn.feature_extraction.text import TfidfVectorizer\n",
    "from sklearn.neighbors import NearestNeighbors\n",
    "from sklearn.model_selection import train_test_split\n",
    "from sklearn.metrics import accuracy_score, classification_report\n",
    "import spacy\n",
    "from spacy.lang.pt import Portuguese\n",
    "from nltk.corpus import stopwords\n",
    "import time\n",
    "\n",
    "import warnings\n",
    "warnings.filterwarnings('ignore')"
   ]
  },
  {
   "cell_type": "code",
   "execution_count": 2,
   "metadata": {
    "collapsed": false,
    "pycharm": {
     "name": "#%%\n"
    }
   },
   "outputs": [],
   "source": [
    "nlp = spacy.load('pt_core_news_lg')\n",
    "parser = Portuguese()"
   ]
  },
  {
   "cell_type": "markdown",
   "metadata": {
    "collapsed": false,
    "pycharm": {
     "name": "#%% md\n"
    }
   },
   "source": [
    "# Preparação dos dados"
   ]
  },
  {
   "cell_type": "code",
   "execution_count": 3,
   "metadata": {
    "collapsed": false,
    "pycharm": {
     "name": "#%%\n"
    }
   },
   "outputs": [],
   "source": [
    "# Import data\n",
    "df_traindata = pd.read_csv('../data/traindata.csv', delimiter=';')\n",
    "df_testdata = pd.read_csv('../data/testdata.csv', delimiter=';')\n",
    "\n",
    "# Data preparation for Binary\n",
    "df_traindata['category'] = df_traindata.reset_index().category.map({'covid':0, 'seloturismo':1, 'tuberculose':2})\n",
    "df_testdata['category'] = df_testdata.reset_index().category.map({'covid':0, 'seloturismo':1, 'tuberculose':2})"
   ]
  },
  {
   "cell_type": "code",
   "execution_count": 4,
   "metadata": {
    "collapsed": false,
    "pycharm": {
     "name": "#%%\n"
    }
   },
   "outputs": [],
   "source": [
    "# monta dataset\n",
    "df_total = pd.concat([df_traindata, df_testdata])\n",
    "\n",
    "textos = df_total['input'].tolist()\n",
    "rotulos = df_total['category'].tolist()\n",
    "\n",
    "# Normalizing and TF-IDF preparation\n",
    "stop_words = stopwords.words('portuguese')\n",
    "\n",
    "# Transforma os textos em vetores de recursos usando TF-IDF\n",
    "vectorizer = TfidfVectorizer(lowercase=True, stop_words=stop_words, strip_accents='unicode', token_pattern=\"[A-Za-z]+\")\n",
    "X = vectorizer.fit_transform(textos)\n",
    "\n",
    "# Divide o dataset em treinamento e teste\n",
    "X_train, X_test, y_train, y_test = train_test_split(X, rotulos, test_size=0.2)"
   ]
  },
  {
   "cell_type": "markdown",
   "metadata": {
    "collapsed": false,
    "pycharm": {
     "name": "#%% md\n"
    }
   },
   "source": [
    "# Treinamento do modelo com os dados originais"
   ]
  },
  {
   "cell_type": "code",
   "execution_count": 5,
   "metadata": {
    "collapsed": false,
    "pycharm": {
     "name": "#%%\n"
    }
   },
   "outputs": [
    {
     "name": "stdout",
     "output_type": "stream",
     "text": [
      "Tempo de treino: 0.00000 segundos\n",
      "Tempo médio de inferência: 0.00005 segundos\n",
      "              precision    recall  f1-score   support\n",
      "\n",
      "           0       0.79      0.35      0.48        75\n",
      "           1       0.67      0.99      0.80       169\n",
      "           2       0.89      0.52      0.66        92\n",
      "\n",
      "    accuracy                           0.72       336\n",
      "   macro avg       0.78      0.62      0.65       336\n",
      "weighted avg       0.76      0.72      0.69       336\n",
      "\n"
     ]
    }
   ],
   "source": [
    "# Cria o classificador KDTree\n",
    "start_time_train = time.time()\n",
    "kdtree = NearestNeighbors(n_neighbors=1, n_jobs=-1, algorithm='auto')\n",
    "kdtree.fit(X_train)\n",
    "end_time_train = time.time()\n",
    "print(\"Tempo de treino: {:.5f} segundos\".format(end_time_train - start_time_train))\n",
    "\n",
    "# Realize a inferência usando o classificador\n",
    "tempo_ini = time.time()\n",
    "_, indices = kdtree.kneighbors(X_test)\n",
    "y_pred = [y_train[i[0]] for i in indices]\n",
    "tempo_fim = time.time()\n",
    "\n",
    "print(\"Tempo médio de inferência: {:.5f} segundos\".format((tempo_fim - tempo_ini) / X_test.shape[0]))\n",
    "print(classification_report(y_test, y_pred, target_names=['0', '1', '2']))\n"
   ]
  },
  {
   "cell_type": "markdown",
   "metadata": {
    "collapsed": false,
    "pycharm": {
     "name": "#%% md\n"
    }
   },
   "source": [
    "# Inferência para 3.721 registros"
   ]
  },
  {
   "cell_type": "code",
   "execution_count": 6,
   "metadata": {
    "collapsed": false,
    "pycharm": {
     "name": "#%%\n"
    }
   },
   "outputs": [
    {
     "name": "stdout",
     "output_type": "stream",
     "text": [
      "#########  3721 registros.\n",
      "Tempo médio de inferência: 0.00002 segundos\n",
      "              precision    recall  f1-score   support\n",
      "\n",
      "           0       0.55      0.15      0.24      1158\n",
      "           1       0.40      0.94      0.56      1236\n",
      "           2       0.70      0.26      0.38      1327\n",
      "\n",
      "    accuracy                           0.45      3721\n",
      "   macro avg       0.55      0.45      0.39      3721\n",
      "weighted avg       0.56      0.45      0.40      3721\n",
      "\n"
     ]
    }
   ],
   "source": [
    "df_novotestdata = pd.read_csv('../data/novodatasetgerado.csv', delimiter=';')\n",
    "df_novotestdata['category'] = df_novotestdata.reset_index().category.map({'covid':0, 'seloturismo':1, 'tuberculose':2})\n",
    "\n",
    "rotulos = df_novotestdata['category'].tolist()\n",
    "\n",
    "novos_dados_vetorizados = vectorizer.transform(df_novotestdata['input'].tolist())\n",
    "\n",
    "# Realize a inferência usando o classificador\n",
    "tempo_ini = time.time()\n",
    "_, indices = kdtree.kneighbors(novos_dados_vetorizados)\n",
    "y_pred = [y_train[i[0]] for i in indices]\n",
    "tempo_fim = time.time()\n",
    "\n",
    "print('######### ', novos_dados_vetorizados.shape[0], 'registros.')\n",
    "print(\"Tempo médio de inferência: {:.5f} segundos\".format((tempo_fim - tempo_ini) / novos_dados_vetorizados.shape[0]))\n",
    "print(classification_report(rotulos, y_pred, target_names=['0', '1', '2']))"
   ]
  },
  {
   "cell_type": "markdown",
   "metadata": {
    "collapsed": false,
    "pycharm": {
     "name": "#%% md\n"
    }
   },
   "source": [
    "# Inferência para MI registros"
   ]
  },
  {
   "cell_type": "code",
   "execution_count": 7,
   "metadata": {
    "collapsed": false,
    "pycharm": {
     "name": "#%%\n"
    }
   },
   "outputs": [],
   "source": [
    "headers = ['input', 'category']\n",
    "df_novotestdata = pd.read_csv('../data/novodatasetgerado-frasesduplicadas.csv', delimiter=';', error_bad_lines=False, names=headers, header=0)\n",
    "df_novotestdata['category'] = df_novotestdata.reset_index().category.map({'covid':0, 'seloturismo':1, 'tuberculose':2})\n"
   ]
  },
  {
   "cell_type": "code",
   "execution_count": 8,
   "metadata": {
    "collapsed": false,
    "pycharm": {
     "name": "#%%\n"
    }
   },
   "outputs": [
    {
     "name": "stdout",
     "output_type": "stream",
     "text": [
      "#########  1000000 registros.\n",
      "Tempo médio de inferência: 0.00002 segundos\n",
      "              precision    recall  f1-score   support\n",
      "\n",
      "           0       0.55      0.15      0.24    311116\n",
      "           1       0.40      0.94      0.56    332104\n",
      "           2       0.70      0.26      0.38    356780\n",
      "\n",
      "    accuracy                           0.45   1000000\n",
      "   macro avg       0.55      0.45      0.39   1000000\n",
      "weighted avg       0.56      0.45      0.40   1000000\n",
      "\n"
     ]
    }
   ],
   "source": [
    "subset = df_novotestdata.head(1000000)\n",
    "\n",
    "rotulos = subset['category'].tolist()\n",
    "\n",
    "novos_dados_vetorizados = vectorizer.transform(subset['input'].tolist())\n",
    "\n",
    "# Realize a inferência usando o classificador\n",
    "tempo_ini = time.time()\n",
    "_, indices = kdtree.kneighbors(novos_dados_vetorizados)\n",
    "y_pred = [y_train[i[0]] for i in indices]\n",
    "tempo_fim = time.time()\n",
    "\n",
    "print('######### ', novos_dados_vetorizados.shape[0], 'registros.')\n",
    "print(\"Tempo médio de inferência: {:.5f} segundos\".format((tempo_fim - tempo_ini) / novos_dados_vetorizados.shape[0]))\n",
    "print(classification_report(rotulos, y_pred, target_names=['0', '1', '2']))"
   ]
  },
  {
   "cell_type": "code",
   "execution_count": null,
   "metadata": {
    "collapsed": false,
    "pycharm": {
     "name": "#%%\n"
    }
   },
   "outputs": [],
   "source": []
  }
 ],
 "metadata": {
  "kernelspec": {
   "display_name": "chatbot_env",
   "language": "python",
   "name": "python3"
  },
  "language_info": {
   "codemirror_mode": {
    "name": "ipython",
    "version": 3
   },
   "file_extension": ".py",
   "mimetype": "text/x-python",
   "name": "python",
   "nbconvert_exporter": "python",
   "pygments_lexer": "ipython3",
   "version": "3.8.13"
  },
  "vscode": {
   "interpreter": {
    "hash": "b31d2b12a8e3fd9c881a5a24e7147d0c74845586ee91bf16f1bd9f2a67f59324"
   }
  }
 },
 "nbformat": 4,
 "nbformat_minor": 0
}