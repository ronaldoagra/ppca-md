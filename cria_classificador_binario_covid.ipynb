{
 "cells": [
  {
   "cell_type": "markdown",
   "metadata": {
    "pycharm": {
     "name": "#%% md\n"
    }
   },
   "source": [
    "**Aplicação de técnicas de classificação de texto na arquitetura de Chatbots hierárquicos**\n",
    "\n",
    "**Mestrado Profissional em Computação Aplicada - PPCA - Universidade de Brasília**\n",
    "\n",
    "**Disciplina**: Mineração de Dados\n",
    "\n",
    "**Orientador**: Prof. Dr. Marcelo Ladeira <mladeira@unb.br>\n",
    "\n",
    "**Alunos**: \n",
    " - José Ronaldo Agra De Souza Filho <jose.agra@aluno.unb.br>\n",
    " - Bruno Gomes Resende <bruno.resende@aluno.unb.br>\n",
    " - Célio Castro Wermelinger <celio.wermelinger@aluno.unb.br> \n",
    "\n",
    "**Palavras-Chave:**\n",
    "\n",
    "Chatbot; Text Classification; Machine Learning; Text Mining; NLP;"
   ]
  },
  {
   "cell_type": "code",
   "execution_count": 9,
   "metadata": {
    "pycharm": {
     "name": "#%%\n"
    }
   },
   "outputs": [],
   "source": [
    "# Install packages\n",
    "# Note: use Python 3.8 env\n",
    "#!pip install --pre pycaret"
   ]
  },
  {
   "cell_type": "markdown",
   "source": [
    "## Importação das bibliotecas necessárias a este notebook."
   ],
   "metadata": {
    "collapsed": false,
    "pycharm": {
     "name": "#%% md\n"
    }
   }
  },
  {
   "cell_type": "code",
   "execution_count": 10,
   "metadata": {
    "pycharm": {
     "name": "#%%\n"
    }
   },
   "outputs": [
    {
     "name": "stderr",
     "output_type": "stream",
     "text": [
      "[nltk_data] Downloading package stopwords to\n",
      "[nltk_data]     C:\\Users\\ronal\\AppData\\Roaming\\nltk_data...\n",
      "[nltk_data]   Package stopwords is already up-to-date!\n"
     ]
    },
    {
     "data": {
      "text/plain": "True"
     },
     "execution_count": 10,
     "metadata": {},
     "output_type": "execute_result"
    }
   ],
   "source": [
    "# Import packages\n",
    "import nltk\n",
    "from nltk.corpus import stopwords\n",
    "from sklearn.feature_extraction.text import TfidfVectorizer\n",
    "from pycaret.classification import *\n",
    "\n",
    "# download das stopwords para o idioma português\n",
    "nltk.download('stopwords')"
   ]
  },
  {
   "cell_type": "markdown",
   "source": [
    "## Montagem dos datasets a serem utilizados no experimento\n",
    "\n",
    "Cada categoria possui um arquivo contendo o texto que serve se exemplo de treinamento e a categoria de cada um desses textos.\n",
    "\n",
    "Primeiro é montado um único dataset, contendo todos os exemplos das 3 classes, e as referidas categorias.\n",
    "\n",
    "Após isso, este dataset é clonado 3 vezes, sendo um para cada classe. Nestes novos datasets, a categorizaçõ passa a ser binária. Ou seja, em vez de ter a informação das 3 classes, ele tem a informação se os exemplos de treinamento são ou não de uma referida classe.\n",
    "\n",
    "Assim, cria-se os seguintes datasets:\n",
    "* df_treino_covid: contém todos os exemplos de treinamento. Para os que representam a classe \"covid\", a coluna \"category\" é configurada com 1, caso contrário com 0.\n",
    "* df_treino_seloturismo: contém todos os exemplos de treinamento. Para os que representam a classe \"seloturismo\", a coluna \"category\" é configurada com 1, caso contrário com 0.\n",
    "* df_treino_tuberculose: contém todos os exemplos de treinamento. Para os que representam a classe \"tuberculose\", a coluna \"category\" é configurada com 1, caso contrário com 0."
   ],
   "metadata": {
    "collapsed": false,
    "pycharm": {
     "name": "#%% md\n"
    }
   }
  },
  {
   "cell_type": "code",
   "execution_count": 11,
   "metadata": {
    "pycharm": {
     "name": "#%%\n"
    }
   },
   "outputs": [],
   "source": [
    "# Montagem do dataset\n",
    "df_covid = pd.read_csv('data/exemplos-treinamento-covid.csv', delimiter=';')\n",
    "df_seloturismo = pd.read_csv('data/exemplos-treinamento-seloturismo.csv', delimiter=';')\n",
    "df_tuberculose = pd.read_csv('data/exemplos-treinamento-tuberculose.csv', delimiter=';')\n",
    "df_all = pd.concat([df_covid, df_seloturismo, df_tuberculose], axis=0)\n",
    "\n",
    "# cria o dataframe de treino para a categoria covid\n",
    "df_treino_covid = df_all.copy()\n",
    "df_treino_covid.reset_index(drop=True, inplace=True)\n",
    "df_treino_covid['category'] = df_all.reset_index().category.map({'covid':1, 'seloturismo':0, 'tuberculose':0})"
   ]
  },
  {
   "cell_type": "markdown",
   "source": [
    "## Representação dos textos em vetores\n",
    "\n",
    "Realiza a representação de texto, fazendo uso do TF-IDF e realizando algumas tarefas de tratamento dos dados.\n",
    "\n",
    "Ao realizar a vetorização dos textos, são removidas as stopwords e também os acentos das palavras.\n",
    "\n",
    "Deciciu-se por não realizar as tarefas de \"lemmatization\" nem de \"stemming\", porque no caso deste experimento a simplificação de palavras em radicais poderia prejudicar o desempenho na identificação das classes."
   ],
   "metadata": {
    "collapsed": false,
    "pycharm": {
     "name": "#%% md\n"
    }
   }
  },
  {
   "cell_type": "code",
   "execution_count": 12,
   "outputs": [],
   "source": [
    "# recupera as stopwords do idioma português\n",
    "stop_words = stopwords.words('portuguese')\n",
    "\n",
    "# vetorização das palavras\n",
    "tv = TfidfVectorizer(lowercase=True, stop_words=stop_words, strip_accents='unicode', token_pattern=\"[A-Za-z]+\")\n",
    "\n",
    "tf_idf_covid = tv.fit_transform(df_treino_covid['input'])\n",
    "\n",
    "# vetorização para o dataframe referente à categoria COVID\n",
    "df_covid_vetorizado = pd.DataFrame(tf_idf_covid.toarray(), columns=tv.get_feature_names())\n",
    "df_covid_vetorizado['target_cat'] = df_treino_covid.reset_index().category"
   ],
   "metadata": {
    "collapsed": false,
    "pycharm": {
     "name": "#%%\n"
    }
   }
  },
  {
   "cell_type": "markdown",
   "source": [
    "## Criação dos classificadores binários\n",
    "\n",
    "São criados 3 classificadores binários, cada um especializado em identificar uma das categorias existentes: covid, selo turismo e tuberculose.\n",
    "\n",
    "Para cada classificador, a configuração utilizada será:\n",
    "* Dados a classificar (data): dados relacionados à categoria COVID;\n",
    "* Coluna que representa a classe (target): a coluna 'target_cat' que informa se o texto é da classe covid (1) ou não (0).\n",
    "* Semente para possibilitar a reprodutibilidade (session_id): 20221\n",
    "* Proporção do dataset que será usado para treinamento e validação (train_size): 70%\n",
    "* Quantidade de dobras (folds) que será utilizada na validação cruzada (fold): 10 (por padrão a estratégia utilizada é a 'stratified kfold').\n",
    "* Controle da entrada de confirmação de tipos de dados quando o setup é executado (silent): True (devido ao modo de execução automatizado)."
   ],
   "metadata": {
    "collapsed": false,
    "pycharm": {
     "name": "#%% md\n"
    }
   }
  },
  {
   "cell_type": "markdown",
   "source": [
    "## Classificador binário para a classe COVID"
   ],
   "metadata": {
    "collapsed": false,
    "pycharm": {
     "name": "#%% md\n"
    }
   }
  },
  {
   "cell_type": "code",
   "execution_count": 13,
   "metadata": {
    "pycharm": {
     "name": "#%%\n"
    }
   },
   "outputs": [
    {
     "data": {
      "text/plain": "<pandas.io.formats.style.Styler at 0x17f499022e0>",
      "text/html": "<style type=\"text/css\">\n#T_04414_row44_col1 {\n  background-color: lightgreen;\n}\n</style>\n<table id=\"T_04414\">\n  <thead>\n    <tr>\n      <th class=\"blank level0\" >&nbsp;</th>\n      <th id=\"T_04414_level0_col0\" class=\"col_heading level0 col0\" >Description</th>\n      <th id=\"T_04414_level0_col1\" class=\"col_heading level0 col1\" >Value</th>\n    </tr>\n  </thead>\n  <tbody>\n    <tr>\n      <th id=\"T_04414_level0_row0\" class=\"row_heading level0 row0\" >0</th>\n      <td id=\"T_04414_row0_col0\" class=\"data row0 col0\" >session_id</td>\n      <td id=\"T_04414_row0_col1\" class=\"data row0 col1\" >20221</td>\n    </tr>\n    <tr>\n      <th id=\"T_04414_level0_row1\" class=\"row_heading level0 row1\" >1</th>\n      <td id=\"T_04414_row1_col0\" class=\"data row1 col0\" >Target</td>\n      <td id=\"T_04414_row1_col1\" class=\"data row1 col1\" >target_cat</td>\n    </tr>\n    <tr>\n      <th id=\"T_04414_level0_row2\" class=\"row_heading level0 row2\" >2</th>\n      <td id=\"T_04414_row2_col0\" class=\"data row2 col0\" >Target Type</td>\n      <td id=\"T_04414_row2_col1\" class=\"data row2 col1\" >Binary</td>\n    </tr>\n    <tr>\n      <th id=\"T_04414_level0_row3\" class=\"row_heading level0 row3\" >3</th>\n      <td id=\"T_04414_row3_col0\" class=\"data row3 col0\" >Label Encoded</td>\n      <td id=\"T_04414_row3_col1\" class=\"data row3 col1\" >None</td>\n    </tr>\n    <tr>\n      <th id=\"T_04414_level0_row4\" class=\"row_heading level0 row4\" >4</th>\n      <td id=\"T_04414_row4_col0\" class=\"data row4 col0\" >Original Data</td>\n      <td id=\"T_04414_row4_col1\" class=\"data row4 col1\" >(1042, 1047)</td>\n    </tr>\n    <tr>\n      <th id=\"T_04414_level0_row5\" class=\"row_heading level0 row5\" >5</th>\n      <td id=\"T_04414_row5_col0\" class=\"data row5 col0\" >Missing Values</td>\n      <td id=\"T_04414_row5_col1\" class=\"data row5 col1\" >False</td>\n    </tr>\n    <tr>\n      <th id=\"T_04414_level0_row6\" class=\"row_heading level0 row6\" >6</th>\n      <td id=\"T_04414_row6_col0\" class=\"data row6 col0\" >Numeric Features</td>\n      <td id=\"T_04414_row6_col1\" class=\"data row6 col1\" >622</td>\n    </tr>\n    <tr>\n      <th id=\"T_04414_level0_row7\" class=\"row_heading level0 row7\" >7</th>\n      <td id=\"T_04414_row7_col0\" class=\"data row7 col0\" >Categorical Features</td>\n      <td id=\"T_04414_row7_col1\" class=\"data row7 col1\" >424</td>\n    </tr>\n    <tr>\n      <th id=\"T_04414_level0_row8\" class=\"row_heading level0 row8\" >8</th>\n      <td id=\"T_04414_row8_col0\" class=\"data row8 col0\" >Ordinal Features</td>\n      <td id=\"T_04414_row8_col1\" class=\"data row8 col1\" >False</td>\n    </tr>\n    <tr>\n      <th id=\"T_04414_level0_row9\" class=\"row_heading level0 row9\" >9</th>\n      <td id=\"T_04414_row9_col0\" class=\"data row9 col0\" >High Cardinality Features</td>\n      <td id=\"T_04414_row9_col1\" class=\"data row9 col1\" >False</td>\n    </tr>\n    <tr>\n      <th id=\"T_04414_level0_row10\" class=\"row_heading level0 row10\" >10</th>\n      <td id=\"T_04414_row10_col0\" class=\"data row10 col0\" >High Cardinality Method</td>\n      <td id=\"T_04414_row10_col1\" class=\"data row10 col1\" >None</td>\n    </tr>\n    <tr>\n      <th id=\"T_04414_level0_row11\" class=\"row_heading level0 row11\" >11</th>\n      <td id=\"T_04414_row11_col0\" class=\"data row11 col0\" >Transformed Train Set</td>\n      <td id=\"T_04414_row11_col1\" class=\"data row11 col1\" >(729, 853)</td>\n    </tr>\n    <tr>\n      <th id=\"T_04414_level0_row12\" class=\"row_heading level0 row12\" >12</th>\n      <td id=\"T_04414_row12_col0\" class=\"data row12 col0\" >Transformed Test Set</td>\n      <td id=\"T_04414_row12_col1\" class=\"data row12 col1\" >(313, 853)</td>\n    </tr>\n    <tr>\n      <th id=\"T_04414_level0_row13\" class=\"row_heading level0 row13\" >13</th>\n      <td id=\"T_04414_row13_col0\" class=\"data row13 col0\" >Shuffle Train-Test</td>\n      <td id=\"T_04414_row13_col1\" class=\"data row13 col1\" >True</td>\n    </tr>\n    <tr>\n      <th id=\"T_04414_level0_row14\" class=\"row_heading level0 row14\" >14</th>\n      <td id=\"T_04414_row14_col0\" class=\"data row14 col0\" >Stratify Train-Test</td>\n      <td id=\"T_04414_row14_col1\" class=\"data row14 col1\" >False</td>\n    </tr>\n    <tr>\n      <th id=\"T_04414_level0_row15\" class=\"row_heading level0 row15\" >15</th>\n      <td id=\"T_04414_row15_col0\" class=\"data row15 col0\" >Fold Generator</td>\n      <td id=\"T_04414_row15_col1\" class=\"data row15 col1\" >StratifiedKFold</td>\n    </tr>\n    <tr>\n      <th id=\"T_04414_level0_row16\" class=\"row_heading level0 row16\" >16</th>\n      <td id=\"T_04414_row16_col0\" class=\"data row16 col0\" >Fold Number</td>\n      <td id=\"T_04414_row16_col1\" class=\"data row16 col1\" >10</td>\n    </tr>\n    <tr>\n      <th id=\"T_04414_level0_row17\" class=\"row_heading level0 row17\" >17</th>\n      <td id=\"T_04414_row17_col0\" class=\"data row17 col0\" >CPU Jobs</td>\n      <td id=\"T_04414_row17_col1\" class=\"data row17 col1\" >-1</td>\n    </tr>\n    <tr>\n      <th id=\"T_04414_level0_row18\" class=\"row_heading level0 row18\" >18</th>\n      <td id=\"T_04414_row18_col0\" class=\"data row18 col0\" >Use GPU</td>\n      <td id=\"T_04414_row18_col1\" class=\"data row18 col1\" >False</td>\n    </tr>\n    <tr>\n      <th id=\"T_04414_level0_row19\" class=\"row_heading level0 row19\" >19</th>\n      <td id=\"T_04414_row19_col0\" class=\"data row19 col0\" >Log Experiment</td>\n      <td id=\"T_04414_row19_col1\" class=\"data row19 col1\" >False</td>\n    </tr>\n    <tr>\n      <th id=\"T_04414_level0_row20\" class=\"row_heading level0 row20\" >20</th>\n      <td id=\"T_04414_row20_col0\" class=\"data row20 col0\" >Experiment Name</td>\n      <td id=\"T_04414_row20_col1\" class=\"data row20 col1\" >clf-default-name</td>\n    </tr>\n    <tr>\n      <th id=\"T_04414_level0_row21\" class=\"row_heading level0 row21\" >21</th>\n      <td id=\"T_04414_row21_col0\" class=\"data row21 col0\" >USI</td>\n      <td id=\"T_04414_row21_col1\" class=\"data row21 col1\" >e680</td>\n    </tr>\n    <tr>\n      <th id=\"T_04414_level0_row22\" class=\"row_heading level0 row22\" >22</th>\n      <td id=\"T_04414_row22_col0\" class=\"data row22 col0\" >Imputation Type</td>\n      <td id=\"T_04414_row22_col1\" class=\"data row22 col1\" >simple</td>\n    </tr>\n    <tr>\n      <th id=\"T_04414_level0_row23\" class=\"row_heading level0 row23\" >23</th>\n      <td id=\"T_04414_row23_col0\" class=\"data row23 col0\" >Iterative Imputation Iteration</td>\n      <td id=\"T_04414_row23_col1\" class=\"data row23 col1\" >None</td>\n    </tr>\n    <tr>\n      <th id=\"T_04414_level0_row24\" class=\"row_heading level0 row24\" >24</th>\n      <td id=\"T_04414_row24_col0\" class=\"data row24 col0\" >Numeric Imputer</td>\n      <td id=\"T_04414_row24_col1\" class=\"data row24 col1\" >mean</td>\n    </tr>\n    <tr>\n      <th id=\"T_04414_level0_row25\" class=\"row_heading level0 row25\" >25</th>\n      <td id=\"T_04414_row25_col0\" class=\"data row25 col0\" >Iterative Imputation Numeric Model</td>\n      <td id=\"T_04414_row25_col1\" class=\"data row25 col1\" >None</td>\n    </tr>\n    <tr>\n      <th id=\"T_04414_level0_row26\" class=\"row_heading level0 row26\" >26</th>\n      <td id=\"T_04414_row26_col0\" class=\"data row26 col0\" >Categorical Imputer</td>\n      <td id=\"T_04414_row26_col1\" class=\"data row26 col1\" >constant</td>\n    </tr>\n    <tr>\n      <th id=\"T_04414_level0_row27\" class=\"row_heading level0 row27\" >27</th>\n      <td id=\"T_04414_row27_col0\" class=\"data row27 col0\" >Iterative Imputation Categorical Model</td>\n      <td id=\"T_04414_row27_col1\" class=\"data row27 col1\" >None</td>\n    </tr>\n    <tr>\n      <th id=\"T_04414_level0_row28\" class=\"row_heading level0 row28\" >28</th>\n      <td id=\"T_04414_row28_col0\" class=\"data row28 col0\" >Unknown Categoricals Handling</td>\n      <td id=\"T_04414_row28_col1\" class=\"data row28 col1\" >least_frequent</td>\n    </tr>\n    <tr>\n      <th id=\"T_04414_level0_row29\" class=\"row_heading level0 row29\" >29</th>\n      <td id=\"T_04414_row29_col0\" class=\"data row29 col0\" >Normalize</td>\n      <td id=\"T_04414_row29_col1\" class=\"data row29 col1\" >False</td>\n    </tr>\n    <tr>\n      <th id=\"T_04414_level0_row30\" class=\"row_heading level0 row30\" >30</th>\n      <td id=\"T_04414_row30_col0\" class=\"data row30 col0\" >Normalize Method</td>\n      <td id=\"T_04414_row30_col1\" class=\"data row30 col1\" >None</td>\n    </tr>\n    <tr>\n      <th id=\"T_04414_level0_row31\" class=\"row_heading level0 row31\" >31</th>\n      <td id=\"T_04414_row31_col0\" class=\"data row31 col0\" >Transformation</td>\n      <td id=\"T_04414_row31_col1\" class=\"data row31 col1\" >False</td>\n    </tr>\n    <tr>\n      <th id=\"T_04414_level0_row32\" class=\"row_heading level0 row32\" >32</th>\n      <td id=\"T_04414_row32_col0\" class=\"data row32 col0\" >Transformation Method</td>\n      <td id=\"T_04414_row32_col1\" class=\"data row32 col1\" >None</td>\n    </tr>\n    <tr>\n      <th id=\"T_04414_level0_row33\" class=\"row_heading level0 row33\" >33</th>\n      <td id=\"T_04414_row33_col0\" class=\"data row33 col0\" >PCA</td>\n      <td id=\"T_04414_row33_col1\" class=\"data row33 col1\" >False</td>\n    </tr>\n    <tr>\n      <th id=\"T_04414_level0_row34\" class=\"row_heading level0 row34\" >34</th>\n      <td id=\"T_04414_row34_col0\" class=\"data row34 col0\" >PCA Method</td>\n      <td id=\"T_04414_row34_col1\" class=\"data row34 col1\" >None</td>\n    </tr>\n    <tr>\n      <th id=\"T_04414_level0_row35\" class=\"row_heading level0 row35\" >35</th>\n      <td id=\"T_04414_row35_col0\" class=\"data row35 col0\" >PCA Components</td>\n      <td id=\"T_04414_row35_col1\" class=\"data row35 col1\" >None</td>\n    </tr>\n    <tr>\n      <th id=\"T_04414_level0_row36\" class=\"row_heading level0 row36\" >36</th>\n      <td id=\"T_04414_row36_col0\" class=\"data row36 col0\" >Ignore Low Variance</td>\n      <td id=\"T_04414_row36_col1\" class=\"data row36 col1\" >False</td>\n    </tr>\n    <tr>\n      <th id=\"T_04414_level0_row37\" class=\"row_heading level0 row37\" >37</th>\n      <td id=\"T_04414_row37_col0\" class=\"data row37 col0\" >Combine Rare Levels</td>\n      <td id=\"T_04414_row37_col1\" class=\"data row37 col1\" >False</td>\n    </tr>\n    <tr>\n      <th id=\"T_04414_level0_row38\" class=\"row_heading level0 row38\" >38</th>\n      <td id=\"T_04414_row38_col0\" class=\"data row38 col0\" >Rare Level Threshold</td>\n      <td id=\"T_04414_row38_col1\" class=\"data row38 col1\" >None</td>\n    </tr>\n    <tr>\n      <th id=\"T_04414_level0_row39\" class=\"row_heading level0 row39\" >39</th>\n      <td id=\"T_04414_row39_col0\" class=\"data row39 col0\" >Numeric Binning</td>\n      <td id=\"T_04414_row39_col1\" class=\"data row39 col1\" >False</td>\n    </tr>\n    <tr>\n      <th id=\"T_04414_level0_row40\" class=\"row_heading level0 row40\" >40</th>\n      <td id=\"T_04414_row40_col0\" class=\"data row40 col0\" >Remove Outliers</td>\n      <td id=\"T_04414_row40_col1\" class=\"data row40 col1\" >False</td>\n    </tr>\n    <tr>\n      <th id=\"T_04414_level0_row41\" class=\"row_heading level0 row41\" >41</th>\n      <td id=\"T_04414_row41_col0\" class=\"data row41 col0\" >Outliers Threshold</td>\n      <td id=\"T_04414_row41_col1\" class=\"data row41 col1\" >None</td>\n    </tr>\n    <tr>\n      <th id=\"T_04414_level0_row42\" class=\"row_heading level0 row42\" >42</th>\n      <td id=\"T_04414_row42_col0\" class=\"data row42 col0\" >Remove Multicollinearity</td>\n      <td id=\"T_04414_row42_col1\" class=\"data row42 col1\" >False</td>\n    </tr>\n    <tr>\n      <th id=\"T_04414_level0_row43\" class=\"row_heading level0 row43\" >43</th>\n      <td id=\"T_04414_row43_col0\" class=\"data row43 col0\" >Multicollinearity Threshold</td>\n      <td id=\"T_04414_row43_col1\" class=\"data row43 col1\" >None</td>\n    </tr>\n    <tr>\n      <th id=\"T_04414_level0_row44\" class=\"row_heading level0 row44\" >44</th>\n      <td id=\"T_04414_row44_col0\" class=\"data row44 col0\" >Remove Perfect Collinearity</td>\n      <td id=\"T_04414_row44_col1\" class=\"data row44 col1\" >True</td>\n    </tr>\n    <tr>\n      <th id=\"T_04414_level0_row45\" class=\"row_heading level0 row45\" >45</th>\n      <td id=\"T_04414_row45_col0\" class=\"data row45 col0\" >Clustering</td>\n      <td id=\"T_04414_row45_col1\" class=\"data row45 col1\" >False</td>\n    </tr>\n    <tr>\n      <th id=\"T_04414_level0_row46\" class=\"row_heading level0 row46\" >46</th>\n      <td id=\"T_04414_row46_col0\" class=\"data row46 col0\" >Clustering Iteration</td>\n      <td id=\"T_04414_row46_col1\" class=\"data row46 col1\" >None</td>\n    </tr>\n    <tr>\n      <th id=\"T_04414_level0_row47\" class=\"row_heading level0 row47\" >47</th>\n      <td id=\"T_04414_row47_col0\" class=\"data row47 col0\" >Polynomial Features</td>\n      <td id=\"T_04414_row47_col1\" class=\"data row47 col1\" >False</td>\n    </tr>\n    <tr>\n      <th id=\"T_04414_level0_row48\" class=\"row_heading level0 row48\" >48</th>\n      <td id=\"T_04414_row48_col0\" class=\"data row48 col0\" >Polynomial Degree</td>\n      <td id=\"T_04414_row48_col1\" class=\"data row48 col1\" >None</td>\n    </tr>\n    <tr>\n      <th id=\"T_04414_level0_row49\" class=\"row_heading level0 row49\" >49</th>\n      <td id=\"T_04414_row49_col0\" class=\"data row49 col0\" >Trignometry Features</td>\n      <td id=\"T_04414_row49_col1\" class=\"data row49 col1\" >False</td>\n    </tr>\n    <tr>\n      <th id=\"T_04414_level0_row50\" class=\"row_heading level0 row50\" >50</th>\n      <td id=\"T_04414_row50_col0\" class=\"data row50 col0\" >Polynomial Threshold</td>\n      <td id=\"T_04414_row50_col1\" class=\"data row50 col1\" >None</td>\n    </tr>\n    <tr>\n      <th id=\"T_04414_level0_row51\" class=\"row_heading level0 row51\" >51</th>\n      <td id=\"T_04414_row51_col0\" class=\"data row51 col0\" >Group Features</td>\n      <td id=\"T_04414_row51_col1\" class=\"data row51 col1\" >False</td>\n    </tr>\n    <tr>\n      <th id=\"T_04414_level0_row52\" class=\"row_heading level0 row52\" >52</th>\n      <td id=\"T_04414_row52_col0\" class=\"data row52 col0\" >Feature Selection</td>\n      <td id=\"T_04414_row52_col1\" class=\"data row52 col1\" >False</td>\n    </tr>\n    <tr>\n      <th id=\"T_04414_level0_row53\" class=\"row_heading level0 row53\" >53</th>\n      <td id=\"T_04414_row53_col0\" class=\"data row53 col0\" >Feature Selection Method</td>\n      <td id=\"T_04414_row53_col1\" class=\"data row53 col1\" >classic</td>\n    </tr>\n    <tr>\n      <th id=\"T_04414_level0_row54\" class=\"row_heading level0 row54\" >54</th>\n      <td id=\"T_04414_row54_col0\" class=\"data row54 col0\" >Features Selection Threshold</td>\n      <td id=\"T_04414_row54_col1\" class=\"data row54 col1\" >None</td>\n    </tr>\n    <tr>\n      <th id=\"T_04414_level0_row55\" class=\"row_heading level0 row55\" >55</th>\n      <td id=\"T_04414_row55_col0\" class=\"data row55 col0\" >Feature Interaction</td>\n      <td id=\"T_04414_row55_col1\" class=\"data row55 col1\" >False</td>\n    </tr>\n    <tr>\n      <th id=\"T_04414_level0_row56\" class=\"row_heading level0 row56\" >56</th>\n      <td id=\"T_04414_row56_col0\" class=\"data row56 col0\" >Feature Ratio</td>\n      <td id=\"T_04414_row56_col1\" class=\"data row56 col1\" >False</td>\n    </tr>\n    <tr>\n      <th id=\"T_04414_level0_row57\" class=\"row_heading level0 row57\" >57</th>\n      <td id=\"T_04414_row57_col0\" class=\"data row57 col0\" >Interaction Threshold</td>\n      <td id=\"T_04414_row57_col1\" class=\"data row57 col1\" >None</td>\n    </tr>\n    <tr>\n      <th id=\"T_04414_level0_row58\" class=\"row_heading level0 row58\" >58</th>\n      <td id=\"T_04414_row58_col0\" class=\"data row58 col0\" >Fix Imbalance</td>\n      <td id=\"T_04414_row58_col1\" class=\"data row58 col1\" >False</td>\n    </tr>\n    <tr>\n      <th id=\"T_04414_level0_row59\" class=\"row_heading level0 row59\" >59</th>\n      <td id=\"T_04414_row59_col0\" class=\"data row59 col0\" >Fix Imbalance Method</td>\n      <td id=\"T_04414_row59_col1\" class=\"data row59 col1\" >SMOTE</td>\n    </tr>\n  </tbody>\n</table>\n"
     },
     "metadata": {},
     "output_type": "display_data"
    }
   ],
   "source": [
    "config_covid = setup(data=df_covid_vetorizado, target='target_cat',\n",
    "                     session_id=20221, train_size = 0.7, fold=10, silent=True)"
   ]
  },
  {
   "cell_type": "markdown",
   "source": [
    "## Comparação entre os modelos disponíveis na biblioteca\n",
    "\n",
    "Essa função treina todos os modelos disponíveis da biblioteca, e os pontua usando validação cruzada configurada no setup estratificada para avaliação de métricas.\n",
    "\n",
    "A saída imprime uma grade de pontuação que mostra as métricas: acurácia média, AUC, recall, precisão e F1 de todos os modelos disponíveis na biblioteca de modelos.\n"
   ],
   "metadata": {
    "collapsed": false,
    "pycharm": {
     "name": "#%% md\n"
    }
   }
  },
  {
   "cell_type": "code",
   "execution_count": 14,
   "metadata": {
    "pycharm": {
     "name": "#%%\n"
    }
   },
   "outputs": [
    {
     "data": {
      "text/plain": "<pandas.io.formats.style.Styler at 0x17f4ca2a970>",
      "text/html": "<style type=\"text/css\">\n#T_65f2a th {\n  text-align: left;\n}\n#T_65f2a_row0_col0, #T_65f2a_row0_col2, #T_65f2a_row0_col3, #T_65f2a_row0_col5, #T_65f2a_row0_col6, #T_65f2a_row0_col7, #T_65f2a_row1_col0, #T_65f2a_row1_col2, #T_65f2a_row1_col3, #T_65f2a_row1_col4, #T_65f2a_row2_col0, #T_65f2a_row2_col1, #T_65f2a_row2_col2, #T_65f2a_row2_col3, #T_65f2a_row2_col4, #T_65f2a_row2_col5, #T_65f2a_row2_col6, #T_65f2a_row2_col7, #T_65f2a_row3_col0, #T_65f2a_row3_col1, #T_65f2a_row3_col2, #T_65f2a_row3_col3, #T_65f2a_row3_col4, #T_65f2a_row3_col5, #T_65f2a_row3_col6, #T_65f2a_row3_col7, #T_65f2a_row4_col0, #T_65f2a_row4_col1, #T_65f2a_row4_col2, #T_65f2a_row4_col3, #T_65f2a_row4_col4, #T_65f2a_row4_col5, #T_65f2a_row4_col6, #T_65f2a_row4_col7, #T_65f2a_row5_col0, #T_65f2a_row5_col1, #T_65f2a_row5_col2, #T_65f2a_row5_col3, #T_65f2a_row5_col4, #T_65f2a_row5_col5, #T_65f2a_row5_col6, #T_65f2a_row5_col7, #T_65f2a_row6_col0, #T_65f2a_row6_col1, #T_65f2a_row6_col2, #T_65f2a_row6_col3, #T_65f2a_row6_col4, #T_65f2a_row6_col5, #T_65f2a_row6_col6, #T_65f2a_row6_col7, #T_65f2a_row7_col0, #T_65f2a_row7_col1, #T_65f2a_row7_col2, #T_65f2a_row7_col3, #T_65f2a_row7_col4, #T_65f2a_row7_col5, #T_65f2a_row7_col6, #T_65f2a_row7_col7, #T_65f2a_row8_col0, #T_65f2a_row8_col1, #T_65f2a_row8_col2, #T_65f2a_row8_col3, #T_65f2a_row8_col4, #T_65f2a_row8_col5, #T_65f2a_row8_col6, #T_65f2a_row8_col7, #T_65f2a_row9_col0, #T_65f2a_row9_col1, #T_65f2a_row9_col2, #T_65f2a_row9_col3, #T_65f2a_row9_col4, #T_65f2a_row9_col5, #T_65f2a_row9_col6, #T_65f2a_row9_col7, #T_65f2a_row10_col0, #T_65f2a_row10_col1, #T_65f2a_row10_col2, #T_65f2a_row10_col3, #T_65f2a_row10_col4, #T_65f2a_row10_col5, #T_65f2a_row10_col6, #T_65f2a_row10_col7, #T_65f2a_row11_col0, #T_65f2a_row11_col1, #T_65f2a_row11_col3, #T_65f2a_row11_col5, #T_65f2a_row11_col6, #T_65f2a_row11_col7, #T_65f2a_row12_col0, #T_65f2a_row12_col1, #T_65f2a_row12_col2, #T_65f2a_row12_col3, #T_65f2a_row12_col4, #T_65f2a_row12_col5, #T_65f2a_row12_col6, #T_65f2a_row12_col7, #T_65f2a_row13_col0, #T_65f2a_row13_col1, #T_65f2a_row13_col2, #T_65f2a_row13_col4, #T_65f2a_row13_col5, #T_65f2a_row13_col6, #T_65f2a_row13_col7 {\n  text-align: left;\n}\n#T_65f2a_row0_col1, #T_65f2a_row0_col4, #T_65f2a_row1_col1, #T_65f2a_row1_col5, #T_65f2a_row1_col6, #T_65f2a_row1_col7, #T_65f2a_row11_col2, #T_65f2a_row11_col4, #T_65f2a_row13_col3 {\n  text-align: left;\n  background-color: yellow;\n}\n#T_65f2a_row0_col8, #T_65f2a_row1_col8, #T_65f2a_row2_col8, #T_65f2a_row3_col8, #T_65f2a_row4_col8, #T_65f2a_row5_col8, #T_65f2a_row6_col8, #T_65f2a_row7_col8, #T_65f2a_row8_col8, #T_65f2a_row9_col8, #T_65f2a_row10_col8, #T_65f2a_row11_col8, #T_65f2a_row13_col8 {\n  text-align: left;\n  background-color: lightgrey;\n}\n#T_65f2a_row12_col8 {\n  text-align: left;\n  background-color: yellow;\n  background-color: lightgrey;\n}\n</style>\n<table id=\"T_65f2a\">\n  <thead>\n    <tr>\n      <th class=\"blank level0\" >&nbsp;</th>\n      <th id=\"T_65f2a_level0_col0\" class=\"col_heading level0 col0\" >Model</th>\n      <th id=\"T_65f2a_level0_col1\" class=\"col_heading level0 col1\" >Accuracy</th>\n      <th id=\"T_65f2a_level0_col2\" class=\"col_heading level0 col2\" >AUC</th>\n      <th id=\"T_65f2a_level0_col3\" class=\"col_heading level0 col3\" >Recall</th>\n      <th id=\"T_65f2a_level0_col4\" class=\"col_heading level0 col4\" >Prec.</th>\n      <th id=\"T_65f2a_level0_col5\" class=\"col_heading level0 col5\" >F1</th>\n      <th id=\"T_65f2a_level0_col6\" class=\"col_heading level0 col6\" >Kappa</th>\n      <th id=\"T_65f2a_level0_col7\" class=\"col_heading level0 col7\" >MCC</th>\n      <th id=\"T_65f2a_level0_col8\" class=\"col_heading level0 col8\" >TT (Sec)</th>\n    </tr>\n  </thead>\n  <tbody>\n    <tr>\n      <th id=\"T_65f2a_level0_row0\" class=\"row_heading level0 row0\" >rf</th>\n      <td id=\"T_65f2a_row0_col0\" class=\"data row0 col0\" >Random Forest Classifier</td>\n      <td id=\"T_65f2a_row0_col1\" class=\"data row0 col1\" >0.9767</td>\n      <td id=\"T_65f2a_row0_col2\" class=\"data row0 col2\" >0.9917</td>\n      <td id=\"T_65f2a_row0_col3\" class=\"data row0 col3\" >0.8485</td>\n      <td id=\"T_65f2a_row0_col4\" class=\"data row0 col4\" >1.0000</td>\n      <td id=\"T_65f2a_row0_col5\" class=\"data row0 col5\" >0.9150</td>\n      <td id=\"T_65f2a_row0_col6\" class=\"data row0 col6\" >0.9017</td>\n      <td id=\"T_65f2a_row0_col7\" class=\"data row0 col7\" >0.9077</td>\n      <td id=\"T_65f2a_row0_col8\" class=\"data row0 col8\" >0.0830</td>\n    </tr>\n    <tr>\n      <th id=\"T_65f2a_level0_row1\" class=\"row_heading level0 row1\" >ada</th>\n      <td id=\"T_65f2a_row1_col0\" class=\"data row1 col0\" >Ada Boost Classifier</td>\n      <td id=\"T_65f2a_row1_col1\" class=\"data row1 col1\" >0.9767</td>\n      <td id=\"T_65f2a_row1_col2\" class=\"data row1 col2\" >0.9861</td>\n      <td id=\"T_65f2a_row1_col3\" class=\"data row1 col3\" >0.8659</td>\n      <td id=\"T_65f2a_row1_col4\" class=\"data row1 col4\" >0.9846</td>\n      <td id=\"T_65f2a_row1_col5\" class=\"data row1 col5\" >0.9188</td>\n      <td id=\"T_65f2a_row1_col6\" class=\"data row1 col6\" >0.9053</td>\n      <td id=\"T_65f2a_row1_col7\" class=\"data row1 col7\" >0.9096</td>\n      <td id=\"T_65f2a_row1_col8\" class=\"data row1 col8\" >0.0700</td>\n    </tr>\n    <tr>\n      <th id=\"T_65f2a_level0_row2\" class=\"row_heading level0 row2\" >dt</th>\n      <td id=\"T_65f2a_row2_col0\" class=\"data row2 col0\" >Decision Tree Classifier</td>\n      <td id=\"T_65f2a_row2_col1\" class=\"data row2 col1\" >0.9739</td>\n      <td id=\"T_65f2a_row2_col2\" class=\"data row2 col2\" >0.9301</td>\n      <td id=\"T_65f2a_row2_col3\" class=\"data row2 col3\" >0.8667</td>\n      <td id=\"T_65f2a_row2_col4\" class=\"data row2 col4\" >0.9652</td>\n      <td id=\"T_65f2a_row2_col5\" class=\"data row2 col5\" >0.9107</td>\n      <td id=\"T_65f2a_row2_col6\" class=\"data row2 col6\" >0.8955</td>\n      <td id=\"T_65f2a_row2_col7\" class=\"data row2 col7\" >0.8990</td>\n      <td id=\"T_65f2a_row2_col8\" class=\"data row2 col8\" >0.0220</td>\n    </tr>\n    <tr>\n      <th id=\"T_65f2a_level0_row3\" class=\"row_heading level0 row3\" >et</th>\n      <td id=\"T_65f2a_row3_col0\" class=\"data row3 col0\" >Extra Trees Classifier</td>\n      <td id=\"T_65f2a_row3_col1\" class=\"data row3 col1\" >0.9739</td>\n      <td id=\"T_65f2a_row3_col2\" class=\"data row3 col2\" >0.9916</td>\n      <td id=\"T_65f2a_row3_col3\" class=\"data row3 col3\" >0.8576</td>\n      <td id=\"T_65f2a_row3_col4\" class=\"data row3 col4\" >0.9757</td>\n      <td id=\"T_65f2a_row3_col5\" class=\"data row3 col5\" >0.9087</td>\n      <td id=\"T_65f2a_row3_col6\" class=\"data row3 col6\" >0.8937</td>\n      <td id=\"T_65f2a_row3_col7\" class=\"data row3 col7\" >0.8989</td>\n      <td id=\"T_65f2a_row3_col8\" class=\"data row3 col8\" >0.0960</td>\n    </tr>\n    <tr>\n      <th id=\"T_65f2a_level0_row4\" class=\"row_heading level0 row4\" >gbc</th>\n      <td id=\"T_65f2a_row4_col0\" class=\"data row4 col0\" >Gradient Boosting Classifier</td>\n      <td id=\"T_65f2a_row4_col1\" class=\"data row4 col1\" >0.9684</td>\n      <td id=\"T_65f2a_row4_col2\" class=\"data row4 col2\" >0.9790</td>\n      <td id=\"T_65f2a_row4_col3\" class=\"data row4 col3\" >0.8136</td>\n      <td id=\"T_65f2a_row4_col4\" class=\"data row4 col4\" >0.9833</td>\n      <td id=\"T_65f2a_row4_col5\" class=\"data row4 col5\" >0.8883</td>\n      <td id=\"T_65f2a_row4_col6\" class=\"data row4 col6\" >0.8701</td>\n      <td id=\"T_65f2a_row4_col7\" class=\"data row4 col7\" >0.8768</td>\n      <td id=\"T_65f2a_row4_col8\" class=\"data row4 col8\" >0.1470</td>\n    </tr>\n    <tr>\n      <th id=\"T_65f2a_level0_row5\" class=\"row_heading level0 row5\" >svm</th>\n      <td id=\"T_65f2a_row5_col0\" class=\"data row5 col0\" >SVM - Linear Kernel</td>\n      <td id=\"T_65f2a_row5_col1\" class=\"data row5 col1\" >0.9644</td>\n      <td id=\"T_65f2a_row5_col2\" class=\"data row5 col2\" >0.0000</td>\n      <td id=\"T_65f2a_row5_col3\" class=\"data row5 col3\" >0.8023</td>\n      <td id=\"T_65f2a_row5_col4\" class=\"data row5 col4\" >0.8756</td>\n      <td id=\"T_65f2a_row5_col5\" class=\"data row5 col5\" >0.8344</td>\n      <td id=\"T_65f2a_row5_col6\" class=\"data row5 col6\" >0.8232</td>\n      <td id=\"T_65f2a_row5_col7\" class=\"data row5 col7\" >0.8263</td>\n      <td id=\"T_65f2a_row5_col8\" class=\"data row5 col8\" >0.0200</td>\n    </tr>\n    <tr>\n      <th id=\"T_65f2a_level0_row6\" class=\"row_heading level0 row6\" >ridge</th>\n      <td id=\"T_65f2a_row6_col0\" class=\"data row6 col0\" >Ridge Classifier</td>\n      <td id=\"T_65f2a_row6_col1\" class=\"data row6 col1\" >0.9630</td>\n      <td id=\"T_65f2a_row6_col2\" class=\"data row6 col2\" >0.0000</td>\n      <td id=\"T_65f2a_row6_col3\" class=\"data row6 col3\" >0.7697</td>\n      <td id=\"T_65f2a_row6_col4\" class=\"data row6 col4\" >0.9900</td>\n      <td id=\"T_65f2a_row6_col5\" class=\"data row6 col5\" >0.8625</td>\n      <td id=\"T_65f2a_row6_col6\" class=\"data row6 col6\" >0.8417</td>\n      <td id=\"T_65f2a_row6_col7\" class=\"data row6 col7\" >0.8527</td>\n      <td id=\"T_65f2a_row6_col8\" class=\"data row6 col8\" >0.0240</td>\n    </tr>\n    <tr>\n      <th id=\"T_65f2a_level0_row7\" class=\"row_heading level0 row7\" >lightgbm</th>\n      <td id=\"T_65f2a_row7_col0\" class=\"data row7 col0\" >Light Gradient Boosting Machine</td>\n      <td id=\"T_65f2a_row7_col1\" class=\"data row7 col1\" >0.9520</td>\n      <td id=\"T_65f2a_row7_col2\" class=\"data row7 col2\" >0.9711</td>\n      <td id=\"T_65f2a_row7_col3\" class=\"data row7 col3\" >0.7061</td>\n      <td id=\"T_65f2a_row7_col4\" class=\"data row7 col4\" >0.9775</td>\n      <td id=\"T_65f2a_row7_col5\" class=\"data row7 col5\" >0.8115</td>\n      <td id=\"T_65f2a_row7_col6\" class=\"data row7 col6\" >0.7856</td>\n      <td id=\"T_65f2a_row7_col7\" class=\"data row7 col7\" >0.8038</td>\n      <td id=\"T_65f2a_row7_col8\" class=\"data row7 col8\" >0.0300</td>\n    </tr>\n    <tr>\n      <th id=\"T_65f2a_level0_row8\" class=\"row_heading level0 row8\" >lda</th>\n      <td id=\"T_65f2a_row8_col0\" class=\"data row8 col0\" >Linear Discriminant Analysis</td>\n      <td id=\"T_65f2a_row8_col1\" class=\"data row8 col1\" >0.9464</td>\n      <td id=\"T_65f2a_row8_col2\" class=\"data row8 col2\" >0.9369</td>\n      <td id=\"T_65f2a_row8_col3\" class=\"data row8 col3\" >0.7621</td>\n      <td id=\"T_65f2a_row8_col4\" class=\"data row8 col4\" >0.8874</td>\n      <td id=\"T_65f2a_row8_col5\" class=\"data row8 col5\" >0.8103</td>\n      <td id=\"T_65f2a_row8_col6\" class=\"data row8 col6\" >0.7800</td>\n      <td id=\"T_65f2a_row8_col7\" class=\"data row8 col7\" >0.7888</td>\n      <td id=\"T_65f2a_row8_col8\" class=\"data row8 col8\" >0.1350</td>\n    </tr>\n    <tr>\n      <th id=\"T_65f2a_level0_row9\" class=\"row_heading level0 row9\" >nb</th>\n      <td id=\"T_65f2a_row9_col0\" class=\"data row9 col0\" >Naive Bayes</td>\n      <td id=\"T_65f2a_row9_col1\" class=\"data row9 col1\" >0.9383</td>\n      <td id=\"T_65f2a_row9_col2\" class=\"data row9 col2\" >0.8843</td>\n      <td id=\"T_65f2a_row9_col3\" class=\"data row9 col3\" >0.8061</td>\n      <td id=\"T_65f2a_row9_col4\" class=\"data row9 col4\" >0.8071</td>\n      <td id=\"T_65f2a_row9_col5\" class=\"data row9 col5\" >0.8027</td>\n      <td id=\"T_65f2a_row9_col6\" class=\"data row9 col6\" >0.7662</td>\n      <td id=\"T_65f2a_row9_col7\" class=\"data row9 col7\" >0.7688</td>\n      <td id=\"T_65f2a_row9_col8\" class=\"data row9 col8\" >0.0190</td>\n    </tr>\n    <tr>\n      <th id=\"T_65f2a_level0_row10\" class=\"row_heading level0 row10\" >knn</th>\n      <td id=\"T_65f2a_row10_col0\" class=\"data row10 col0\" >K Neighbors Classifier</td>\n      <td id=\"T_65f2a_row10_col1\" class=\"data row10 col1\" >0.9355</td>\n      <td id=\"T_65f2a_row10_col2\" class=\"data row10 col2\" >0.9527</td>\n      <td id=\"T_65f2a_row10_col3\" class=\"data row10 col3\" >0.6265</td>\n      <td id=\"T_65f2a_row10_col4\" class=\"data row10 col4\" >0.9410</td>\n      <td id=\"T_65f2a_row10_col5\" class=\"data row10 col5\" >0.7440</td>\n      <td id=\"T_65f2a_row10_col6\" class=\"data row10 col6\" >0.7096</td>\n      <td id=\"T_65f2a_row10_col7\" class=\"data row10 col7\" >0.7330</td>\n      <td id=\"T_65f2a_row10_col8\" class=\"data row10 col8\" >0.0460</td>\n    </tr>\n    <tr>\n      <th id=\"T_65f2a_level0_row11\" class=\"row_heading level0 row11\" >lr</th>\n      <td id=\"T_65f2a_row11_col0\" class=\"data row11 col0\" >Logistic Regression</td>\n      <td id=\"T_65f2a_row11_col1\" class=\"data row11 col1\" >0.9135</td>\n      <td id=\"T_65f2a_row11_col2\" class=\"data row11 col2\" >0.9986</td>\n      <td id=\"T_65f2a_row11_col3\" class=\"data row11 col3\" >0.4424</td>\n      <td id=\"T_65f2a_row11_col4\" class=\"data row11 col4\" >1.0000</td>\n      <td id=\"T_65f2a_row11_col5\" class=\"data row11 col5\" >0.6015</td>\n      <td id=\"T_65f2a_row11_col6\" class=\"data row11 col6\" >0.5635</td>\n      <td id=\"T_65f2a_row11_col7\" class=\"data row11 col7\" >0.6270</td>\n      <td id=\"T_65f2a_row11_col8\" class=\"data row11 col8\" >0.0360</td>\n    </tr>\n    <tr>\n      <th id=\"T_65f2a_level0_row12\" class=\"row_heading level0 row12\" >dummy</th>\n      <td id=\"T_65f2a_row12_col0\" class=\"data row12 col0\" >Dummy Classifier</td>\n      <td id=\"T_65f2a_row12_col1\" class=\"data row12 col1\" >0.8450</td>\n      <td id=\"T_65f2a_row12_col2\" class=\"data row12 col2\" >0.5000</td>\n      <td id=\"T_65f2a_row12_col3\" class=\"data row12 col3\" >0.0000</td>\n      <td id=\"T_65f2a_row12_col4\" class=\"data row12 col4\" >0.0000</td>\n      <td id=\"T_65f2a_row12_col5\" class=\"data row12 col5\" >0.0000</td>\n      <td id=\"T_65f2a_row12_col6\" class=\"data row12 col6\" >0.0000</td>\n      <td id=\"T_65f2a_row12_col7\" class=\"data row12 col7\" >0.0000</td>\n      <td id=\"T_65f2a_row12_col8\" class=\"data row12 col8\" >0.0130</td>\n    </tr>\n    <tr>\n      <th id=\"T_65f2a_level0_row13\" class=\"row_heading level0 row13\" >qda</th>\n      <td id=\"T_65f2a_row13_col0\" class=\"data row13 col0\" >Quadratic Discriminant Analysis</td>\n      <td id=\"T_65f2a_row13_col1\" class=\"data row13 col1\" >0.4457</td>\n      <td id=\"T_65f2a_row13_col2\" class=\"data row13 col2\" >0.6574</td>\n      <td id=\"T_65f2a_row13_col3\" class=\"data row13 col3\" >0.9644</td>\n      <td id=\"T_65f2a_row13_col4\" class=\"data row13 col4\" >0.2274</td>\n      <td id=\"T_65f2a_row13_col5\" class=\"data row13 col5\" >0.3638</td>\n      <td id=\"T_65f2a_row13_col6\" class=\"data row13 col6\" >0.1483</td>\n      <td id=\"T_65f2a_row13_col7\" class=\"data row13 col7\" >0.2538</td>\n      <td id=\"T_65f2a_row13_col8\" class=\"data row13 col8\" >0.0940</td>\n    </tr>\n  </tbody>\n</table>\n"
     },
     "metadata": {},
     "output_type": "display_data"
    },
    {
     "data": {
      "text/plain": "RandomForestClassifier(bootstrap=True, ccp_alpha=0.0, class_weight=None,\n                       criterion='gini', max_depth=None, max_features='auto',\n                       max_leaf_nodes=None, max_samples=None,\n                       min_impurity_decrease=0.0, min_impurity_split=None,\n                       min_samples_leaf=1, min_samples_split=2,\n                       min_weight_fraction_leaf=0.0, n_estimators=100,\n                       n_jobs=-1, oob_score=False, random_state=20221,\n                       verbose=0, warm_start=False)"
     },
     "execution_count": 14,
     "metadata": {},
     "output_type": "execute_result"
    }
   ],
   "source": [
    "compare_models()"
   ]
  },
  {
   "cell_type": "markdown",
   "source": [
    "## Criando os modelos melhor pontuados na compare_models"
   ],
   "metadata": {
    "collapsed": false,
    "pycharm": {
     "name": "#%% md\n"
    }
   }
  },
  {
   "cell_type": "code",
   "execution_count": 15,
   "outputs": [
    {
     "data": {
      "text/plain": "<pandas.io.formats.style.Styler at 0x17f4c9a2be0>",
      "text/html": "<style type=\"text/css\">\n#T_38315_row10_col0, #T_38315_row10_col1, #T_38315_row10_col2, #T_38315_row10_col3, #T_38315_row10_col4, #T_38315_row10_col5, #T_38315_row10_col6 {\n  background: yellow;\n}\n</style>\n<table id=\"T_38315\">\n  <thead>\n    <tr>\n      <th class=\"blank level0\" >&nbsp;</th>\n      <th id=\"T_38315_level0_col0\" class=\"col_heading level0 col0\" >Accuracy</th>\n      <th id=\"T_38315_level0_col1\" class=\"col_heading level0 col1\" >AUC</th>\n      <th id=\"T_38315_level0_col2\" class=\"col_heading level0 col2\" >Recall</th>\n      <th id=\"T_38315_level0_col3\" class=\"col_heading level0 col3\" >Prec.</th>\n      <th id=\"T_38315_level0_col4\" class=\"col_heading level0 col4\" >F1</th>\n      <th id=\"T_38315_level0_col5\" class=\"col_heading level0 col5\" >Kappa</th>\n      <th id=\"T_38315_level0_col6\" class=\"col_heading level0 col6\" >MCC</th>\n    </tr>\n    <tr>\n      <th class=\"index_name level0\" >Fold</th>\n      <th class=\"blank col0\" >&nbsp;</th>\n      <th class=\"blank col1\" >&nbsp;</th>\n      <th class=\"blank col2\" >&nbsp;</th>\n      <th class=\"blank col3\" >&nbsp;</th>\n      <th class=\"blank col4\" >&nbsp;</th>\n      <th class=\"blank col5\" >&nbsp;</th>\n      <th class=\"blank col6\" >&nbsp;</th>\n    </tr>\n  </thead>\n  <tbody>\n    <tr>\n      <th id=\"T_38315_level0_row0\" class=\"row_heading level0 row0\" >0</th>\n      <td id=\"T_38315_row0_col0\" class=\"data row0 col0\" >0.9863</td>\n      <td id=\"T_38315_row0_col1\" class=\"data row0 col1\" >0.9905</td>\n      <td id=\"T_38315_row0_col2\" class=\"data row0 col2\" >0.9091</td>\n      <td id=\"T_38315_row0_col3\" class=\"data row0 col3\" >1.0000</td>\n      <td id=\"T_38315_row0_col4\" class=\"data row0 col4\" >0.9524</td>\n      <td id=\"T_38315_row0_col5\" class=\"data row0 col5\" >0.9444</td>\n      <td id=\"T_38315_row0_col6\" class=\"data row0 col6\" >0.9459</td>\n    </tr>\n    <tr>\n      <th id=\"T_38315_level0_row1\" class=\"row_heading level0 row1\" >1</th>\n      <td id=\"T_38315_row1_col0\" class=\"data row1 col0\" >0.9863</td>\n      <td id=\"T_38315_row1_col1\" class=\"data row1 col1\" >0.9751</td>\n      <td id=\"T_38315_row1_col2\" class=\"data row1 col2\" >0.9091</td>\n      <td id=\"T_38315_row1_col3\" class=\"data row1 col3\" >1.0000</td>\n      <td id=\"T_38315_row1_col4\" class=\"data row1 col4\" >0.9524</td>\n      <td id=\"T_38315_row1_col5\" class=\"data row1 col5\" >0.9444</td>\n      <td id=\"T_38315_row1_col6\" class=\"data row1 col6\" >0.9459</td>\n    </tr>\n    <tr>\n      <th id=\"T_38315_level0_row2\" class=\"row_heading level0 row2\" >2</th>\n      <td id=\"T_38315_row2_col0\" class=\"data row2 col0\" >0.9726</td>\n      <td id=\"T_38315_row2_col1\" class=\"data row2 col1\" >0.9890</td>\n      <td id=\"T_38315_row2_col2\" class=\"data row2 col2\" >0.8182</td>\n      <td id=\"T_38315_row2_col3\" class=\"data row2 col3\" >1.0000</td>\n      <td id=\"T_38315_row2_col4\" class=\"data row2 col4\" >0.9000</td>\n      <td id=\"T_38315_row2_col5\" class=\"data row2 col5\" >0.8843</td>\n      <td id=\"T_38315_row2_col6\" class=\"data row2 col6\" >0.8903</td>\n    </tr>\n    <tr>\n      <th id=\"T_38315_level0_row3\" class=\"row_heading level0 row3\" >3</th>\n      <td id=\"T_38315_row3_col0\" class=\"data row3 col0\" >0.9726</td>\n      <td id=\"T_38315_row3_col1\" class=\"data row3 col1\" >0.9795</td>\n      <td id=\"T_38315_row3_col2\" class=\"data row3 col2\" >0.8182</td>\n      <td id=\"T_38315_row3_col3\" class=\"data row3 col3\" >1.0000</td>\n      <td id=\"T_38315_row3_col4\" class=\"data row3 col4\" >0.9000</td>\n      <td id=\"T_38315_row3_col5\" class=\"data row3 col5\" >0.8843</td>\n      <td id=\"T_38315_row3_col6\" class=\"data row3 col6\" >0.8903</td>\n    </tr>\n    <tr>\n      <th id=\"T_38315_level0_row4\" class=\"row_heading level0 row4\" >4</th>\n      <td id=\"T_38315_row4_col0\" class=\"data row4 col0\" >0.9863</td>\n      <td id=\"T_38315_row4_col1\" class=\"data row4 col1\" >0.9875</td>\n      <td id=\"T_38315_row4_col2\" class=\"data row4 col2\" >0.9091</td>\n      <td id=\"T_38315_row4_col3\" class=\"data row4 col3\" >1.0000</td>\n      <td id=\"T_38315_row4_col4\" class=\"data row4 col4\" >0.9524</td>\n      <td id=\"T_38315_row4_col5\" class=\"data row4 col5\" >0.9444</td>\n      <td id=\"T_38315_row4_col6\" class=\"data row4 col6\" >0.9459</td>\n    </tr>\n    <tr>\n      <th id=\"T_38315_level0_row5\" class=\"row_heading level0 row5\" >5</th>\n      <td id=\"T_38315_row5_col0\" class=\"data row5 col0\" >0.9726</td>\n      <td id=\"T_38315_row5_col1\" class=\"data row5 col1\" >0.9897</td>\n      <td id=\"T_38315_row5_col2\" class=\"data row5 col2\" >0.8182</td>\n      <td id=\"T_38315_row5_col3\" class=\"data row5 col3\" >1.0000</td>\n      <td id=\"T_38315_row5_col4\" class=\"data row5 col4\" >0.9000</td>\n      <td id=\"T_38315_row5_col5\" class=\"data row5 col5\" >0.8843</td>\n      <td id=\"T_38315_row5_col6\" class=\"data row5 col6\" >0.8903</td>\n    </tr>\n    <tr>\n      <th id=\"T_38315_level0_row6\" class=\"row_heading level0 row6\" >6</th>\n      <td id=\"T_38315_row6_col0\" class=\"data row6 col0\" >0.9589</td>\n      <td id=\"T_38315_row6_col1\" class=\"data row6 col1\" >0.9870</td>\n      <td id=\"T_38315_row6_col2\" class=\"data row6 col2\" >0.9167</td>\n      <td id=\"T_38315_row6_col3\" class=\"data row6 col3\" >0.8462</td>\n      <td id=\"T_38315_row6_col4\" class=\"data row6 col4\" >0.8800</td>\n      <td id=\"T_38315_row6_col5\" class=\"data row6 col5\" >0.8553</td>\n      <td id=\"T_38315_row6_col6\" class=\"data row6 col6\" >0.8563</td>\n    </tr>\n    <tr>\n      <th id=\"T_38315_level0_row7\" class=\"row_heading level0 row7\" >7</th>\n      <td id=\"T_38315_row7_col0\" class=\"data row7 col0\" >1.0000</td>\n      <td id=\"T_38315_row7_col1\" class=\"data row7 col1\" >1.0000</td>\n      <td id=\"T_38315_row7_col2\" class=\"data row7 col2\" >1.0000</td>\n      <td id=\"T_38315_row7_col3\" class=\"data row7 col3\" >1.0000</td>\n      <td id=\"T_38315_row7_col4\" class=\"data row7 col4\" >1.0000</td>\n      <td id=\"T_38315_row7_col5\" class=\"data row7 col5\" >1.0000</td>\n      <td id=\"T_38315_row7_col6\" class=\"data row7 col6\" >1.0000</td>\n    </tr>\n    <tr>\n      <th id=\"T_38315_level0_row8\" class=\"row_heading level0 row8\" >8</th>\n      <td id=\"T_38315_row8_col0\" class=\"data row8 col0\" >0.9726</td>\n      <td id=\"T_38315_row8_col1\" class=\"data row8 col1\" >0.9863</td>\n      <td id=\"T_38315_row8_col2\" class=\"data row8 col2\" >0.8333</td>\n      <td id=\"T_38315_row8_col3\" class=\"data row8 col3\" >1.0000</td>\n      <td id=\"T_38315_row8_col4\" class=\"data row8 col4\" >0.9091</td>\n      <td id=\"T_38315_row8_col5\" class=\"data row8 col5\" >0.8931</td>\n      <td id=\"T_38315_row8_col6\" class=\"data row8 col6\" >0.8983</td>\n    </tr>\n    <tr>\n      <th id=\"T_38315_level0_row9\" class=\"row_heading level0 row9\" >9</th>\n      <td id=\"T_38315_row9_col0\" class=\"data row9 col0\" >0.9583</td>\n      <td id=\"T_38315_row9_col1\" class=\"data row9 col1\" >0.9762</td>\n      <td id=\"T_38315_row9_col2\" class=\"data row9 col2\" >0.7273</td>\n      <td id=\"T_38315_row9_col3\" class=\"data row9 col3\" >1.0000</td>\n      <td id=\"T_38315_row9_col4\" class=\"data row9 col4\" >0.8421</td>\n      <td id=\"T_38315_row9_col5\" class=\"data row9 col5\" >0.8188</td>\n      <td id=\"T_38315_row9_col6\" class=\"data row9 col6\" >0.8326</td>\n    </tr>\n    <tr>\n      <th id=\"T_38315_level0_row10\" class=\"row_heading level0 row10\" >Mean</th>\n      <td id=\"T_38315_row10_col0\" class=\"data row10 col0\" >0.9767</td>\n      <td id=\"T_38315_row10_col1\" class=\"data row10 col1\" >0.9861</td>\n      <td id=\"T_38315_row10_col2\" class=\"data row10 col2\" >0.8659</td>\n      <td id=\"T_38315_row10_col3\" class=\"data row10 col3\" >0.9846</td>\n      <td id=\"T_38315_row10_col4\" class=\"data row10 col4\" >0.9188</td>\n      <td id=\"T_38315_row10_col5\" class=\"data row10 col5\" >0.9053</td>\n      <td id=\"T_38315_row10_col6\" class=\"data row10 col6\" >0.9096</td>\n    </tr>\n    <tr>\n      <th id=\"T_38315_level0_row11\" class=\"row_heading level0 row11\" >Std</th>\n      <td id=\"T_38315_row11_col0\" class=\"data row11 col0\" >0.0124</td>\n      <td id=\"T_38315_row11_col1\" class=\"data row11 col1\" >0.0071</td>\n      <td id=\"T_38315_row11_col2\" class=\"data row11 col2\" >0.0730</td>\n      <td id=\"T_38315_row11_col3\" class=\"data row11 col3\" >0.0462</td>\n      <td id=\"T_38315_row11_col4\" class=\"data row11 col4\" >0.0430</td>\n      <td id=\"T_38315_row11_col5\" class=\"data row11 col5\" >0.0500</td>\n      <td id=\"T_38315_row11_col6\" class=\"data row11 col6\" >0.0471</td>\n    </tr>\n  </tbody>\n</table>\n"
     },
     "metadata": {},
     "output_type": "display_data"
    }
   ],
   "source": [
    "# cria o modelo\n",
    "ada = create_model('ada')"
   ],
   "metadata": {
    "collapsed": false,
    "pycharm": {
     "name": "#%%\n"
    }
   }
  },
  {
   "cell_type": "code",
   "execution_count": 16,
   "outputs": [
    {
     "data": {
      "text/plain": "<pandas.io.formats.style.Styler at 0x17f43f63c40>",
      "text/html": "<style type=\"text/css\">\n#T_8dcb7_row10_col0, #T_8dcb7_row10_col1, #T_8dcb7_row10_col2, #T_8dcb7_row10_col3, #T_8dcb7_row10_col4, #T_8dcb7_row10_col5, #T_8dcb7_row10_col6 {\n  background: yellow;\n}\n</style>\n<table id=\"T_8dcb7\">\n  <thead>\n    <tr>\n      <th class=\"blank level0\" >&nbsp;</th>\n      <th id=\"T_8dcb7_level0_col0\" class=\"col_heading level0 col0\" >Accuracy</th>\n      <th id=\"T_8dcb7_level0_col1\" class=\"col_heading level0 col1\" >AUC</th>\n      <th id=\"T_8dcb7_level0_col2\" class=\"col_heading level0 col2\" >Recall</th>\n      <th id=\"T_8dcb7_level0_col3\" class=\"col_heading level0 col3\" >Prec.</th>\n      <th id=\"T_8dcb7_level0_col4\" class=\"col_heading level0 col4\" >F1</th>\n      <th id=\"T_8dcb7_level0_col5\" class=\"col_heading level0 col5\" >Kappa</th>\n      <th id=\"T_8dcb7_level0_col6\" class=\"col_heading level0 col6\" >MCC</th>\n    </tr>\n    <tr>\n      <th class=\"index_name level0\" >Fold</th>\n      <th class=\"blank col0\" >&nbsp;</th>\n      <th class=\"blank col1\" >&nbsp;</th>\n      <th class=\"blank col2\" >&nbsp;</th>\n      <th class=\"blank col3\" >&nbsp;</th>\n      <th class=\"blank col4\" >&nbsp;</th>\n      <th class=\"blank col5\" >&nbsp;</th>\n      <th class=\"blank col6\" >&nbsp;</th>\n    </tr>\n  </thead>\n  <tbody>\n    <tr>\n      <th id=\"T_8dcb7_level0_row0\" class=\"row_heading level0 row0\" >0</th>\n      <td id=\"T_8dcb7_row0_col0\" class=\"data row0 col0\" >0.9726</td>\n      <td id=\"T_8dcb7_row0_col1\" class=\"data row0 col1\" >1.0000</td>\n      <td id=\"T_8dcb7_row0_col2\" class=\"data row0 col2\" >0.8182</td>\n      <td id=\"T_8dcb7_row0_col3\" class=\"data row0 col3\" >1.0000</td>\n      <td id=\"T_8dcb7_row0_col4\" class=\"data row0 col4\" >0.9000</td>\n      <td id=\"T_8dcb7_row0_col5\" class=\"data row0 col5\" >0.8843</td>\n      <td id=\"T_8dcb7_row0_col6\" class=\"data row0 col6\" >0.8903</td>\n    </tr>\n    <tr>\n      <th id=\"T_8dcb7_level0_row1\" class=\"row_heading level0 row1\" >1</th>\n      <td id=\"T_8dcb7_row1_col0\" class=\"data row1 col0\" >1.0000</td>\n      <td id=\"T_8dcb7_row1_col1\" class=\"data row1 col1\" >1.0000</td>\n      <td id=\"T_8dcb7_row1_col2\" class=\"data row1 col2\" >1.0000</td>\n      <td id=\"T_8dcb7_row1_col3\" class=\"data row1 col3\" >1.0000</td>\n      <td id=\"T_8dcb7_row1_col4\" class=\"data row1 col4\" >1.0000</td>\n      <td id=\"T_8dcb7_row1_col5\" class=\"data row1 col5\" >1.0000</td>\n      <td id=\"T_8dcb7_row1_col6\" class=\"data row1 col6\" >1.0000</td>\n    </tr>\n    <tr>\n      <th id=\"T_8dcb7_level0_row2\" class=\"row_heading level0 row2\" >2</th>\n      <td id=\"T_8dcb7_row2_col0\" class=\"data row2 col0\" >0.9726</td>\n      <td id=\"T_8dcb7_row2_col1\" class=\"data row2 col1\" >0.9875</td>\n      <td id=\"T_8dcb7_row2_col2\" class=\"data row2 col2\" >0.8182</td>\n      <td id=\"T_8dcb7_row2_col3\" class=\"data row2 col3\" >1.0000</td>\n      <td id=\"T_8dcb7_row2_col4\" class=\"data row2 col4\" >0.9000</td>\n      <td id=\"T_8dcb7_row2_col5\" class=\"data row2 col5\" >0.8843</td>\n      <td id=\"T_8dcb7_row2_col6\" class=\"data row2 col6\" >0.8903</td>\n    </tr>\n    <tr>\n      <th id=\"T_8dcb7_level0_row3\" class=\"row_heading level0 row3\" >3</th>\n      <td id=\"T_8dcb7_row3_col0\" class=\"data row3 col0\" >0.9589</td>\n      <td id=\"T_8dcb7_row3_col1\" class=\"data row3 col1\" >0.9883</td>\n      <td id=\"T_8dcb7_row3_col2\" class=\"data row3 col2\" >0.7273</td>\n      <td id=\"T_8dcb7_row3_col3\" class=\"data row3 col3\" >1.0000</td>\n      <td id=\"T_8dcb7_row3_col4\" class=\"data row3 col4\" >0.8421</td>\n      <td id=\"T_8dcb7_row3_col5\" class=\"data row3 col5\" >0.8192</td>\n      <td id=\"T_8dcb7_row3_col6\" class=\"data row3 col6\" >0.8329</td>\n    </tr>\n    <tr>\n      <th id=\"T_8dcb7_level0_row4\" class=\"row_heading level0 row4\" >4</th>\n      <td id=\"T_8dcb7_row4_col0\" class=\"data row4 col0\" >0.9726</td>\n      <td id=\"T_8dcb7_row4_col1\" class=\"data row4 col1\" >0.9949</td>\n      <td id=\"T_8dcb7_row4_col2\" class=\"data row4 col2\" >0.8182</td>\n      <td id=\"T_8dcb7_row4_col3\" class=\"data row4 col3\" >1.0000</td>\n      <td id=\"T_8dcb7_row4_col4\" class=\"data row4 col4\" >0.9000</td>\n      <td id=\"T_8dcb7_row4_col5\" class=\"data row4 col5\" >0.8843</td>\n      <td id=\"T_8dcb7_row4_col6\" class=\"data row4 col6\" >0.8903</td>\n    </tr>\n    <tr>\n      <th id=\"T_8dcb7_level0_row5\" class=\"row_heading level0 row5\" >5</th>\n      <td id=\"T_8dcb7_row5_col0\" class=\"data row5 col0\" >0.9726</td>\n      <td id=\"T_8dcb7_row5_col1\" class=\"data row5 col1\" >0.9985</td>\n      <td id=\"T_8dcb7_row5_col2\" class=\"data row5 col2\" >0.8182</td>\n      <td id=\"T_8dcb7_row5_col3\" class=\"data row5 col3\" >1.0000</td>\n      <td id=\"T_8dcb7_row5_col4\" class=\"data row5 col4\" >0.9000</td>\n      <td id=\"T_8dcb7_row5_col5\" class=\"data row5 col5\" >0.8843</td>\n      <td id=\"T_8dcb7_row5_col6\" class=\"data row5 col6\" >0.8903</td>\n    </tr>\n    <tr>\n      <th id=\"T_8dcb7_level0_row6\" class=\"row_heading level0 row6\" >6</th>\n      <td id=\"T_8dcb7_row6_col0\" class=\"data row6 col0\" >0.9726</td>\n      <td id=\"T_8dcb7_row6_col1\" class=\"data row6 col1\" >1.0000</td>\n      <td id=\"T_8dcb7_row6_col2\" class=\"data row6 col2\" >0.8333</td>\n      <td id=\"T_8dcb7_row6_col3\" class=\"data row6 col3\" >1.0000</td>\n      <td id=\"T_8dcb7_row6_col4\" class=\"data row6 col4\" >0.9091</td>\n      <td id=\"T_8dcb7_row6_col5\" class=\"data row6 col5\" >0.8931</td>\n      <td id=\"T_8dcb7_row6_col6\" class=\"data row6 col6\" >0.8983</td>\n    </tr>\n    <tr>\n      <th id=\"T_8dcb7_level0_row7\" class=\"row_heading level0 row7\" >7</th>\n      <td id=\"T_8dcb7_row7_col0\" class=\"data row7 col0\" >0.9863</td>\n      <td id=\"T_8dcb7_row7_col1\" class=\"data row7 col1\" >1.0000</td>\n      <td id=\"T_8dcb7_row7_col2\" class=\"data row7 col2\" >0.9167</td>\n      <td id=\"T_8dcb7_row7_col3\" class=\"data row7 col3\" >1.0000</td>\n      <td id=\"T_8dcb7_row7_col4\" class=\"data row7 col4\" >0.9565</td>\n      <td id=\"T_8dcb7_row7_col5\" class=\"data row7 col5\" >0.9484</td>\n      <td id=\"T_8dcb7_row7_col6\" class=\"data row7 col6\" >0.9497</td>\n    </tr>\n    <tr>\n      <th id=\"T_8dcb7_level0_row8\" class=\"row_heading level0 row8\" >8</th>\n      <td id=\"T_8dcb7_row8_col0\" class=\"data row8 col0\" >0.9726</td>\n      <td id=\"T_8dcb7_row8_col1\" class=\"data row8 col1\" >0.9959</td>\n      <td id=\"T_8dcb7_row8_col2\" class=\"data row8 col2\" >0.8333</td>\n      <td id=\"T_8dcb7_row8_col3\" class=\"data row8 col3\" >1.0000</td>\n      <td id=\"T_8dcb7_row8_col4\" class=\"data row8 col4\" >0.9091</td>\n      <td id=\"T_8dcb7_row8_col5\" class=\"data row8 col5\" >0.8931</td>\n      <td id=\"T_8dcb7_row8_col6\" class=\"data row8 col6\" >0.8983</td>\n    </tr>\n    <tr>\n      <th id=\"T_8dcb7_level0_row9\" class=\"row_heading level0 row9\" >9</th>\n      <td id=\"T_8dcb7_row9_col0\" class=\"data row9 col0\" >0.9583</td>\n      <td id=\"T_8dcb7_row9_col1\" class=\"data row9 col1\" >0.9762</td>\n      <td id=\"T_8dcb7_row9_col2\" class=\"data row9 col2\" >0.7273</td>\n      <td id=\"T_8dcb7_row9_col3\" class=\"data row9 col3\" >1.0000</td>\n      <td id=\"T_8dcb7_row9_col4\" class=\"data row9 col4\" >0.8421</td>\n      <td id=\"T_8dcb7_row9_col5\" class=\"data row9 col5\" >0.8188</td>\n      <td id=\"T_8dcb7_row9_col6\" class=\"data row9 col6\" >0.8326</td>\n    </tr>\n    <tr>\n      <th id=\"T_8dcb7_level0_row10\" class=\"row_heading level0 row10\" >Mean</th>\n      <td id=\"T_8dcb7_row10_col0\" class=\"data row10 col0\" >0.9739</td>\n      <td id=\"T_8dcb7_row10_col1\" class=\"data row10 col1\" >0.9941</td>\n      <td id=\"T_8dcb7_row10_col2\" class=\"data row10 col2\" >0.8311</td>\n      <td id=\"T_8dcb7_row10_col3\" class=\"data row10 col3\" >1.0000</td>\n      <td id=\"T_8dcb7_row10_col4\" class=\"data row10 col4\" >0.9059</td>\n      <td id=\"T_8dcb7_row10_col5\" class=\"data row10 col5\" >0.8910</td>\n      <td id=\"T_8dcb7_row10_col6\" class=\"data row10 col6\" >0.8973</td>\n    </tr>\n    <tr>\n      <th id=\"T_8dcb7_level0_row11\" class=\"row_heading level0 row11\" >Std</th>\n      <td id=\"T_8dcb7_row11_col0\" class=\"data row11 col0\" >0.0115</td>\n      <td id=\"T_8dcb7_row11_col1\" class=\"data row11 col1\" >0.0075</td>\n      <td id=\"T_8dcb7_row11_col2\" class=\"data row11 col2\" >0.0762</td>\n      <td id=\"T_8dcb7_row11_col3\" class=\"data row11 col3\" >0.0000</td>\n      <td id=\"T_8dcb7_row11_col4\" class=\"data row11 col4\" >0.0444</td>\n      <td id=\"T_8dcb7_row11_col5\" class=\"data row11 col5\" >0.0507</td>\n      <td id=\"T_8dcb7_row11_col6\" class=\"data row11 col6\" >0.0467</td>\n    </tr>\n  </tbody>\n</table>\n"
     },
     "metadata": {},
     "output_type": "display_data"
    }
   ],
   "source": [
    "# realiza o ensemble dos modelos e seleciona o melhor\n",
    "melhor_modelo_bagging = ensemble_model(ada, choose_better=True)"
   ],
   "metadata": {
    "collapsed": false,
    "pycharm": {
     "name": "#%%\n"
    }
   }
  },
  {
   "cell_type": "code",
   "execution_count": 17,
   "metadata": {
    "pycharm": {
     "name": "#%%\n"
    }
   },
   "outputs": [
    {
     "name": "stdout",
     "output_type": "stream",
     "text": [
      "AdaBoostClassifier(algorithm='SAMME.R', base_estimator=None, learning_rate=1.0,\n",
      "                   n_estimators=50, random_state=20221)\n"
     ]
    }
   ],
   "source": [
    "# Imprimindo melhor modelo\n",
    "print(melhor_modelo_bagging)"
   ]
  },
  {
   "cell_type": "code",
   "execution_count": 18,
   "outputs": [
    {
     "data": {
      "text/plain": "<Figure size 800x550 with 1 Axes>",
      "image/png": "[encoded data removed]"
     },
     "metadata": {},
     "output_type": "display_data"
    }
   ],
   "source": [
    "plot_model(melhor_modelo_bagging, plot = 'confusion_matrix')"
   ],
   "metadata": {
    "collapsed": false,
    "pycharm": {
     "name": "#%%\n"
    }
   }
  },
  {
   "cell_type": "markdown",
   "source": [
    "## Predição do modelo treinado\n",
    "\n",
    "Antes de finalizar o modelo, realiza-se uma verificação final prevendo o conjunto de teste/hold-out e revisando as métricas de avaliação. Esta verificação é realizada com os 30% dos dados separados para isto no início deste notebook.\n",
    "\n",
    "Perceba abaixo que não houve grande variação entre os resultados do teste/hold-out e do treinamento, inclusive as métricas do teste se apresentam melhores, isso indica que não ocorreu o overfitting."
   ],
   "metadata": {
    "collapsed": false,
    "pycharm": {
     "name": "#%% md\n"
    }
   }
  },
  {
   "cell_type": "code",
   "execution_count": 19,
   "outputs": [
    {
     "data": {
      "text/plain": "<pandas.io.formats.style.Styler at 0x17f4c9326a0>",
      "text/html": "<style type=\"text/css\">\n</style>\n<table id=\"T_79ad5\">\n  <thead>\n    <tr>\n      <th class=\"blank level0\" >&nbsp;</th>\n      <th id=\"T_79ad5_level0_col0\" class=\"col_heading level0 col0\" >Model</th>\n      <th id=\"T_79ad5_level0_col1\" class=\"col_heading level0 col1\" >Accuracy</th>\n      <th id=\"T_79ad5_level0_col2\" class=\"col_heading level0 col2\" >AUC</th>\n      <th id=\"T_79ad5_level0_col3\" class=\"col_heading level0 col3\" >Recall</th>\n      <th id=\"T_79ad5_level0_col4\" class=\"col_heading level0 col4\" >Prec.</th>\n      <th id=\"T_79ad5_level0_col5\" class=\"col_heading level0 col5\" >F1</th>\n      <th id=\"T_79ad5_level0_col6\" class=\"col_heading level0 col6\" >Kappa</th>\n      <th id=\"T_79ad5_level0_col7\" class=\"col_heading level0 col7\" >MCC</th>\n    </tr>\n  </thead>\n  <tbody>\n    <tr>\n      <th id=\"T_79ad5_level0_row0\" class=\"row_heading level0 row0\" >0</th>\n      <td id=\"T_79ad5_row0_col0\" class=\"data row0 col0\" >Ada Boost Classifier</td>\n      <td id=\"T_79ad5_row0_col1\" class=\"data row0 col1\" >0.9617</td>\n      <td id=\"T_79ad5_row0_col2\" class=\"data row0 col2\" >0.9794</td>\n      <td id=\"T_79ad5_row0_col3\" class=\"data row0 col3\" >0.7755</td>\n      <td id=\"T_79ad5_row0_col4\" class=\"data row0 col4\" >0.9744</td>\n      <td id=\"T_79ad5_row0_col5\" class=\"data row0 col5\" >0.8636</td>\n      <td id=\"T_79ad5_row0_col6\" class=\"data row0 col6\" >0.8417</td>\n      <td id=\"T_79ad5_row0_col7\" class=\"data row0 col7\" >0.8491</td>\n    </tr>\n  </tbody>\n</table>\n"
     },
     "metadata": {},
     "output_type": "display_data"
    },
    {
     "data": {
      "text/plain": "     abracar  acesso  acho  acompanhamento  acontece  acontecera  acordo  \\\n0        0.0     0.0   0.0             0.0       0.0         0.0     0.0   \n1        0.0     0.0   0.0             0.0       0.0         0.0     0.0   \n2        0.0     0.0   0.0             0.0       0.0         0.0     0.0   \n3        0.0     0.0   0.0             0.0       0.0         0.0     0.0   \n4        0.0     0.0   0.0             0.0       0.0         0.0     0.0   \n..       ...     ...   ...             ...       ...         ...     ...   \n308      0.0     0.0   0.0             0.0       0.0         0.0     0.0   \n309      0.0     0.0   0.0             0.0       0.0         0.0     0.0   \n310      0.0     0.0   0.0             0.0       0.0         0.0     0.0   \n311      0.0     0.0   0.0             0.0       0.0         0.0     0.0   \n312      0.0     0.0   0.0             0.0       0.0         0.0     0.0   \n\n     acrescido  aderi  aderir  ...  vantagens_0.8863410949707031  \\\n0          0.0    0.0     0.0  ...                           0.0   \n1          0.0    0.0     0.0  ...                           0.0   \n2          0.0    0.0     0.0  ...                           0.0   \n3          0.0    0.0     0.0  ...                           0.0   \n4          0.0    0.0     0.0  ...                           0.0   \n..         ...    ...     ...  ...                           ...   \n308        0.0    0.0     0.0  ...                           0.0   \n309        0.0    0.0     0.0  ...                           0.0   \n310        0.0    0.0     0.0  ...                           0.0   \n311        0.0    0.0     0.0  ...                           0.0   \n312        0.0    0.0     0.0  ...                           0.0   \n\n     vantajoso_0.8135361075401306  vao_0.0  vem_0.6479084491729736  \\\n0                             0.0      1.0                     0.0   \n1                             0.0      1.0                     0.0   \n2                             0.0      1.0                     0.0   \n3                             0.0      1.0                     0.0   \n4                             0.0      1.0                     0.0   \n..                            ...      ...                     ...   \n308                           0.0      1.0                     0.0   \n309                           0.0      1.0                     0.0   \n310                           0.0      1.0                     0.0   \n311                           0.0      1.0                     0.0   \n312                           0.0      1.0                     0.0   \n\n     vindo_0.5517596006393433  vir_0.42635244131088257  \\\n0                         0.0                      0.0   \n1                         0.0                      0.0   \n2                         0.0                      0.0   \n3                         0.0                      0.0   \n4                         0.0                      0.0   \n..                        ...                      ...   \n308                       0.0                      0.0   \n309                       0.0                      0.0   \n310                       0.0                      0.0   \n311                       0.0                      0.0   \n312                       0.0                      0.0   \n\n     vistorias_0.712486743927002  target_cat  Label   Score  \n0                            0.0           0      0  0.7816  \n1                            0.0           1      0  0.6323  \n2                            0.0           0      0  0.7816  \n3                            0.0           0      0  0.7816  \n4                            0.0           0      0  0.6323  \n..                           ...         ...    ...     ...  \n308                          0.0           1      1  0.7222  \n309                          0.0           0      0  0.6323  \n310                          0.0           0      0  0.7801  \n311                          0.0           0      0  0.7816  \n312                          0.0           1      1  0.7222  \n\n[313 rows x 856 columns]",
      "text/html": "<div>\n<style scoped>\n    .dataframe tbody tr th:only-of-type {\n        vertical-align: middle;\n    }\n\n    .dataframe tbody tr th {\n        vertical-align: top;\n    }\n\n    .dataframe thead th {\n        text-align: right;\n    }\n</style>\n<table border=\"1\" class=\"dataframe\">\n  <thead>\n    <tr style=\"text-align: right;\">\n      <th></th>\n      <th>abracar</th>\n      <th>acesso</th>\n      <th>acho</th>\n      <th>acompanhamento</th>\n      <th>acontece</th>\n      <th>acontecera</th>\n      <th>acordo</th>\n      <th>acrescido</th>\n      <th>aderi</th>\n      <th>aderir</th>\n      <th>...</th>\n      <th>vantagens_0.8863410949707031</th>\n      <th>vantajoso_0.8135361075401306</th>\n      <th>vao_0.0</th>\n      <th>vem_0.6479084491729736</th>\n      <th>vindo_0.5517596006393433</th>\n      <th>vir_0.42635244131088257</th>\n      <th>vistorias_0.712486743927002</th>\n      <th>target_cat</th>\n      <th>Label</th>\n      <th>Score</th>\n    </tr>\n  </thead>\n  <tbody>\n    <tr>\n      <th>0</th>\n      <td>0.0</td>\n      <td>0.0</td>\n      <td>0.0</td>\n      <td>0.0</td>\n      <td>0.0</td>\n      <td>0.0</td>\n      <td>0.0</td>\n      <td>0.0</td>\n      <td>0.0</td>\n      <td>0.0</td>\n      <td>...</td>\n      <td>0.0</td>\n      <td>0.0</td>\n      <td>1.0</td>\n      <td>0.0</td>\n      <td>0.0</td>\n      <td>0.0</td>\n      <td>0.0</td>\n      <td>0</td>\n      <td>0</td>\n      <td>0.7816</td>\n    </tr>\n    <tr>\n      <th>1</th>\n      <td>0.0</td>\n      <td>0.0</td>\n      <td>0.0</td>\n      <td>0.0</td>\n      <td>0.0</td>\n      <td>0.0</td>\n      <td>0.0</td>\n      <td>0.0</td>\n      <td>0.0</td>\n      <td>0.0</td>\n      <td>...</td>\n      <td>0.0</td>\n      <td>0.0</td>\n      <td>1.0</td>\n      <td>0.0</td>\n      <td>0.0</td>\n      <td>0.0</td>\n      <td>0.0</td>\n      <td>1</td>\n      <td>0</td>\n      <td>0.6323</td>\n    </tr>\n    <tr>\n      <th>2</th>\n      <td>0.0</td>\n      <td>0.0</td>\n      <td>0.0</td>\n      <td>0.0</td>\n      <td>0.0</td>\n      <td>0.0</td>\n      <td>0.0</td>\n      <td>0.0</td>\n      <td>0.0</td>\n      <td>0.0</td>\n      <td>...</td>\n      <td>0.0</td>\n      <td>0.0</td>\n      <td>1.0</td>\n      <td>0.0</td>\n      <td>0.0</td>\n      <td>0.0</td>\n      <td>0.0</td>\n      <td>0</td>\n      <td>0</td>\n      <td>0.7816</td>\n    </tr>\n    <tr>\n      <th>3</th>\n      <td>0.0</td>\n      <td>0.0</td>\n      <td>0.0</td>\n      <td>0.0</td>\n      <td>0.0</td>\n      <td>0.0</td>\n      <td>0.0</td>\n      <td>0.0</td>\n      <td>0.0</td>\n      <td>0.0</td>\n      <td>...</td>\n      <td>0.0</td>\n      <td>0.0</td>\n      <td>1.0</td>\n      <td>0.0</td>\n      <td>0.0</td>\n      <td>0.0</td>\n      <td>0.0</td>\n      <td>0</td>\n      <td>0</td>\n      <td>0.7816</td>\n    </tr>\n    <tr>\n      <th>4</th>\n      <td>0.0</td>\n      <td>0.0</td>\n      <td>0.0</td>\n      <td>0.0</td>\n      <td>0.0</td>\n      <td>0.0</td>\n      <td>0.0</td>\n      <td>0.0</td>\n      <td>0.0</td>\n      <td>0.0</td>\n      <td>...</td>\n      <td>0.0</td>\n      <td>0.0</td>\n      <td>1.0</td>\n      <td>0.0</td>\n      <td>0.0</td>\n      <td>0.0</td>\n      <td>0.0</td>\n      <td>0</td>\n      <td>0</td>\n      <td>0.6323</td>\n    </tr>\n    <tr>\n      <th>...</th>\n      <td>...</td>\n      <td>...</td>\n      <td>...</td>\n      <td>...</td>\n      <td>...</td>\n      <td>...</td>\n      <td>...</td>\n      <td>...</td>\n      <td>...</td>\n      <td>...</td>\n      <td>...</td>\n      <td>...</td>\n      <td>...</td>\n      <td>...</td>\n      <td>...</td>\n      <td>...</td>\n      <td>...</td>\n      <td>...</td>\n      <td>...</td>\n      <td>...</td>\n      <td>...</td>\n    </tr>\n    <tr>\n      <th>308</th>\n      <td>0.0</td>\n      <td>0.0</td>\n      <td>0.0</td>\n      <td>0.0</td>\n      <td>0.0</td>\n      <td>0.0</td>\n      <td>0.0</td>\n      <td>0.0</td>\n      <td>0.0</td>\n      <td>0.0</td>\n      <td>...</td>\n      <td>0.0</td>\n      <td>0.0</td>\n      <td>1.0</td>\n      <td>0.0</td>\n      <td>0.0</td>\n      <td>0.0</td>\n      <td>0.0</td>\n      <td>1</td>\n      <td>1</td>\n      <td>0.7222</td>\n    </tr>\n    <tr>\n      <th>309</th>\n      <td>0.0</td>\n      <td>0.0</td>\n      <td>0.0</td>\n      <td>0.0</td>\n      <td>0.0</td>\n      <td>0.0</td>\n      <td>0.0</td>\n      <td>0.0</td>\n      <td>0.0</td>\n      <td>0.0</td>\n      <td>...</td>\n      <td>0.0</td>\n      <td>0.0</td>\n      <td>1.0</td>\n      <td>0.0</td>\n      <td>0.0</td>\n      <td>0.0</td>\n      <td>0.0</td>\n      <td>0</td>\n      <td>0</td>\n      <td>0.6323</td>\n    </tr>\n    <tr>\n      <th>310</th>\n      <td>0.0</td>\n      <td>0.0</td>\n      <td>0.0</td>\n      <td>0.0</td>\n      <td>0.0</td>\n      <td>0.0</td>\n      <td>0.0</td>\n      <td>0.0</td>\n      <td>0.0</td>\n      <td>0.0</td>\n      <td>...</td>\n      <td>0.0</td>\n      <td>0.0</td>\n      <td>1.0</td>\n      <td>0.0</td>\n      <td>0.0</td>\n      <td>0.0</td>\n      <td>0.0</td>\n      <td>0</td>\n      <td>0</td>\n      <td>0.7801</td>\n    </tr>\n    <tr>\n      <th>311</th>\n      <td>0.0</td>\n      <td>0.0</td>\n      <td>0.0</td>\n      <td>0.0</td>\n      <td>0.0</td>\n      <td>0.0</td>\n      <td>0.0</td>\n      <td>0.0</td>\n      <td>0.0</td>\n      <td>0.0</td>\n      <td>...</td>\n      <td>0.0</td>\n      <td>0.0</td>\n      <td>1.0</td>\n      <td>0.0</td>\n      <td>0.0</td>\n      <td>0.0</td>\n      <td>0.0</td>\n      <td>0</td>\n      <td>0</td>\n      <td>0.7816</td>\n    </tr>\n    <tr>\n      <th>312</th>\n      <td>0.0</td>\n      <td>0.0</td>\n      <td>0.0</td>\n      <td>0.0</td>\n      <td>0.0</td>\n      <td>0.0</td>\n      <td>0.0</td>\n      <td>0.0</td>\n      <td>0.0</td>\n      <td>0.0</td>\n      <td>...</td>\n      <td>0.0</td>\n      <td>0.0</td>\n      <td>1.0</td>\n      <td>0.0</td>\n      <td>0.0</td>\n      <td>0.0</td>\n      <td>0.0</td>\n      <td>1</td>\n      <td>1</td>\n      <td>0.7222</td>\n    </tr>\n  </tbody>\n</table>\n<p>313 rows × 856 columns</p>\n</div>"
     },
     "execution_count": 19,
     "metadata": {},
     "output_type": "execute_result"
    }
   ],
   "source": [
    "predict_model(melhor_modelo_bagging)"
   ],
   "metadata": {
    "collapsed": false,
    "pycharm": {
     "name": "#%%\n"
    }
   }
  },
  {
   "cell_type": "markdown",
   "source": [
    "## Finalização do modelo\n",
    "\n",
    "A finalização do modelo é a última etapa do experimento. A função finalize_model() ajusta o modelo ao conjunto de dados completo, incluindo a amostra de teste/hold-out (30% neste caso). O objetivo dessa função é treinar o modelo no conjunto de dados completo antes de ser implantado na produção."
   ],
   "metadata": {
    "collapsed": false,
    "pycharm": {
     "name": "#%% md\n"
    }
   }
  },
  {
   "cell_type": "code",
   "execution_count": 20,
   "outputs": [
    {
     "data": {
      "text/plain": "<pandas.io.formats.style.Styler at 0x17f4ca2af10>",
      "text/html": "<style type=\"text/css\">\n</style>\n<table id=\"T_456db\">\n  <thead>\n    <tr>\n      <th class=\"blank level0\" >&nbsp;</th>\n      <th id=\"T_456db_level0_col0\" class=\"col_heading level0 col0\" >Model</th>\n      <th id=\"T_456db_level0_col1\" class=\"col_heading level0 col1\" >Accuracy</th>\n      <th id=\"T_456db_level0_col2\" class=\"col_heading level0 col2\" >AUC</th>\n      <th id=\"T_456db_level0_col3\" class=\"col_heading level0 col3\" >Recall</th>\n      <th id=\"T_456db_level0_col4\" class=\"col_heading level0 col4\" >Prec.</th>\n      <th id=\"T_456db_level0_col5\" class=\"col_heading level0 col5\" >F1</th>\n      <th id=\"T_456db_level0_col6\" class=\"col_heading level0 col6\" >Kappa</th>\n      <th id=\"T_456db_level0_col7\" class=\"col_heading level0 col7\" >MCC</th>\n    </tr>\n  </thead>\n  <tbody>\n    <tr>\n      <th id=\"T_456db_level0_row0\" class=\"row_heading level0 row0\" >0</th>\n      <td id=\"T_456db_row0_col0\" class=\"data row0 col0\" >Ada Boost Classifier</td>\n      <td id=\"T_456db_row0_col1\" class=\"data row0 col1\" >1.0000</td>\n      <td id=\"T_456db_row0_col2\" class=\"data row0 col2\" >1.0000</td>\n      <td id=\"T_456db_row0_col3\" class=\"data row0 col3\" >1.0000</td>\n      <td id=\"T_456db_row0_col4\" class=\"data row0 col4\" >1.0000</td>\n      <td id=\"T_456db_row0_col5\" class=\"data row0 col5\" >1.0000</td>\n      <td id=\"T_456db_row0_col6\" class=\"data row0 col6\" >1.0000</td>\n      <td id=\"T_456db_row0_col7\" class=\"data row0 col7\" >1.0000</td>\n    </tr>\n  </tbody>\n</table>\n"
     },
     "metadata": {},
     "output_type": "display_data"
    },
    {
     "data": {
      "text/plain": "     abracar  acesso  acho  acompanhamento  acontece  acontecera  acordo  \\\n0        0.0     0.0   0.0             0.0       0.0         0.0     0.0   \n1        0.0     0.0   0.0             0.0       0.0         0.0     0.0   \n2        0.0     0.0   0.0             0.0       0.0         0.0     0.0   \n3        0.0     0.0   0.0             0.0       0.0         0.0     0.0   \n4        0.0     0.0   0.0             0.0       0.0         0.0     0.0   \n..       ...     ...   ...             ...       ...         ...     ...   \n308      0.0     0.0   0.0             0.0       0.0         0.0     0.0   \n309      0.0     0.0   0.0             0.0       0.0         0.0     0.0   \n310      0.0     0.0   0.0             0.0       0.0         0.0     0.0   \n311      0.0     0.0   0.0             0.0       0.0         0.0     0.0   \n312      0.0     0.0   0.0             0.0       0.0         0.0     0.0   \n\n     acrescido  aderi  aderir  ...  vantagens_0.8863410949707031  \\\n0          0.0    0.0     0.0  ...                           0.0   \n1          0.0    0.0     0.0  ...                           0.0   \n2          0.0    0.0     0.0  ...                           0.0   \n3          0.0    0.0     0.0  ...                           0.0   \n4          0.0    0.0     0.0  ...                           0.0   \n..         ...    ...     ...  ...                           ...   \n308        0.0    0.0     0.0  ...                           0.0   \n309        0.0    0.0     0.0  ...                           0.0   \n310        0.0    0.0     0.0  ...                           0.0   \n311        0.0    0.0     0.0  ...                           0.0   \n312        0.0    0.0     0.0  ...                           0.0   \n\n     vantajoso_0.8135361075401306  vao_0.0  vem_0.6479084491729736  \\\n0                             0.0      1.0                     0.0   \n1                             0.0      1.0                     0.0   \n2                             0.0      1.0                     0.0   \n3                             0.0      1.0                     0.0   \n4                             0.0      1.0                     0.0   \n..                            ...      ...                     ...   \n308                           0.0      1.0                     0.0   \n309                           0.0      1.0                     0.0   \n310                           0.0      1.0                     0.0   \n311                           0.0      1.0                     0.0   \n312                           0.0      1.0                     0.0   \n\n     vindo_0.5517596006393433  vir_0.42635244131088257  \\\n0                         0.0                      0.0   \n1                         0.0                      0.0   \n2                         0.0                      0.0   \n3                         0.0                      0.0   \n4                         0.0                      0.0   \n..                        ...                      ...   \n308                       0.0                      0.0   \n309                       0.0                      0.0   \n310                       0.0                      0.0   \n311                       0.0                      0.0   \n312                       0.0                      0.0   \n\n     vistorias_0.712486743927002  target_cat  Label   Score  \n0                            0.0           0      0  0.7293  \n1                            0.0           1      1  0.5906  \n2                            0.0           0      0  0.7543  \n3                            0.0           0      0  0.7541  \n4                            0.0           0      0  0.5961  \n..                           ...         ...    ...     ...  \n308                          0.0           1      1  0.7512  \n309                          0.0           0      0  0.5961  \n310                          0.0           0      0  0.7527  \n311                          0.0           0      0  0.7541  \n312                          0.0           1      1  0.7512  \n\n[313 rows x 856 columns]",
      "text/html": "<div>\n<style scoped>\n    .dataframe tbody tr th:only-of-type {\n        vertical-align: middle;\n    }\n\n    .dataframe tbody tr th {\n        vertical-align: top;\n    }\n\n    .dataframe thead th {\n        text-align: right;\n    }\n</style>\n<table border=\"1\" class=\"dataframe\">\n  <thead>\n    <tr style=\"text-align: right;\">\n      <th></th>\n      <th>abracar</th>\n      <th>acesso</th>\n      <th>acho</th>\n      <th>acompanhamento</th>\n      <th>acontece</th>\n      <th>acontecera</th>\n      <th>acordo</th>\n      <th>acrescido</th>\n      <th>aderi</th>\n      <th>aderir</th>\n      <th>...</th>\n      <th>vantagens_0.8863410949707031</th>\n      <th>vantajoso_0.8135361075401306</th>\n      <th>vao_0.0</th>\n      <th>vem_0.6479084491729736</th>\n      <th>vindo_0.5517596006393433</th>\n      <th>vir_0.42635244131088257</th>\n      <th>vistorias_0.712486743927002</th>\n      <th>target_cat</th>\n      <th>Label</th>\n      <th>Score</th>\n    </tr>\n  </thead>\n  <tbody>\n    <tr>\n      <th>0</th>\n      <td>0.0</td>\n      <td>0.0</td>\n      <td>0.0</td>\n      <td>0.0</td>\n      <td>0.0</td>\n      <td>0.0</td>\n      <td>0.0</td>\n      <td>0.0</td>\n      <td>0.0</td>\n      <td>0.0</td>\n      <td>...</td>\n      <td>0.0</td>\n      <td>0.0</td>\n      <td>1.0</td>\n      <td>0.0</td>\n      <td>0.0</td>\n      <td>0.0</td>\n      <td>0.0</td>\n      <td>0</td>\n      <td>0</td>\n      <td>0.7293</td>\n    </tr>\n    <tr>\n      <th>1</th>\n      <td>0.0</td>\n      <td>0.0</td>\n      <td>0.0</td>\n      <td>0.0</td>\n      <td>0.0</td>\n      <td>0.0</td>\n      <td>0.0</td>\n      <td>0.0</td>\n      <td>0.0</td>\n      <td>0.0</td>\n      <td>...</td>\n      <td>0.0</td>\n      <td>0.0</td>\n      <td>1.0</td>\n      <td>0.0</td>\n      <td>0.0</td>\n      <td>0.0</td>\n      <td>0.0</td>\n      <td>1</td>\n      <td>1</td>\n      <td>0.5906</td>\n    </tr>\n    <tr>\n      <th>2</th>\n      <td>0.0</td>\n      <td>0.0</td>\n      <td>0.0</td>\n      <td>0.0</td>\n      <td>0.0</td>\n      <td>0.0</td>\n      <td>0.0</td>\n      <td>0.0</td>\n      <td>0.0</td>\n      <td>0.0</td>\n      <td>...</td>\n      <td>0.0</td>\n      <td>0.0</td>\n      <td>1.0</td>\n      <td>0.0</td>\n      <td>0.0</td>\n      <td>0.0</td>\n      <td>0.0</td>\n      <td>0</td>\n      <td>0</td>\n      <td>0.7543</td>\n    </tr>\n    <tr>\n      <th>3</th>\n      <td>0.0</td>\n      <td>0.0</td>\n      <td>0.0</td>\n      <td>0.0</td>\n      <td>0.0</td>\n      <td>0.0</td>\n      <td>0.0</td>\n      <td>0.0</td>\n      <td>0.0</td>\n      <td>0.0</td>\n      <td>...</td>\n      <td>0.0</td>\n      <td>0.0</td>\n      <td>1.0</td>\n      <td>0.0</td>\n      <td>0.0</td>\n      <td>0.0</td>\n      <td>0.0</td>\n      <td>0</td>\n      <td>0</td>\n      <td>0.7541</td>\n    </tr>\n    <tr>\n      <th>4</th>\n      <td>0.0</td>\n      <td>0.0</td>\n      <td>0.0</td>\n      <td>0.0</td>\n      <td>0.0</td>\n      <td>0.0</td>\n      <td>0.0</td>\n      <td>0.0</td>\n      <td>0.0</td>\n      <td>0.0</td>\n      <td>...</td>\n      <td>0.0</td>\n      <td>0.0</td>\n      <td>1.0</td>\n      <td>0.0</td>\n      <td>0.0</td>\n      <td>0.0</td>\n      <td>0.0</td>\n      <td>0</td>\n      <td>0</td>\n      <td>0.5961</td>\n    </tr>\n    <tr>\n      <th>...</th>\n      <td>...</td>\n      <td>...</td>\n      <td>...</td>\n      <td>...</td>\n      <td>...</td>\n      <td>...</td>\n      <td>...</td>\n      <td>...</td>\n      <td>...</td>\n      <td>...</td>\n      <td>...</td>\n      <td>...</td>\n      <td>...</td>\n      <td>...</td>\n      <td>...</td>\n      <td>...</td>\n      <td>...</td>\n      <td>...</td>\n      <td>...</td>\n      <td>...</td>\n      <td>...</td>\n    </tr>\n    <tr>\n      <th>308</th>\n      <td>0.0</td>\n      <td>0.0</td>\n      <td>0.0</td>\n      <td>0.0</td>\n      <td>0.0</td>\n      <td>0.0</td>\n      <td>0.0</td>\n      <td>0.0</td>\n      <td>0.0</td>\n      <td>0.0</td>\n      <td>...</td>\n      <td>0.0</td>\n      <td>0.0</td>\n      <td>1.0</td>\n      <td>0.0</td>\n      <td>0.0</td>\n      <td>0.0</td>\n      <td>0.0</td>\n      <td>1</td>\n      <td>1</td>\n      <td>0.7512</td>\n    </tr>\n    <tr>\n      <th>309</th>\n      <td>0.0</td>\n      <td>0.0</td>\n      <td>0.0</td>\n      <td>0.0</td>\n      <td>0.0</td>\n      <td>0.0</td>\n      <td>0.0</td>\n      <td>0.0</td>\n      <td>0.0</td>\n      <td>0.0</td>\n      <td>...</td>\n      <td>0.0</td>\n      <td>0.0</td>\n      <td>1.0</td>\n      <td>0.0</td>\n      <td>0.0</td>\n      <td>0.0</td>\n      <td>0.0</td>\n      <td>0</td>\n      <td>0</td>\n      <td>0.5961</td>\n    </tr>\n    <tr>\n      <th>310</th>\n      <td>0.0</td>\n      <td>0.0</td>\n      <td>0.0</td>\n      <td>0.0</td>\n      <td>0.0</td>\n      <td>0.0</td>\n      <td>0.0</td>\n      <td>0.0</td>\n      <td>0.0</td>\n      <td>0.0</td>\n      <td>...</td>\n      <td>0.0</td>\n      <td>0.0</td>\n      <td>1.0</td>\n      <td>0.0</td>\n      <td>0.0</td>\n      <td>0.0</td>\n      <td>0.0</td>\n      <td>0</td>\n      <td>0</td>\n      <td>0.7527</td>\n    </tr>\n    <tr>\n      <th>311</th>\n      <td>0.0</td>\n      <td>0.0</td>\n      <td>0.0</td>\n      <td>0.0</td>\n      <td>0.0</td>\n      <td>0.0</td>\n      <td>0.0</td>\n      <td>0.0</td>\n      <td>0.0</td>\n      <td>0.0</td>\n      <td>...</td>\n      <td>0.0</td>\n      <td>0.0</td>\n      <td>1.0</td>\n      <td>0.0</td>\n      <td>0.0</td>\n      <td>0.0</td>\n      <td>0.0</td>\n      <td>0</td>\n      <td>0</td>\n      <td>0.7541</td>\n    </tr>\n    <tr>\n      <th>312</th>\n      <td>0.0</td>\n      <td>0.0</td>\n      <td>0.0</td>\n      <td>0.0</td>\n      <td>0.0</td>\n      <td>0.0</td>\n      <td>0.0</td>\n      <td>0.0</td>\n      <td>0.0</td>\n      <td>0.0</td>\n      <td>...</td>\n      <td>0.0</td>\n      <td>0.0</td>\n      <td>1.0</td>\n      <td>0.0</td>\n      <td>0.0</td>\n      <td>0.0</td>\n      <td>0.0</td>\n      <td>1</td>\n      <td>1</td>\n      <td>0.7512</td>\n    </tr>\n  </tbody>\n</table>\n<p>313 rows × 856 columns</p>\n</div>"
     },
     "execution_count": 20,
     "metadata": {},
     "output_type": "execute_result"
    }
   ],
   "source": [
    "modelo_final = finalize_model(melhor_modelo_bagging)\n",
    "predict_model(modelo_final)"
   ],
   "metadata": {
    "collapsed": false,
    "pycharm": {
     "name": "#%%\n"
    }
   }
  },
  {
   "cell_type": "markdown",
   "source": [
    "## Salvando o modelo final\n",
    "\n",
    "Agora terminamos o experimento finalizando o modelo que agora está armazenado na variável 'modelo_final'.\n",
    "\n",
    "Nosso modelo final pode ser descrito como:\n",
    "\n",
    "Também usamos o modelo armazenado em final_rf para prever data_unseen. Isso nos leva ao final de nosso experimento, mas uma pergunta ainda deve ser feita: o que acontece quando você tem mais dados novos para prever? Você tem que passar por todo o experimento novamente? A resposta é não, a função embutida do PyCaret save_model() permite que você salve o modelo junto com todo o pipeline de transformação para uso posterior."
   ],
   "metadata": {
    "collapsed": false,
    "pycharm": {
     "name": "#%% md\n"
    }
   }
  },
  {
   "cell_type": "code",
   "execution_count": 21,
   "outputs": [
    {
     "name": "stdout",
     "output_type": "stream",
     "text": [
      "Transformation Pipeline and Model Successfully Saved\n"
     ]
    },
    {
     "data": {
      "text/plain": "(Pipeline(memory=None,\n          steps=[('dtypes',\n                  DataTypes_Auto_infer(categorical_features=[],\n                                       display_types=False, features_todrop=[],\n                                       id_columns=[],\n                                       ml_usecase='classification',\n                                       numerical_features=[],\n                                       target='target_cat', time_features=[])),\n                 ('imputer',\n                  Simple_Imputer(categorical_strategy='not_available',\n                                 fill_value_categorical=None,\n                                 fill_value_numerical=None,\n                                 numeric_...\n                 ('dummy', Dummify(target='target_cat')),\n                 ('fix_perfect', Remove_100(target='target_cat')),\n                 ('clean_names', Clean_Colum_Names()),\n                 ('feature_select', 'passthrough'), ('fix_multi', 'passthrough'),\n                 ('dfs', 'passthrough'), ('pca', 'passthrough'),\n                 ['trained_model',\n                  AdaBoostClassifier(algorithm='SAMME.R', base_estimator=None,\n                                     learning_rate=1.0, n_estimators=50,\n                                     random_state=20221)]],\n          verbose=False),\n 'models/20220912-modelo-final-covid-ada.pkl')"
     },
     "execution_count": 21,
     "metadata": {},
     "output_type": "execute_result"
    }
   ],
   "source": [
    "save_model(modelo_final,'models/20220912-modelo-final-covid-ada')"
   ],
   "metadata": {
    "collapsed": false,
    "pycharm": {
     "name": "#%%\n"
    }
   }
  },
  {
   "cell_type": "code",
   "execution_count": null,
   "outputs": [],
   "source": [],
   "metadata": {
    "collapsed": false,
    "pycharm": {
     "name": "#%%\n"
    }
   }
  }
 ],
 "metadata": {
  "kernelspec": {
   "display_name": "Python 3.8.13 ('chatbot_env')",
   "language": "python",
   "name": "python3"
  },
  "language_info": {
   "codemirror_mode": {
    "name": "ipython",
    "version": 3
   },
   "file_extension": ".py",
   "mimetype": "text/x-python",
   "name": "python",
   "nbconvert_exporter": "python",
   "pygments_lexer": "ipython3",
   "version": "3.8.13"
  },
  "orig_nbformat": 4,
  "vscode": {
   "interpreter": {
    "hash": "b31d2b12a8e3fd9c881a5a24e7147d0c74845586ee91bf16f1bd9f2a67f59324"
   }
  }
 },
 "nbformat": 4,
 "nbformat_minor": 2
}